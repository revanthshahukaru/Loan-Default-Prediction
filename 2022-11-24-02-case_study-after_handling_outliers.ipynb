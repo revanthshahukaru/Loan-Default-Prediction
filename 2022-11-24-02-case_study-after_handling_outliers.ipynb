{
 "cells": [
  {
   "cell_type": "markdown",
   "id": "939388c6",
   "metadata": {},
   "source": [
    "## Importing the necessary libraries"
   ]
  },
  {
   "cell_type": "code",
   "execution_count": 1,
   "id": "6c993d3a",
   "metadata": {},
   "outputs": [],
   "source": [
    "import numpy as np\n",
    "import pandas as pd\n",
    "import matplotlib.pyplot as plt\n",
    "import seaborn as sns"
   ]
  },
  {
   "cell_type": "markdown",
   "id": "c9753388",
   "metadata": {},
   "source": [
    "### Business Understanding\n",
    "\n",
    "Financial markets are fundamental institutions in any developing economy. They play a crucial role in promoting economic growth by facilitating the channeling of saving decisions into productive investment. A major concern for financial institutions is credit risk, because if not managed properly, it can lead to a banking collapse. \n",
    "\n",
    "In our banking system, banks have many products to sell but the main source of income of any bank is on its credit line. Loan is the core business part of banks. A bank's profit or a loss depends to a large extent on loans i.e. whether the customers are paying back the loan or defaulting. \n",
    "\n",
    "Though a lot of people are applying for loans. However, they may have some difficulty in repaying the loan, due to their own capability to repay loan, their personal monetary terms, etc.. It’s hard to select the genuine applicant, who will repay the loan. While doing the process manually, a lot of misconception may happen to select the genuine applicant. The banks hold the risk of losing the amount loaned to the borrowers, which is basically regarded as \"Credit risk\". \n",
    "\n",
    "Credit risk is the potential that a bank’s borrower or counterparty fails to meet its obligations in repaying the loan borrowed from the financial institutions (\"banks\").\n",
    "\n",
    "By predicting the loan defaulters, the bank can reduce its Non-Performing Assets. This makes the study of this phenomenon very important. \n",
    "\n",
    "Thus, the banks need to manage the credit risks in their portfolio both at the individual borrower and transactional level, as well as to consider the linkage between credit risks and other types of risk. This is because these are criteria to assess the success/failure of any banking lending activities.\n",
    "\n",
    "Many research confirmed that machine learning technology is highly efficient to predict this situation. This technique is applied through learning from previous data.\n"
   ]
  },
  {
   "cell_type": "markdown",
   "id": "65036e5b",
   "metadata": {},
   "source": [
    "# 1. Defining the Problem Statement"
   ]
  },
  {
   "cell_type": "markdown",
   "id": "0c52c072",
   "metadata": {},
   "source": [
    "To summarize the above _Business Understanding_ into a way that helps in defining the problem statement,\n",
    "\n",
    "It would be highly beneficial to a bank if they know which customer can repay the loan and which customer is likely to default the loan amount. This would help the bank in making the decision to give a loan to that customer or not."
   ]
  },
  {
   "cell_type": "markdown",
   "id": "c57c9b5b",
   "metadata": {},
   "source": [
    "**The problem statement:**\n",
    "- Predict which customer will default the loan and which customer will not default the loan\n",
    "\n",
    "**Target Variable:** \n",
    "- `loan_status` - Categorical\n",
    "\n",
    "**Type of problem:** \n",
    "- `Supervised Learning` - Target variable is defined\n",
    "\n",
    "**Task:** \n",
    "- `Classification`\n",
    "\n",
    "**Evaluation Metrics:**\n",
    "- `Accuracy`"
   ]
  },
  {
   "cell_type": "markdown",
   "id": "53688a96",
   "metadata": {},
   "source": [
    "# 2. Cleaning the data"
   ]
  },
  {
   "cell_type": "markdown",
   "id": "7160a0bb",
   "metadata": {},
   "source": [
    "### Loading the data"
   ]
  },
  {
   "cell_type": "code",
   "execution_count": 2,
   "id": "07446c1e",
   "metadata": {
    "scrolled": false
   },
   "outputs": [
    {
     "data": {
      "text/html": [
       "<div>\n",
       "<style scoped>\n",
       "    .dataframe tbody tr th:only-of-type {\n",
       "        vertical-align: middle;\n",
       "    }\n",
       "\n",
       "    .dataframe tbody tr th {\n",
       "        vertical-align: top;\n",
       "    }\n",
       "\n",
       "    .dataframe thead th {\n",
       "        text-align: right;\n",
       "    }\n",
       "</style>\n",
       "<table border=\"1\" class=\"dataframe\">\n",
       "  <thead>\n",
       "    <tr style=\"text-align: right;\">\n",
       "      <th></th>\n",
       "      <th>person_age</th>\n",
       "      <th>person_income</th>\n",
       "      <th>person_home_ownership</th>\n",
       "      <th>person_emp_length</th>\n",
       "      <th>loan_intent</th>\n",
       "      <th>loan_grade</th>\n",
       "      <th>loan_amnt</th>\n",
       "      <th>loan_int_rate</th>\n",
       "      <th>loan_status</th>\n",
       "      <th>loan_percent_income</th>\n",
       "      <th>cb_person_default_on_file</th>\n",
       "      <th>cb_person_cred_hist_length</th>\n",
       "    </tr>\n",
       "  </thead>\n",
       "  <tbody>\n",
       "    <tr>\n",
       "      <th>0</th>\n",
       "      <td>22</td>\n",
       "      <td>59000</td>\n",
       "      <td>RENT</td>\n",
       "      <td>123.0</td>\n",
       "      <td>PERSONAL</td>\n",
       "      <td>D</td>\n",
       "      <td>35000</td>\n",
       "      <td>16.02</td>\n",
       "      <td>1</td>\n",
       "      <td>0.59</td>\n",
       "      <td>Y</td>\n",
       "      <td>3</td>\n",
       "    </tr>\n",
       "    <tr>\n",
       "      <th>1</th>\n",
       "      <td>21</td>\n",
       "      <td>9600</td>\n",
       "      <td>OWN</td>\n",
       "      <td>5.0</td>\n",
       "      <td>EDUCATION</td>\n",
       "      <td>B</td>\n",
       "      <td>1000</td>\n",
       "      <td>11.14</td>\n",
       "      <td>0</td>\n",
       "      <td>0.10</td>\n",
       "      <td>N</td>\n",
       "      <td>2</td>\n",
       "    </tr>\n",
       "    <tr>\n",
       "      <th>2</th>\n",
       "      <td>25</td>\n",
       "      <td>9600</td>\n",
       "      <td>MORTGAGE</td>\n",
       "      <td>1.0</td>\n",
       "      <td>MEDICAL</td>\n",
       "      <td>C</td>\n",
       "      <td>5500</td>\n",
       "      <td>12.87</td>\n",
       "      <td>1</td>\n",
       "      <td>0.57</td>\n",
       "      <td>N</td>\n",
       "      <td>3</td>\n",
       "    </tr>\n",
       "    <tr>\n",
       "      <th>3</th>\n",
       "      <td>23</td>\n",
       "      <td>65500</td>\n",
       "      <td>RENT</td>\n",
       "      <td>4.0</td>\n",
       "      <td>MEDICAL</td>\n",
       "      <td>C</td>\n",
       "      <td>35000</td>\n",
       "      <td>15.23</td>\n",
       "      <td>1</td>\n",
       "      <td>0.53</td>\n",
       "      <td>N</td>\n",
       "      <td>2</td>\n",
       "    </tr>\n",
       "    <tr>\n",
       "      <th>4</th>\n",
       "      <td>24</td>\n",
       "      <td>54400</td>\n",
       "      <td>RENT</td>\n",
       "      <td>8.0</td>\n",
       "      <td>MEDICAL</td>\n",
       "      <td>C</td>\n",
       "      <td>35000</td>\n",
       "      <td>14.27</td>\n",
       "      <td>1</td>\n",
       "      <td>0.55</td>\n",
       "      <td>Y</td>\n",
       "      <td>4</td>\n",
       "    </tr>\n",
       "  </tbody>\n",
       "</table>\n",
       "</div>"
      ],
      "text/plain": [
       "   person_age  person_income person_home_ownership  person_emp_length  \\\n",
       "0          22          59000                  RENT              123.0   \n",
       "1          21           9600                   OWN                5.0   \n",
       "2          25           9600              MORTGAGE                1.0   \n",
       "3          23          65500                  RENT                4.0   \n",
       "4          24          54400                  RENT                8.0   \n",
       "\n",
       "  loan_intent loan_grade  loan_amnt  loan_int_rate  loan_status  \\\n",
       "0    PERSONAL          D      35000          16.02            1   \n",
       "1   EDUCATION          B       1000          11.14            0   \n",
       "2     MEDICAL          C       5500          12.87            1   \n",
       "3     MEDICAL          C      35000          15.23            1   \n",
       "4     MEDICAL          C      35000          14.27            1   \n",
       "\n",
       "   loan_percent_income cb_person_default_on_file  cb_person_cred_hist_length  \n",
       "0                 0.59                         Y                           3  \n",
       "1                 0.10                         N                           2  \n",
       "2                 0.57                         N                           3  \n",
       "3                 0.53                         N                           2  \n",
       "4                 0.55                         Y                           4  "
      ]
     },
     "execution_count": 2,
     "metadata": {},
     "output_type": "execute_result"
    }
   ],
   "source": [
    "df = pd.read_csv('credit_risk_dataset.csv')\n",
    "\n",
    "df.head()"
   ]
  },
  {
   "cell_type": "markdown",
   "id": "bdf84de4",
   "metadata": {},
   "source": [
    "### Handling Missing values"
   ]
  },
  {
   "cell_type": "code",
   "execution_count": 3,
   "id": "a0bc7b83",
   "metadata": {},
   "outputs": [
    {
     "data": {
      "text/plain": [
       "(32581, 12)"
      ]
     },
     "execution_count": 3,
     "metadata": {},
     "output_type": "execute_result"
    }
   ],
   "source": [
    "df.shape"
   ]
  },
  {
   "cell_type": "code",
   "execution_count": 4,
   "id": "8a613332",
   "metadata": {},
   "outputs": [
    {
     "data": {
      "text/plain": [
       "person_age                       0\n",
       "person_income                    0\n",
       "person_home_ownership            0\n",
       "person_emp_length              895\n",
       "loan_intent                      0\n",
       "loan_grade                       0\n",
       "loan_amnt                        0\n",
       "loan_int_rate                 3116\n",
       "loan_status                      0\n",
       "loan_percent_income              0\n",
       "cb_person_default_on_file        0\n",
       "cb_person_cred_hist_length       0\n",
       "dtype: int64"
      ]
     },
     "execution_count": 4,
     "metadata": {},
     "output_type": "execute_result"
    }
   ],
   "source": [
    "df.isnull().sum()"
   ]
  },
  {
   "cell_type": "code",
   "execution_count": 5,
   "id": "2633e130",
   "metadata": {},
   "outputs": [
    {
     "data": {
      "text/html": [
       "<div>\n",
       "<style scoped>\n",
       "    .dataframe tbody tr th:only-of-type {\n",
       "        vertical-align: middle;\n",
       "    }\n",
       "\n",
       "    .dataframe tbody tr th {\n",
       "        vertical-align: top;\n",
       "    }\n",
       "\n",
       "    .dataframe thead th {\n",
       "        text-align: right;\n",
       "    }\n",
       "</style>\n",
       "<table border=\"1\" class=\"dataframe\">\n",
       "  <thead>\n",
       "    <tr style=\"text-align: right;\">\n",
       "      <th></th>\n",
       "      <th>person_age</th>\n",
       "      <th>person_income</th>\n",
       "      <th>person_home_ownership</th>\n",
       "      <th>person_emp_length</th>\n",
       "      <th>loan_intent</th>\n",
       "      <th>loan_grade</th>\n",
       "      <th>loan_amnt</th>\n",
       "      <th>loan_int_rate</th>\n",
       "      <th>loan_status</th>\n",
       "      <th>loan_percent_income</th>\n",
       "      <th>cb_person_default_on_file</th>\n",
       "      <th>cb_person_cred_hist_length</th>\n",
       "    </tr>\n",
       "  </thead>\n",
       "  <tbody>\n",
       "    <tr>\n",
       "      <th>28633</th>\n",
       "      <td>57</td>\n",
       "      <td>53000</td>\n",
       "      <td>MORTGAGE</td>\n",
       "      <td>1.0</td>\n",
       "      <td>PERSONAL</td>\n",
       "      <td>C</td>\n",
       "      <td>5800</td>\n",
       "      <td>13.16</td>\n",
       "      <td>0</td>\n",
       "      <td>0.11</td>\n",
       "      <td>N</td>\n",
       "      <td>30</td>\n",
       "    </tr>\n",
       "    <tr>\n",
       "      <th>28634</th>\n",
       "      <td>54</td>\n",
       "      <td>120000</td>\n",
       "      <td>MORTGAGE</td>\n",
       "      <td>4.0</td>\n",
       "      <td>PERSONAL</td>\n",
       "      <td>A</td>\n",
       "      <td>17625</td>\n",
       "      <td>7.49</td>\n",
       "      <td>0</td>\n",
       "      <td>0.15</td>\n",
       "      <td>N</td>\n",
       "      <td>19</td>\n",
       "    </tr>\n",
       "    <tr>\n",
       "      <th>28635</th>\n",
       "      <td>65</td>\n",
       "      <td>76000</td>\n",
       "      <td>RENT</td>\n",
       "      <td>3.0</td>\n",
       "      <td>HOMEIMPROVEMENT</td>\n",
       "      <td>B</td>\n",
       "      <td>35000</td>\n",
       "      <td>10.99</td>\n",
       "      <td>1</td>\n",
       "      <td>0.46</td>\n",
       "      <td>N</td>\n",
       "      <td>28</td>\n",
       "    </tr>\n",
       "    <tr>\n",
       "      <th>28636</th>\n",
       "      <td>56</td>\n",
       "      <td>150000</td>\n",
       "      <td>MORTGAGE</td>\n",
       "      <td>5.0</td>\n",
       "      <td>PERSONAL</td>\n",
       "      <td>B</td>\n",
       "      <td>15000</td>\n",
       "      <td>11.48</td>\n",
       "      <td>0</td>\n",
       "      <td>0.10</td>\n",
       "      <td>N</td>\n",
       "      <td>26</td>\n",
       "    </tr>\n",
       "    <tr>\n",
       "      <th>28637</th>\n",
       "      <td>66</td>\n",
       "      <td>42000</td>\n",
       "      <td>RENT</td>\n",
       "      <td>2.0</td>\n",
       "      <td>MEDICAL</td>\n",
       "      <td>B</td>\n",
       "      <td>6475</td>\n",
       "      <td>9.99</td>\n",
       "      <td>0</td>\n",
       "      <td>0.15</td>\n",
       "      <td>N</td>\n",
       "      <td>30</td>\n",
       "    </tr>\n",
       "  </tbody>\n",
       "</table>\n",
       "</div>"
      ],
      "text/plain": [
       "       person_age  person_income person_home_ownership  person_emp_length  \\\n",
       "28633          57          53000              MORTGAGE                1.0   \n",
       "28634          54         120000              MORTGAGE                4.0   \n",
       "28635          65          76000                  RENT                3.0   \n",
       "28636          56         150000              MORTGAGE                5.0   \n",
       "28637          66          42000                  RENT                2.0   \n",
       "\n",
       "           loan_intent loan_grade  loan_amnt  loan_int_rate  loan_status  \\\n",
       "28633         PERSONAL          C       5800          13.16            0   \n",
       "28634         PERSONAL          A      17625           7.49            0   \n",
       "28635  HOMEIMPROVEMENT          B      35000          10.99            1   \n",
       "28636         PERSONAL          B      15000          11.48            0   \n",
       "28637          MEDICAL          B       6475           9.99            0   \n",
       "\n",
       "       loan_percent_income cb_person_default_on_file  \\\n",
       "28633                 0.11                         N   \n",
       "28634                 0.15                         N   \n",
       "28635                 0.46                         N   \n",
       "28636                 0.10                         N   \n",
       "28637                 0.15                         N   \n",
       "\n",
       "       cb_person_cred_hist_length  \n",
       "28633                          30  \n",
       "28634                          19  \n",
       "28635                          28  \n",
       "28636                          26  \n",
       "28637                          30  "
      ]
     },
     "execution_count": 5,
     "metadata": {},
     "output_type": "execute_result"
    }
   ],
   "source": [
    "#instead of imputing, let's drop the null value rows– for simplicity sake and for accuracy\n",
    "\n",
    "df = df.dropna()\n",
    "df = df.reset_index(drop=True)\n",
    "df.tail()"
   ]
  },
  {
   "cell_type": "code",
   "execution_count": 6,
   "id": "4a5ab5c8",
   "metadata": {},
   "outputs": [
    {
     "data": {
      "text/plain": [
       "(28638, 12)"
      ]
     },
     "execution_count": 6,
     "metadata": {},
     "output_type": "execute_result"
    }
   ],
   "source": [
    "df.shape"
   ]
  },
  {
   "cell_type": "code",
   "execution_count": 7,
   "id": "eb8972bf",
   "metadata": {
    "scrolled": true
   },
   "outputs": [
    {
     "data": {
      "text/plain": [
       "person_age                    0\n",
       "person_income                 0\n",
       "person_home_ownership         0\n",
       "person_emp_length             0\n",
       "loan_intent                   0\n",
       "loan_grade                    0\n",
       "loan_amnt                     0\n",
       "loan_int_rate                 0\n",
       "loan_status                   0\n",
       "loan_percent_income           0\n",
       "cb_person_default_on_file     0\n",
       "cb_person_cred_hist_length    0\n",
       "dtype: int64"
      ]
     },
     "execution_count": 7,
     "metadata": {},
     "output_type": "execute_result"
    }
   ],
   "source": [
    "df.isnull().sum()"
   ]
  },
  {
   "cell_type": "markdown",
   "id": "a2a8a2cd",
   "metadata": {},
   "source": [
    "### Handling Outliers"
   ]
  },
  {
   "cell_type": "markdown",
   "id": "e1717f1b",
   "metadata": {},
   "source": [
    "* **The minimum**: the lowest value excluding outliers (calculated according to the IQR proximity rule)\n",
    "* **The maximum**: the largest value excluding outliers (calculated according to the IQR proximity rule)\n",
    "* **The median (Q2)**: the midpoint of the distribution\n",
    "* **The first quartile (Q1)**: the midpoint of the lower half of the data set\n",
    "* **The third quartile (Q3)**: the midpoint of the upper half of the data set"
   ]
  },
  {
   "attachments": {
    "boxplot_anatomy.png": {
     "image/png": "[encoded data removed]"
    }
   },
   "cell_type": "markdown",
   "id": "0b40228a",
   "metadata": {},
   "source": [
    "![boxplot_anatomy.png](attachment:boxplot_anatomy.png)"
   ]
  },
  {
   "cell_type": "code",
   "execution_count": 8,
   "id": "5fd3935e",
   "metadata": {},
   "outputs": [
    {
     "name": "stderr",
     "output_type": "stream",
     "text": [
      "/Users/revanthshahukaru/opt/anaconda3/lib/python3.9/site-packages/seaborn/_decorators.py:36: FutureWarning: Pass the following variable as a keyword arg: x. From version 0.12, the only valid positional argument will be `data`, and passing other arguments without an explicit keyword will result in an error or misinterpretation.\n",
      "  warnings.warn(\n"
     ]
    },
    {
     "data": {
      "image/png": "[encoded data removed]",
      "text/plain": [
       "<Figure size 432x288 with 1 Axes>"
      ]
     },
     "metadata": {
      "needs_background": "light"
     },
     "output_type": "display_data"
    }
   ],
   "source": [
    "sns.boxplot(df.person_income);"
   ]
  },
  {
   "cell_type": "code",
   "execution_count": 9,
   "id": "c9f0341f",
   "metadata": {
    "scrolled": true
   },
   "outputs": [
    {
     "name": "stderr",
     "output_type": "stream",
     "text": [
      "/Users/revanthshahukaru/opt/anaconda3/lib/python3.9/site-packages/seaborn/_decorators.py:36: FutureWarning: Pass the following variable as a keyword arg: x. From version 0.12, the only valid positional argument will be `data`, and passing other arguments without an explicit keyword will result in an error or misinterpretation.\n",
      "  warnings.warn(\n"
     ]
    },
    {
     "data": {
      "image/png": "[encoded data removed]",
      "text/plain": [
       "<Figure size 432x288 with 1 Axes>"
      ]
     },
     "metadata": {
      "needs_background": "light"
     },
     "output_type": "display_data"
    }
   ],
   "source": [
    "sns.boxplot(df.loan_amnt);"
   ]
  },
  {
   "cell_type": "code",
   "execution_count": 10,
   "id": "fcb6220c",
   "metadata": {
    "scrolled": true
   },
   "outputs": [
    {
     "name": "stderr",
     "output_type": "stream",
     "text": [
      "/Users/revanthshahukaru/opt/anaconda3/lib/python3.9/site-packages/seaborn/_decorators.py:36: FutureWarning: Pass the following variable as a keyword arg: x. From version 0.12, the only valid positional argument will be `data`, and passing other arguments without an explicit keyword will result in an error or misinterpretation.\n",
      "  warnings.warn(\n"
     ]
    },
    {
     "data": {
      "image/png": "[encoded data removed]",
      "text/plain": [
       "<Figure size 432x288 with 1 Axes>"
      ]
     },
     "metadata": {
      "needs_background": "light"
     },
     "output_type": "display_data"
    }
   ],
   "source": [
    "sns.boxplot(df.loan_int_rate);"
   ]
  },
  {
   "cell_type": "code",
   "execution_count": 11,
   "id": "2d726d29",
   "metadata": {
    "scrolled": true
   },
   "outputs": [
    {
     "name": "stderr",
     "output_type": "stream",
     "text": [
      "/Users/revanthshahukaru/opt/anaconda3/lib/python3.9/site-packages/seaborn/_decorators.py:36: FutureWarning: Pass the following variable as a keyword arg: x. From version 0.12, the only valid positional argument will be `data`, and passing other arguments without an explicit keyword will result in an error or misinterpretation.\n",
      "  warnings.warn(\n"
     ]
    },
    {
     "data": {
      "image/png": "[encoded data removed]",
      "text/plain": [
       "<Figure size 432x288 with 1 Axes>"
      ]
     },
     "metadata": {
      "needs_background": "light"
     },
     "output_type": "display_data"
    }
   ],
   "source": [
    "sns.boxplot(df.loan_percent_income);"
   ]
  },
  {
   "cell_type": "code",
   "execution_count": 12,
   "id": "b6b0b71e",
   "metadata": {},
   "outputs": [
    {
     "name": "stderr",
     "output_type": "stream",
     "text": [
      "/Users/revanthshahukaru/opt/anaconda3/lib/python3.9/site-packages/seaborn/_decorators.py:36: FutureWarning: Pass the following variable as a keyword arg: x. From version 0.12, the only valid positional argument will be `data`, and passing other arguments without an explicit keyword will result in an error or misinterpretation.\n",
      "  warnings.warn(\n"
     ]
    },
    {
     "data": {
      "image/png": "[encoded data removed]",
      "text/plain": [
       "<Figure size 432x288 with 1 Axes>"
      ]
     },
     "metadata": {
      "needs_background": "light"
     },
     "output_type": "display_data"
    }
   ],
   "source": [
    "sns.boxplot(df.cb_person_cred_hist_length);"
   ]
  },
  {
   "cell_type": "code",
   "execution_count": 13,
   "id": "2529cb28",
   "metadata": {},
   "outputs": [
    {
     "name": "stderr",
     "output_type": "stream",
     "text": [
      "/Users/revanthshahukaru/opt/anaconda3/lib/python3.9/site-packages/seaborn/_decorators.py:36: FutureWarning: Pass the following variable as a keyword arg: x. From version 0.12, the only valid positional argument will be `data`, and passing other arguments without an explicit keyword will result in an error or misinterpretation.\n",
      "  warnings.warn(\n"
     ]
    },
    {
     "data": {
      "image/png": "[encoded data removed]",
      "text/plain": [
       "<Figure size 432x288 with 1 Axes>"
      ]
     },
     "metadata": {
      "needs_background": "light"
     },
     "output_type": "display_data"
    }
   ],
   "source": [
    "sns.boxplot(df.person_emp_length);"
   ]
  },
  {
   "cell_type": "markdown",
   "id": "9c076e2d",
   "metadata": {},
   "source": [
    "_In this notebook, we're going to find the accuracy **after handling the outliers**_"
   ]
  },
  {
   "cell_type": "markdown",
   "id": "fd731391",
   "metadata": {},
   "source": [
    "## Winsorization"
   ]
  },
  {
   "cell_type": "code",
   "execution_count": 14,
   "id": "c24b99d4",
   "metadata": {},
   "outputs": [],
   "source": [
    "from scipy import stats"
   ]
  },
  {
   "cell_type": "markdown",
   "id": "21896a0b",
   "metadata": {},
   "source": [
    "The outliers are mostly in the columns–\n",
    "- person_income\n",
    "- loan_amnt\n",
    "- loan_int_rate\n",
    "- loan_percent_income\n",
    "- cb_person_cred_hist_length\n",
    "- person_emp_length"
   ]
  },
  {
   "cell_type": "code",
   "execution_count": 15,
   "id": "351fc916",
   "metadata": {},
   "outputs": [],
   "source": [
    "outlier_list = ['person_income', 'loan_amnt', 'loan_int_rate', 'loan_percent_income', 'cb_person_cred_hist_length', 'person_emp_length']\n",
    "\n",
    "for x in outlier_list:\n",
    "    stats.mstats.winsorize(a=df[x], limits=(0.01,0.01), inplace=True)\n",
    "    # limits (x,y)\n",
    "    # x is 100 minus 1 i.e, 99 percentile. Similarly, for y, it is 99 percentile.\n",
    "    # this means that the outliers will be capped to the 99th percentile"
   ]
  },
  {
   "cell_type": "code",
   "execution_count": 16,
   "id": "7a4a48ed",
   "metadata": {},
   "outputs": [
    {
     "name": "stderr",
     "output_type": "stream",
     "text": [
      "/Users/revanthshahukaru/opt/anaconda3/lib/python3.9/site-packages/seaborn/_decorators.py:36: FutureWarning: Pass the following variable as a keyword arg: x. From version 0.12, the only valid positional argument will be `data`, and passing other arguments without an explicit keyword will result in an error or misinterpretation.\n",
      "  warnings.warn(\n"
     ]
    },
    {
     "data": {
      "image/png": "[encoded data removed]",
      "text/plain": [
       "<Figure size 432x288 with 1 Axes>"
      ]
     },
     "metadata": {
      "needs_background": "light"
     },
     "output_type": "display_data"
    }
   ],
   "source": [
    "sns.boxplot(df.person_income);"
   ]
  },
  {
   "cell_type": "code",
   "execution_count": 17,
   "id": "90d394a8",
   "metadata": {
    "scrolled": true
   },
   "outputs": [
    {
     "name": "stderr",
     "output_type": "stream",
     "text": [
      "/Users/revanthshahukaru/opt/anaconda3/lib/python3.9/site-packages/seaborn/_decorators.py:36: FutureWarning: Pass the following variable as a keyword arg: x. From version 0.12, the only valid positional argument will be `data`, and passing other arguments without an explicit keyword will result in an error or misinterpretation.\n",
      "  warnings.warn(\n"
     ]
    },
    {
     "data": {
      "image/png": "[encoded data removed]",
      "text/plain": [
       "<Figure size 432x288 with 1 Axes>"
      ]
     },
     "metadata": {
      "needs_background": "light"
     },
     "output_type": "display_data"
    }
   ],
   "source": [
    "sns.boxplot(df.loan_amnt);"
   ]
  },
  {
   "cell_type": "code",
   "execution_count": 18,
   "id": "eafd47e6",
   "metadata": {
    "scrolled": true
   },
   "outputs": [
    {
     "name": "stderr",
     "output_type": "stream",
     "text": [
      "/Users/revanthshahukaru/opt/anaconda3/lib/python3.9/site-packages/seaborn/_decorators.py:36: FutureWarning: Pass the following variable as a keyword arg: x. From version 0.12, the only valid positional argument will be `data`, and passing other arguments without an explicit keyword will result in an error or misinterpretation.\n",
      "  warnings.warn(\n"
     ]
    },
    {
     "data": {
      "image/png": "[encoded data removed]",
      "text/plain": [
       "<Figure size 432x288 with 1 Axes>"
      ]
     },
     "metadata": {
      "needs_background": "light"
     },
     "output_type": "display_data"
    }
   ],
   "source": [
    "sns.boxplot(df.loan_int_rate);"
   ]
  },
  {
   "cell_type": "code",
   "execution_count": 19,
   "id": "84d1d642",
   "metadata": {
    "scrolled": true
   },
   "outputs": [
    {
     "name": "stderr",
     "output_type": "stream",
     "text": [
      "/Users/revanthshahukaru/opt/anaconda3/lib/python3.9/site-packages/seaborn/_decorators.py:36: FutureWarning: Pass the following variable as a keyword arg: x. From version 0.12, the only valid positional argument will be `data`, and passing other arguments without an explicit keyword will result in an error or misinterpretation.\n",
      "  warnings.warn(\n"
     ]
    },
    {
     "data": {
      "image/png": "[encoded data removed]",
      "text/plain": [
       "<Figure size 432x288 with 1 Axes>"
      ]
     },
     "metadata": {
      "needs_background": "light"
     },
     "output_type": "display_data"
    }
   ],
   "source": [
    "sns.boxplot(df.loan_percent_income);"
   ]
  },
  {
   "cell_type": "code",
   "execution_count": 20,
   "id": "f7c6578b",
   "metadata": {},
   "outputs": [
    {
     "name": "stderr",
     "output_type": "stream",
     "text": [
      "/Users/revanthshahukaru/opt/anaconda3/lib/python3.9/site-packages/seaborn/_decorators.py:36: FutureWarning: Pass the following variable as a keyword arg: x. From version 0.12, the only valid positional argument will be `data`, and passing other arguments without an explicit keyword will result in an error or misinterpretation.\n",
      "  warnings.warn(\n"
     ]
    },
    {
     "data": {
      "image/png": "[encoded data removed]",
      "text/plain": [
       "<Figure size 432x288 with 1 Axes>"
      ]
     },
     "metadata": {
      "needs_background": "light"
     },
     "output_type": "display_data"
    }
   ],
   "source": [
    "sns.boxplot(df.cb_person_cred_hist_length);"
   ]
  },
  {
   "cell_type": "code",
   "execution_count": 21,
   "id": "af1ee724",
   "metadata": {},
   "outputs": [
    {
     "name": "stderr",
     "output_type": "stream",
     "text": [
      "/Users/revanthshahukaru/opt/anaconda3/lib/python3.9/site-packages/seaborn/_decorators.py:36: FutureWarning: Pass the following variable as a keyword arg: x. From version 0.12, the only valid positional argument will be `data`, and passing other arguments without an explicit keyword will result in an error or misinterpretation.\n",
      "  warnings.warn(\n"
     ]
    },
    {
     "data": {
      "image/png": "[encoded data removed]",
      "text/plain": [
       "<Figure size 432x288 with 1 Axes>"
      ]
     },
     "metadata": {
      "needs_background": "light"
     },
     "output_type": "display_data"
    }
   ],
   "source": [
    "sns.boxplot(df.person_emp_length);"
   ]
  },
  {
   "cell_type": "markdown",
   "id": "573a7b88",
   "metadata": {},
   "source": [
    "# 3. Understanding the data"
   ]
  },
  {
   "cell_type": "code",
   "execution_count": 22,
   "id": "ec8ad09a",
   "metadata": {
    "scrolled": true
   },
   "outputs": [
    {
     "name": "stdout",
     "output_type": "stream",
     "text": [
      "<class 'pandas.core.frame.DataFrame'>\n",
      "RangeIndex: 28638 entries, 0 to 28637\n",
      "Data columns (total 12 columns):\n",
      " #   Column                      Non-Null Count  Dtype  \n",
      "---  ------                      --------------  -----  \n",
      " 0   person_age                  28638 non-null  int64  \n",
      " 1   person_income               28638 non-null  int64  \n",
      " 2   person_home_ownership       28638 non-null  object \n",
      " 3   person_emp_length           28638 non-null  float64\n",
      " 4   loan_intent                 28638 non-null  object \n",
      " 5   loan_grade                  28638 non-null  object \n",
      " 6   loan_amnt                   28638 non-null  int64  \n",
      " 7   loan_int_rate               28638 non-null  float64\n",
      " 8   loan_status                 28638 non-null  int64  \n",
      " 9   loan_percent_income         28638 non-null  float64\n",
      " 10  cb_person_default_on_file   28638 non-null  object \n",
      " 11  cb_person_cred_hist_length  28638 non-null  int64  \n",
      "dtypes: float64(3), int64(5), object(4)\n",
      "memory usage: 2.6+ MB\n"
     ]
    }
   ],
   "source": [
    "df.info()"
   ]
  },
  {
   "cell_type": "code",
   "execution_count": 23,
   "id": "2cf88ffa",
   "metadata": {
    "scrolled": true
   },
   "outputs": [
    {
     "data": {
      "text/html": [
       "<div>\n",
       "<style scoped>\n",
       "    .dataframe tbody tr th:only-of-type {\n",
       "        vertical-align: middle;\n",
       "    }\n",
       "\n",
       "    .dataframe tbody tr th {\n",
       "        vertical-align: top;\n",
       "    }\n",
       "\n",
       "    .dataframe thead th {\n",
       "        text-align: right;\n",
       "    }\n",
       "</style>\n",
       "<table border=\"1\" class=\"dataframe\">\n",
       "  <thead>\n",
       "    <tr style=\"text-align: right;\">\n",
       "      <th></th>\n",
       "      <th>person_age</th>\n",
       "      <th>person_income</th>\n",
       "      <th>person_emp_length</th>\n",
       "      <th>loan_amnt</th>\n",
       "      <th>loan_int_rate</th>\n",
       "      <th>loan_status</th>\n",
       "      <th>loan_percent_income</th>\n",
       "      <th>cb_person_cred_hist_length</th>\n",
       "    </tr>\n",
       "  </thead>\n",
       "  <tbody>\n",
       "    <tr>\n",
       "      <th>count</th>\n",
       "      <td>28638.000000</td>\n",
       "      <td>28638.000000</td>\n",
       "      <td>28638.000000</td>\n",
       "      <td>28638.000000</td>\n",
       "      <td>28638.000000</td>\n",
       "      <td>28638.000000</td>\n",
       "      <td>28638.000000</td>\n",
       "      <td>28638.000000</td>\n",
       "    </tr>\n",
       "    <tr>\n",
       "      <th>mean</th>\n",
       "      <td>27.727216</td>\n",
       "      <td>65019.330051</td>\n",
       "      <td>4.756862</td>\n",
       "      <td>9623.894825</td>\n",
       "      <td>11.030337</td>\n",
       "      <td>0.216600</td>\n",
       "      <td>0.169019</td>\n",
       "      <td>5.734409</td>\n",
       "    </tr>\n",
       "    <tr>\n",
       "      <th>std</th>\n",
       "      <td>6.310441</td>\n",
       "      <td>38122.535468</td>\n",
       "      <td>3.934460</td>\n",
       "      <td>6202.862127</td>\n",
       "      <td>3.204282</td>\n",
       "      <td>0.411935</td>\n",
       "      <td>0.104388</td>\n",
       "      <td>3.802497</td>\n",
       "    </tr>\n",
       "    <tr>\n",
       "      <th>min</th>\n",
       "      <td>20.000000</td>\n",
       "      <td>14400.000000</td>\n",
       "      <td>0.000000</td>\n",
       "      <td>1200.000000</td>\n",
       "      <td>5.420000</td>\n",
       "      <td>0.000000</td>\n",
       "      <td>0.020000</td>\n",
       "      <td>2.000000</td>\n",
       "    </tr>\n",
       "    <tr>\n",
       "      <th>25%</th>\n",
       "      <td>23.000000</td>\n",
       "      <td>39480.000000</td>\n",
       "      <td>2.000000</td>\n",
       "      <td>5000.000000</td>\n",
       "      <td>7.900000</td>\n",
       "      <td>0.000000</td>\n",
       "      <td>0.090000</td>\n",
       "      <td>3.000000</td>\n",
       "    </tr>\n",
       "    <tr>\n",
       "      <th>50%</th>\n",
       "      <td>26.000000</td>\n",
       "      <td>55956.000000</td>\n",
       "      <td>4.000000</td>\n",
       "      <td>8000.000000</td>\n",
       "      <td>10.990000</td>\n",
       "      <td>0.000000</td>\n",
       "      <td>0.150000</td>\n",
       "      <td>4.000000</td>\n",
       "    </tr>\n",
       "    <tr>\n",
       "      <th>75%</th>\n",
       "      <td>30.000000</td>\n",
       "      <td>80000.000000</td>\n",
       "      <td>7.000000</td>\n",
       "      <td>12500.000000</td>\n",
       "      <td>13.480000</td>\n",
       "      <td>0.000000</td>\n",
       "      <td>0.230000</td>\n",
       "      <td>8.000000</td>\n",
       "    </tr>\n",
       "    <tr>\n",
       "      <th>max</th>\n",
       "      <td>144.000000</td>\n",
       "      <td>231252.000000</td>\n",
       "      <td>18.000000</td>\n",
       "      <td>29550.000000</td>\n",
       "      <td>18.620000</td>\n",
       "      <td>1.000000</td>\n",
       "      <td>0.500000</td>\n",
       "      <td>17.000000</td>\n",
       "    </tr>\n",
       "  </tbody>\n",
       "</table>\n",
       "</div>"
      ],
      "text/plain": [
       "         person_age  person_income  person_emp_length     loan_amnt  \\\n",
       "count  28638.000000   28638.000000       28638.000000  28638.000000   \n",
       "mean      27.727216   65019.330051           4.756862   9623.894825   \n",
       "std        6.310441   38122.535468           3.934460   6202.862127   \n",
       "min       20.000000   14400.000000           0.000000   1200.000000   \n",
       "25%       23.000000   39480.000000           2.000000   5000.000000   \n",
       "50%       26.000000   55956.000000           4.000000   8000.000000   \n",
       "75%       30.000000   80000.000000           7.000000  12500.000000   \n",
       "max      144.000000  231252.000000          18.000000  29550.000000   \n",
       "\n",
       "       loan_int_rate   loan_status  loan_percent_income  \\\n",
       "count   28638.000000  28638.000000         28638.000000   \n",
       "mean       11.030337      0.216600             0.169019   \n",
       "std         3.204282      0.411935             0.104388   \n",
       "min         5.420000      0.000000             0.020000   \n",
       "25%         7.900000      0.000000             0.090000   \n",
       "50%        10.990000      0.000000             0.150000   \n",
       "75%        13.480000      0.000000             0.230000   \n",
       "max        18.620000      1.000000             0.500000   \n",
       "\n",
       "       cb_person_cred_hist_length  \n",
       "count                28638.000000  \n",
       "mean                     5.734409  \n",
       "std                      3.802497  \n",
       "min                      2.000000  \n",
       "25%                      3.000000  \n",
       "50%                      4.000000  \n",
       "75%                      8.000000  \n",
       "max                     17.000000  "
      ]
     },
     "execution_count": 23,
     "metadata": {},
     "output_type": "execute_result"
    }
   ],
   "source": [
    "df.describe()"
   ]
  },
  {
   "cell_type": "code",
   "execution_count": 24,
   "id": "b2efd08d",
   "metadata": {
    "scrolled": true
   },
   "outputs": [
    {
     "data": {
      "text/html": [
       "<div>\n",
       "<style scoped>\n",
       "    .dataframe tbody tr th:only-of-type {\n",
       "        vertical-align: middle;\n",
       "    }\n",
       "\n",
       "    .dataframe tbody tr th {\n",
       "        vertical-align: top;\n",
       "    }\n",
       "\n",
       "    .dataframe thead th {\n",
       "        text-align: right;\n",
       "    }\n",
       "</style>\n",
       "<table border=\"1\" class=\"dataframe\">\n",
       "  <thead>\n",
       "    <tr style=\"text-align: right;\">\n",
       "      <th></th>\n",
       "      <th>person_age</th>\n",
       "      <th>person_income</th>\n",
       "      <th>person_home_ownership</th>\n",
       "      <th>person_emp_length</th>\n",
       "      <th>loan_intent</th>\n",
       "      <th>loan_grade</th>\n",
       "      <th>loan_amnt</th>\n",
       "      <th>loan_int_rate</th>\n",
       "      <th>loan_status</th>\n",
       "      <th>loan_percent_income</th>\n",
       "      <th>cb_person_default_on_file</th>\n",
       "      <th>cb_person_cred_hist_length</th>\n",
       "    </tr>\n",
       "  </thead>\n",
       "  <tbody>\n",
       "    <tr>\n",
       "      <th>0</th>\n",
       "      <td>22</td>\n",
       "      <td>59000</td>\n",
       "      <td>RENT</td>\n",
       "      <td>18.0</td>\n",
       "      <td>PERSONAL</td>\n",
       "      <td>D</td>\n",
       "      <td>29550</td>\n",
       "      <td>16.02</td>\n",
       "      <td>1</td>\n",
       "      <td>0.5</td>\n",
       "      <td>Y</td>\n",
       "      <td>3</td>\n",
       "    </tr>\n",
       "    <tr>\n",
       "      <th>1</th>\n",
       "      <td>21</td>\n",
       "      <td>14400</td>\n",
       "      <td>OWN</td>\n",
       "      <td>5.0</td>\n",
       "      <td>EDUCATION</td>\n",
       "      <td>B</td>\n",
       "      <td>1200</td>\n",
       "      <td>11.14</td>\n",
       "      <td>0</td>\n",
       "      <td>0.1</td>\n",
       "      <td>N</td>\n",
       "      <td>2</td>\n",
       "    </tr>\n",
       "    <tr>\n",
       "      <th>2</th>\n",
       "      <td>25</td>\n",
       "      <td>14400</td>\n",
       "      <td>MORTGAGE</td>\n",
       "      <td>1.0</td>\n",
       "      <td>MEDICAL</td>\n",
       "      <td>C</td>\n",
       "      <td>5500</td>\n",
       "      <td>12.87</td>\n",
       "      <td>1</td>\n",
       "      <td>0.5</td>\n",
       "      <td>N</td>\n",
       "      <td>3</td>\n",
       "    </tr>\n",
       "    <tr>\n",
       "      <th>3</th>\n",
       "      <td>23</td>\n",
       "      <td>65500</td>\n",
       "      <td>RENT</td>\n",
       "      <td>4.0</td>\n",
       "      <td>MEDICAL</td>\n",
       "      <td>C</td>\n",
       "      <td>29550</td>\n",
       "      <td>15.23</td>\n",
       "      <td>1</td>\n",
       "      <td>0.5</td>\n",
       "      <td>N</td>\n",
       "      <td>2</td>\n",
       "    </tr>\n",
       "    <tr>\n",
       "      <th>4</th>\n",
       "      <td>24</td>\n",
       "      <td>54400</td>\n",
       "      <td>RENT</td>\n",
       "      <td>8.0</td>\n",
       "      <td>MEDICAL</td>\n",
       "      <td>C</td>\n",
       "      <td>29550</td>\n",
       "      <td>14.27</td>\n",
       "      <td>1</td>\n",
       "      <td>0.5</td>\n",
       "      <td>Y</td>\n",
       "      <td>4</td>\n",
       "    </tr>\n",
       "  </tbody>\n",
       "</table>\n",
       "</div>"
      ],
      "text/plain": [
       "   person_age  person_income person_home_ownership  person_emp_length  \\\n",
       "0          22          59000                  RENT               18.0   \n",
       "1          21          14400                   OWN                5.0   \n",
       "2          25          14400              MORTGAGE                1.0   \n",
       "3          23          65500                  RENT                4.0   \n",
       "4          24          54400                  RENT                8.0   \n",
       "\n",
       "  loan_intent loan_grade  loan_amnt  loan_int_rate  loan_status  \\\n",
       "0    PERSONAL          D      29550          16.02            1   \n",
       "1   EDUCATION          B       1200          11.14            0   \n",
       "2     MEDICAL          C       5500          12.87            1   \n",
       "3     MEDICAL          C      29550          15.23            1   \n",
       "4     MEDICAL          C      29550          14.27            1   \n",
       "\n",
       "   loan_percent_income cb_person_default_on_file  cb_person_cred_hist_length  \n",
       "0                  0.5                         Y                           3  \n",
       "1                  0.1                         N                           2  \n",
       "2                  0.5                         N                           3  \n",
       "3                  0.5                         N                           2  \n",
       "4                  0.5                         Y                           4  "
      ]
     },
     "execution_count": 24,
     "metadata": {},
     "output_type": "execute_result"
    }
   ],
   "source": [
    "df.head()"
   ]
  },
  {
   "cell_type": "code",
   "execution_count": 25,
   "id": "82df3940",
   "metadata": {},
   "outputs": [
    {
     "data": {
      "text/plain": [
       "N    23535\n",
       "Y     5103\n",
       "Name: cb_person_default_on_file, dtype: int64"
      ]
     },
     "execution_count": 25,
     "metadata": {},
     "output_type": "execute_result"
    }
   ],
   "source": [
    "df['cb_person_default_on_file'].value_counts()"
   ]
  },
  {
   "cell_type": "code",
   "execution_count": 26,
   "id": "c7cd43e7",
   "metadata": {
    "scrolled": true
   },
   "outputs": [
    {
     "data": {
      "text/plain": [
       "0    23535\n",
       "1     5103\n",
       "Name: cb_person_default_on_file, dtype: int64"
      ]
     },
     "execution_count": 26,
     "metadata": {},
     "output_type": "execute_result"
    }
   ],
   "source": [
    "for x in range(len(df['cb_person_default_on_file'])):\n",
    "    if df.loc[x, 'cb_person_default_on_file'] == 'N':\n",
    "        df.loc[x, 'cb_person_default_on_file'] = 0\n",
    "    else:\n",
    "        df.loc[x, 'cb_person_default_on_file'] = 1\n",
    "        \n",
    "df['cb_person_default_on_file'].value_counts()"
   ]
  },
  {
   "cell_type": "code",
   "execution_count": 27,
   "id": "8684334a",
   "metadata": {},
   "outputs": [
    {
     "data": {
      "text/html": [
       "<div>\n",
       "<style scoped>\n",
       "    .dataframe tbody tr th:only-of-type {\n",
       "        vertical-align: middle;\n",
       "    }\n",
       "\n",
       "    .dataframe tbody tr th {\n",
       "        vertical-align: top;\n",
       "    }\n",
       "\n",
       "    .dataframe thead th {\n",
       "        text-align: right;\n",
       "    }\n",
       "</style>\n",
       "<table border=\"1\" class=\"dataframe\">\n",
       "  <thead>\n",
       "    <tr style=\"text-align: right;\">\n",
       "      <th></th>\n",
       "      <th>person_age</th>\n",
       "      <th>person_income</th>\n",
       "      <th>person_home_ownership</th>\n",
       "      <th>person_emp_length</th>\n",
       "      <th>loan_intent</th>\n",
       "      <th>loan_grade</th>\n",
       "      <th>loan_amnt</th>\n",
       "      <th>loan_int_rate</th>\n",
       "      <th>loan_percent_income</th>\n",
       "      <th>cb_person_default_on_file</th>\n",
       "      <th>cb_person_cred_hist_length</th>\n",
       "      <th>loan_status</th>\n",
       "    </tr>\n",
       "  </thead>\n",
       "  <tbody>\n",
       "    <tr>\n",
       "      <th>0</th>\n",
       "      <td>22</td>\n",
       "      <td>59000</td>\n",
       "      <td>RENT</td>\n",
       "      <td>18.0</td>\n",
       "      <td>PERSONAL</td>\n",
       "      <td>D</td>\n",
       "      <td>29550</td>\n",
       "      <td>16.02</td>\n",
       "      <td>0.5</td>\n",
       "      <td>1</td>\n",
       "      <td>3</td>\n",
       "      <td>1</td>\n",
       "    </tr>\n",
       "    <tr>\n",
       "      <th>1</th>\n",
       "      <td>21</td>\n",
       "      <td>14400</td>\n",
       "      <td>OWN</td>\n",
       "      <td>5.0</td>\n",
       "      <td>EDUCATION</td>\n",
       "      <td>B</td>\n",
       "      <td>1200</td>\n",
       "      <td>11.14</td>\n",
       "      <td>0.1</td>\n",
       "      <td>0</td>\n",
       "      <td>2</td>\n",
       "      <td>0</td>\n",
       "    </tr>\n",
       "    <tr>\n",
       "      <th>2</th>\n",
       "      <td>25</td>\n",
       "      <td>14400</td>\n",
       "      <td>MORTGAGE</td>\n",
       "      <td>1.0</td>\n",
       "      <td>MEDICAL</td>\n",
       "      <td>C</td>\n",
       "      <td>5500</td>\n",
       "      <td>12.87</td>\n",
       "      <td>0.5</td>\n",
       "      <td>0</td>\n",
       "      <td>3</td>\n",
       "      <td>1</td>\n",
       "    </tr>\n",
       "    <tr>\n",
       "      <th>3</th>\n",
       "      <td>23</td>\n",
       "      <td>65500</td>\n",
       "      <td>RENT</td>\n",
       "      <td>4.0</td>\n",
       "      <td>MEDICAL</td>\n",
       "      <td>C</td>\n",
       "      <td>29550</td>\n",
       "      <td>15.23</td>\n",
       "      <td>0.5</td>\n",
       "      <td>0</td>\n",
       "      <td>2</td>\n",
       "      <td>1</td>\n",
       "    </tr>\n",
       "    <tr>\n",
       "      <th>4</th>\n",
       "      <td>24</td>\n",
       "      <td>54400</td>\n",
       "      <td>RENT</td>\n",
       "      <td>8.0</td>\n",
       "      <td>MEDICAL</td>\n",
       "      <td>C</td>\n",
       "      <td>29550</td>\n",
       "      <td>14.27</td>\n",
       "      <td>0.5</td>\n",
       "      <td>1</td>\n",
       "      <td>4</td>\n",
       "      <td>1</td>\n",
       "    </tr>\n",
       "  </tbody>\n",
       "</table>\n",
       "</div>"
      ],
      "text/plain": [
       "   person_age  person_income person_home_ownership  person_emp_length  \\\n",
       "0          22          59000                  RENT               18.0   \n",
       "1          21          14400                   OWN                5.0   \n",
       "2          25          14400              MORTGAGE                1.0   \n",
       "3          23          65500                  RENT                4.0   \n",
       "4          24          54400                  RENT                8.0   \n",
       "\n",
       "  loan_intent loan_grade  loan_amnt  loan_int_rate  loan_percent_income  \\\n",
       "0    PERSONAL          D      29550          16.02                  0.5   \n",
       "1   EDUCATION          B       1200          11.14                  0.1   \n",
       "2     MEDICAL          C       5500          12.87                  0.5   \n",
       "3     MEDICAL          C      29550          15.23                  0.5   \n",
       "4     MEDICAL          C      29550          14.27                  0.5   \n",
       "\n",
       "  cb_person_default_on_file  cb_person_cred_hist_length  loan_status  \n",
       "0                         1                           3            1  \n",
       "1                         0                           2            0  \n",
       "2                         0                           3            1  \n",
       "3                         0                           2            1  \n",
       "4                         1                           4            1  "
      ]
     },
     "execution_count": 27,
     "metadata": {},
     "output_type": "execute_result"
    }
   ],
   "source": [
    "# rearranging the columns to set the target variable as the last column\n",
    "df = df[['person_age', 'person_income', 'person_home_ownership', 'person_emp_length', 'loan_intent', 'loan_grade', 'loan_amnt', 'loan_int_rate', 'loan_percent_income', 'cb_person_default_on_file', 'cb_person_cred_hist_length', 'loan_status']]\n",
    "df.head()"
   ]
  },
  {
   "cell_type": "markdown",
   "id": "ec47b243",
   "metadata": {},
   "source": [
    "`person_age` Age of the person (20 - 144)\n",
    "\n",
    "`person_income` income of the person (₹4,000 - ₹60,00,000)\n",
    "\n",
    "`person_home_ownership` Type of home ownership (Rent/Own/Mortgage/Other)\n",
    "\n",
    "`person_emp_length` Employment length (in years)\n",
    "\n",
    "`loan_intent` Purpose of taking the loan (Education/Medical/Personal, etc.)\n",
    "\n",
    "`loan_grade` \n",
    "\n",
    "`loan_amnt` Loan amount\n",
    "\n",
    "`loan_int_rate` Interest rate on the loan\n",
    "\n",
    "`loan_percent_income` Percentage of income compared to the loan amount\n",
    "\n",
    "`cb_person_default_on_file` Historical evidence of default\n",
    "\n",
    "`cb_person_cred_hist_length` Credit History Length\n",
    "\n",
    "`loan_status` Loan status (0 is non default 1 is default)"
   ]
  },
  {
   "cell_type": "markdown",
   "id": "df850d63",
   "metadata": {},
   "source": [
    "# 4. Identifying the `input` and `output` variables"
   ]
  },
  {
   "cell_type": "code",
   "execution_count": 28,
   "id": "74f1dabe",
   "metadata": {
    "scrolled": true
   },
   "outputs": [
    {
     "data": {
      "text/plain": [
       "['person_age',\n",
       " 'person_income',\n",
       " 'person_home_ownership',\n",
       " 'person_emp_length',\n",
       " 'loan_intent',\n",
       " 'loan_grade',\n",
       " 'loan_amnt',\n",
       " 'loan_int_rate',\n",
       " 'loan_percent_income',\n",
       " 'cb_person_default_on_file',\n",
       " 'cb_person_cred_hist_length']"
      ]
     },
     "execution_count": 28,
     "metadata": {},
     "output_type": "execute_result"
    }
   ],
   "source": [
    "list(df.columns)[:-1]"
   ]
  },
  {
   "cell_type": "code",
   "execution_count": 29,
   "id": "a9144fb6",
   "metadata": {},
   "outputs": [
    {
     "data": {
      "text/plain": [
       "['person_age',\n",
       " 'person_income',\n",
       " 'person_home_ownership',\n",
       " 'person_emp_length',\n",
       " 'loan_intent',\n",
       " 'loan_grade',\n",
       " 'loan_amnt',\n",
       " 'loan_int_rate',\n",
       " 'loan_percent_income',\n",
       " 'cb_person_default_on_file',\n",
       " 'cb_person_cred_hist_length']"
      ]
     },
     "execution_count": 29,
     "metadata": {},
     "output_type": "execute_result"
    }
   ],
   "source": [
    "X_list = list(df.columns)[:-1]\n",
    "X_list"
   ]
  },
  {
   "cell_type": "code",
   "execution_count": 30,
   "id": "3e6b9173",
   "metadata": {},
   "outputs": [],
   "source": [
    "y = df['loan_status']\n",
    "\n",
    "X = df[X_list]"
   ]
  },
  {
   "cell_type": "code",
   "execution_count": 31,
   "id": "6297746b",
   "metadata": {},
   "outputs": [
    {
     "data": {
      "text/html": [
       "<div>\n",
       "<style scoped>\n",
       "    .dataframe tbody tr th:only-of-type {\n",
       "        vertical-align: middle;\n",
       "    }\n",
       "\n",
       "    .dataframe tbody tr th {\n",
       "        vertical-align: top;\n",
       "    }\n",
       "\n",
       "    .dataframe thead th {\n",
       "        text-align: right;\n",
       "    }\n",
       "</style>\n",
       "<table border=\"1\" class=\"dataframe\">\n",
       "  <thead>\n",
       "    <tr style=\"text-align: right;\">\n",
       "      <th></th>\n",
       "      <th>person_age</th>\n",
       "      <th>person_income</th>\n",
       "      <th>person_home_ownership</th>\n",
       "      <th>person_emp_length</th>\n",
       "      <th>loan_intent</th>\n",
       "      <th>loan_grade</th>\n",
       "      <th>loan_amnt</th>\n",
       "      <th>loan_int_rate</th>\n",
       "      <th>loan_percent_income</th>\n",
       "      <th>cb_person_default_on_file</th>\n",
       "      <th>cb_person_cred_hist_length</th>\n",
       "    </tr>\n",
       "  </thead>\n",
       "  <tbody>\n",
       "    <tr>\n",
       "      <th>0</th>\n",
       "      <td>22</td>\n",
       "      <td>59000</td>\n",
       "      <td>RENT</td>\n",
       "      <td>18.0</td>\n",
       "      <td>PERSONAL</td>\n",
       "      <td>D</td>\n",
       "      <td>29550</td>\n",
       "      <td>16.02</td>\n",
       "      <td>0.50</td>\n",
       "      <td>1</td>\n",
       "      <td>3</td>\n",
       "    </tr>\n",
       "    <tr>\n",
       "      <th>1</th>\n",
       "      <td>21</td>\n",
       "      <td>14400</td>\n",
       "      <td>OWN</td>\n",
       "      <td>5.0</td>\n",
       "      <td>EDUCATION</td>\n",
       "      <td>B</td>\n",
       "      <td>1200</td>\n",
       "      <td>11.14</td>\n",
       "      <td>0.10</td>\n",
       "      <td>0</td>\n",
       "      <td>2</td>\n",
       "    </tr>\n",
       "    <tr>\n",
       "      <th>2</th>\n",
       "      <td>25</td>\n",
       "      <td>14400</td>\n",
       "      <td>MORTGAGE</td>\n",
       "      <td>1.0</td>\n",
       "      <td>MEDICAL</td>\n",
       "      <td>C</td>\n",
       "      <td>5500</td>\n",
       "      <td>12.87</td>\n",
       "      <td>0.50</td>\n",
       "      <td>0</td>\n",
       "      <td>3</td>\n",
       "    </tr>\n",
       "    <tr>\n",
       "      <th>3</th>\n",
       "      <td>23</td>\n",
       "      <td>65500</td>\n",
       "      <td>RENT</td>\n",
       "      <td>4.0</td>\n",
       "      <td>MEDICAL</td>\n",
       "      <td>C</td>\n",
       "      <td>29550</td>\n",
       "      <td>15.23</td>\n",
       "      <td>0.50</td>\n",
       "      <td>0</td>\n",
       "      <td>2</td>\n",
       "    </tr>\n",
       "    <tr>\n",
       "      <th>4</th>\n",
       "      <td>24</td>\n",
       "      <td>54400</td>\n",
       "      <td>RENT</td>\n",
       "      <td>8.0</td>\n",
       "      <td>MEDICAL</td>\n",
       "      <td>C</td>\n",
       "      <td>29550</td>\n",
       "      <td>14.27</td>\n",
       "      <td>0.50</td>\n",
       "      <td>1</td>\n",
       "      <td>4</td>\n",
       "    </tr>\n",
       "    <tr>\n",
       "      <th>...</th>\n",
       "      <td>...</td>\n",
       "      <td>...</td>\n",
       "      <td>...</td>\n",
       "      <td>...</td>\n",
       "      <td>...</td>\n",
       "      <td>...</td>\n",
       "      <td>...</td>\n",
       "      <td>...</td>\n",
       "      <td>...</td>\n",
       "      <td>...</td>\n",
       "      <td>...</td>\n",
       "    </tr>\n",
       "    <tr>\n",
       "      <th>28633</th>\n",
       "      <td>57</td>\n",
       "      <td>53000</td>\n",
       "      <td>MORTGAGE</td>\n",
       "      <td>1.0</td>\n",
       "      <td>PERSONAL</td>\n",
       "      <td>C</td>\n",
       "      <td>5800</td>\n",
       "      <td>13.16</td>\n",
       "      <td>0.11</td>\n",
       "      <td>0</td>\n",
       "      <td>17</td>\n",
       "    </tr>\n",
       "    <tr>\n",
       "      <th>28634</th>\n",
       "      <td>54</td>\n",
       "      <td>120000</td>\n",
       "      <td>MORTGAGE</td>\n",
       "      <td>4.0</td>\n",
       "      <td>PERSONAL</td>\n",
       "      <td>A</td>\n",
       "      <td>17625</td>\n",
       "      <td>7.49</td>\n",
       "      <td>0.15</td>\n",
       "      <td>0</td>\n",
       "      <td>17</td>\n",
       "    </tr>\n",
       "    <tr>\n",
       "      <th>28635</th>\n",
       "      <td>65</td>\n",
       "      <td>76000</td>\n",
       "      <td>RENT</td>\n",
       "      <td>3.0</td>\n",
       "      <td>HOMEIMPROVEMENT</td>\n",
       "      <td>B</td>\n",
       "      <td>29550</td>\n",
       "      <td>10.99</td>\n",
       "      <td>0.46</td>\n",
       "      <td>0</td>\n",
       "      <td>17</td>\n",
       "    </tr>\n",
       "    <tr>\n",
       "      <th>28636</th>\n",
       "      <td>56</td>\n",
       "      <td>150000</td>\n",
       "      <td>MORTGAGE</td>\n",
       "      <td>5.0</td>\n",
       "      <td>PERSONAL</td>\n",
       "      <td>B</td>\n",
       "      <td>15000</td>\n",
       "      <td>11.48</td>\n",
       "      <td>0.10</td>\n",
       "      <td>0</td>\n",
       "      <td>17</td>\n",
       "    </tr>\n",
       "    <tr>\n",
       "      <th>28637</th>\n",
       "      <td>66</td>\n",
       "      <td>42000</td>\n",
       "      <td>RENT</td>\n",
       "      <td>2.0</td>\n",
       "      <td>MEDICAL</td>\n",
       "      <td>B</td>\n",
       "      <td>6475</td>\n",
       "      <td>9.99</td>\n",
       "      <td>0.15</td>\n",
       "      <td>0</td>\n",
       "      <td>17</td>\n",
       "    </tr>\n",
       "  </tbody>\n",
       "</table>\n",
       "<p>28638 rows × 11 columns</p>\n",
       "</div>"
      ],
      "text/plain": [
       "       person_age  person_income person_home_ownership  person_emp_length  \\\n",
       "0              22          59000                  RENT               18.0   \n",
       "1              21          14400                   OWN                5.0   \n",
       "2              25          14400              MORTGAGE                1.0   \n",
       "3              23          65500                  RENT                4.0   \n",
       "4              24          54400                  RENT                8.0   \n",
       "...           ...            ...                   ...                ...   \n",
       "28633          57          53000              MORTGAGE                1.0   \n",
       "28634          54         120000              MORTGAGE                4.0   \n",
       "28635          65          76000                  RENT                3.0   \n",
       "28636          56         150000              MORTGAGE                5.0   \n",
       "28637          66          42000                  RENT                2.0   \n",
       "\n",
       "           loan_intent loan_grade  loan_amnt  loan_int_rate  \\\n",
       "0             PERSONAL          D      29550          16.02   \n",
       "1            EDUCATION          B       1200          11.14   \n",
       "2              MEDICAL          C       5500          12.87   \n",
       "3              MEDICAL          C      29550          15.23   \n",
       "4              MEDICAL          C      29550          14.27   \n",
       "...                ...        ...        ...            ...   \n",
       "28633         PERSONAL          C       5800          13.16   \n",
       "28634         PERSONAL          A      17625           7.49   \n",
       "28635  HOMEIMPROVEMENT          B      29550          10.99   \n",
       "28636         PERSONAL          B      15000          11.48   \n",
       "28637          MEDICAL          B       6475           9.99   \n",
       "\n",
       "       loan_percent_income cb_person_default_on_file  \\\n",
       "0                     0.50                         1   \n",
       "1                     0.10                         0   \n",
       "2                     0.50                         0   \n",
       "3                     0.50                         0   \n",
       "4                     0.50                         1   \n",
       "...                    ...                       ...   \n",
       "28633                 0.11                         0   \n",
       "28634                 0.15                         0   \n",
       "28635                 0.46                         0   \n",
       "28636                 0.10                         0   \n",
       "28637                 0.15                         0   \n",
       "\n",
       "       cb_person_cred_hist_length  \n",
       "0                               3  \n",
       "1                               2  \n",
       "2                               3  \n",
       "3                               2  \n",
       "4                               4  \n",
       "...                           ...  \n",
       "28633                          17  \n",
       "28634                          17  \n",
       "28635                          17  \n",
       "28636                          17  \n",
       "28637                          17  \n",
       "\n",
       "[28638 rows x 11 columns]"
      ]
     },
     "execution_count": 31,
     "metadata": {},
     "output_type": "execute_result"
    }
   ],
   "source": [
    "X"
   ]
  },
  {
   "cell_type": "code",
   "execution_count": 32,
   "id": "aa2ad3f0",
   "metadata": {},
   "outputs": [
    {
     "data": {
      "text/plain": [
       "0        1\n",
       "1        0\n",
       "2        1\n",
       "3        1\n",
       "4        1\n",
       "        ..\n",
       "28633    0\n",
       "28634    0\n",
       "28635    1\n",
       "28636    0\n",
       "28637    0\n",
       "Name: loan_status, Length: 28638, dtype: int64"
      ]
     },
     "execution_count": 32,
     "metadata": {},
     "output_type": "execute_result"
    }
   ],
   "source": [
    "y"
   ]
  },
  {
   "cell_type": "markdown",
   "id": "6dea7f6b",
   "metadata": {},
   "source": [
    "# 5. Splitting the data for `training` and `testing`"
   ]
  },
  {
   "cell_type": "code",
   "execution_count": 33,
   "id": "1d574196",
   "metadata": {},
   "outputs": [],
   "source": [
    "from sklearn.model_selection import train_test_split\n",
    "\n",
    "X_train, X_test, y_train, y_test = train_test_split(X, y, train_size = 0.75, random_state=111)\n",
    "\n",
    "#the random_test parameter allows the dataframe to be shuffled in one single way whenever we specify '111' or any other number."
   ]
  },
  {
   "cell_type": "code",
   "execution_count": 34,
   "id": "5b163944",
   "metadata": {},
   "outputs": [
    {
     "data": {
      "text/html": [
       "<div>\n",
       "<style scoped>\n",
       "    .dataframe tbody tr th:only-of-type {\n",
       "        vertical-align: middle;\n",
       "    }\n",
       "\n",
       "    .dataframe tbody tr th {\n",
       "        vertical-align: top;\n",
       "    }\n",
       "\n",
       "    .dataframe thead th {\n",
       "        text-align: right;\n",
       "    }\n",
       "</style>\n",
       "<table border=\"1\" class=\"dataframe\">\n",
       "  <thead>\n",
       "    <tr style=\"text-align: right;\">\n",
       "      <th></th>\n",
       "      <th>person_age</th>\n",
       "      <th>person_income</th>\n",
       "      <th>person_home_ownership</th>\n",
       "      <th>person_emp_length</th>\n",
       "      <th>loan_intent</th>\n",
       "      <th>loan_grade</th>\n",
       "      <th>loan_amnt</th>\n",
       "      <th>loan_int_rate</th>\n",
       "      <th>loan_percent_income</th>\n",
       "      <th>cb_person_default_on_file</th>\n",
       "      <th>cb_person_cred_hist_length</th>\n",
       "    </tr>\n",
       "  </thead>\n",
       "  <tbody>\n",
       "    <tr>\n",
       "      <th>22190</th>\n",
       "      <td>28</td>\n",
       "      <td>81996</td>\n",
       "      <td>MORTGAGE</td>\n",
       "      <td>12.0</td>\n",
       "      <td>EDUCATION</td>\n",
       "      <td>B</td>\n",
       "      <td>3000</td>\n",
       "      <td>12.42</td>\n",
       "      <td>0.04</td>\n",
       "      <td>0</td>\n",
       "      <td>5</td>\n",
       "    </tr>\n",
       "    <tr>\n",
       "      <th>17092</th>\n",
       "      <td>32</td>\n",
       "      <td>39314</td>\n",
       "      <td>RENT</td>\n",
       "      <td>16.0</td>\n",
       "      <td>DEBTCONSOLIDATION</td>\n",
       "      <td>C</td>\n",
       "      <td>3000</td>\n",
       "      <td>15.23</td>\n",
       "      <td>0.08</td>\n",
       "      <td>0</td>\n",
       "      <td>7</td>\n",
       "    </tr>\n",
       "    <tr>\n",
       "      <th>14348</th>\n",
       "      <td>25</td>\n",
       "      <td>58650</td>\n",
       "      <td>MORTGAGE</td>\n",
       "      <td>4.0</td>\n",
       "      <td>MEDICAL</td>\n",
       "      <td>D</td>\n",
       "      <td>20000</td>\n",
       "      <td>14.09</td>\n",
       "      <td>0.29</td>\n",
       "      <td>1</td>\n",
       "      <td>4</td>\n",
       "    </tr>\n",
       "    <tr>\n",
       "      <th>1286</th>\n",
       "      <td>23</td>\n",
       "      <td>31500</td>\n",
       "      <td>RENT</td>\n",
       "      <td>7.0</td>\n",
       "      <td>EDUCATION</td>\n",
       "      <td>B</td>\n",
       "      <td>1200</td>\n",
       "      <td>8.88</td>\n",
       "      <td>0.04</td>\n",
       "      <td>0</td>\n",
       "      <td>2</td>\n",
       "    </tr>\n",
       "    <tr>\n",
       "      <th>23535</th>\n",
       "      <td>30</td>\n",
       "      <td>28000</td>\n",
       "      <td>OWN</td>\n",
       "      <td>14.0</td>\n",
       "      <td>MEDICAL</td>\n",
       "      <td>B</td>\n",
       "      <td>14400</td>\n",
       "      <td>12.18</td>\n",
       "      <td>0.50</td>\n",
       "      <td>0</td>\n",
       "      <td>5</td>\n",
       "    </tr>\n",
       "  </tbody>\n",
       "</table>\n",
       "</div>"
      ],
      "text/plain": [
       "       person_age  person_income person_home_ownership  person_emp_length  \\\n",
       "22190          28          81996              MORTGAGE               12.0   \n",
       "17092          32          39314                  RENT               16.0   \n",
       "14348          25          58650              MORTGAGE                4.0   \n",
       "1286           23          31500                  RENT                7.0   \n",
       "23535          30          28000                   OWN               14.0   \n",
       "\n",
       "             loan_intent loan_grade  loan_amnt  loan_int_rate  \\\n",
       "22190          EDUCATION          B       3000          12.42   \n",
       "17092  DEBTCONSOLIDATION          C       3000          15.23   \n",
       "14348            MEDICAL          D      20000          14.09   \n",
       "1286           EDUCATION          B       1200           8.88   \n",
       "23535            MEDICAL          B      14400          12.18   \n",
       "\n",
       "       loan_percent_income cb_person_default_on_file  \\\n",
       "22190                 0.04                         0   \n",
       "17092                 0.08                         0   \n",
       "14348                 0.29                         1   \n",
       "1286                  0.04                         0   \n",
       "23535                 0.50                         0   \n",
       "\n",
       "       cb_person_cred_hist_length  \n",
       "22190                           5  \n",
       "17092                           7  \n",
       "14348                           4  \n",
       "1286                            2  \n",
       "23535                           5  "
      ]
     },
     "execution_count": 34,
     "metadata": {},
     "output_type": "execute_result"
    }
   ],
   "source": [
    "X_train.head()"
   ]
  },
  {
   "cell_type": "code",
   "execution_count": 35,
   "id": "d01fcf6c",
   "metadata": {},
   "outputs": [
    {
     "name": "stdout",
     "output_type": "stream",
     "text": [
      "(21478, 11) (21478,)\n",
      "(7160, 11) (7160,)\n"
     ]
    }
   ],
   "source": [
    "print(X_train.shape, y_train.shape)\n",
    "\n",
    "print(X_test.shape, y_test.shape)"
   ]
  },
  {
   "cell_type": "markdown",
   "id": "0c57eb75",
   "metadata": {},
   "source": [
    "# 6. Data preprocessing on X_train\n",
    "\n",
    "_y\\_train need not be preprocessed because it is already in (0,1) fromat_"
   ]
  },
  {
   "cell_type": "markdown",
   "id": "08314107",
   "metadata": {},
   "source": [
    "### Separating Numerical and Categorical columns"
   ]
  },
  {
   "cell_type": "code",
   "execution_count": 36,
   "id": "d6e315a5",
   "metadata": {},
   "outputs": [
    {
     "data": {
      "text/plain": [
       "person_age                      int64\n",
       "person_income                   int64\n",
       "person_home_ownership          object\n",
       "person_emp_length             float64\n",
       "loan_intent                    object\n",
       "loan_grade                     object\n",
       "loan_amnt                       int64\n",
       "loan_int_rate                 float64\n",
       "loan_percent_income           float64\n",
       "cb_person_default_on_file      object\n",
       "cb_person_cred_hist_length      int64\n",
       "dtype: object"
      ]
     },
     "execution_count": 36,
     "metadata": {},
     "output_type": "execute_result"
    }
   ],
   "source": [
    "X_train.dtypes"
   ]
  },
  {
   "cell_type": "markdown",
   "id": "529209cf",
   "metadata": {},
   "source": [
    "**X_train_num**"
   ]
  },
  {
   "cell_type": "code",
   "execution_count": 37,
   "id": "f157124b",
   "metadata": {},
   "outputs": [
    {
     "data": {
      "text/html": [
       "<div>\n",
       "<style scoped>\n",
       "    .dataframe tbody tr th:only-of-type {\n",
       "        vertical-align: middle;\n",
       "    }\n",
       "\n",
       "    .dataframe tbody tr th {\n",
       "        vertical-align: top;\n",
       "    }\n",
       "\n",
       "    .dataframe thead th {\n",
       "        text-align: right;\n",
       "    }\n",
       "</style>\n",
       "<table border=\"1\" class=\"dataframe\">\n",
       "  <thead>\n",
       "    <tr style=\"text-align: right;\">\n",
       "      <th></th>\n",
       "      <th>person_age</th>\n",
       "      <th>person_income</th>\n",
       "      <th>person_emp_length</th>\n",
       "      <th>loan_amnt</th>\n",
       "      <th>loan_int_rate</th>\n",
       "      <th>loan_percent_income</th>\n",
       "      <th>cb_person_cred_hist_length</th>\n",
       "    </tr>\n",
       "  </thead>\n",
       "  <tbody>\n",
       "    <tr>\n",
       "      <th>22190</th>\n",
       "      <td>28</td>\n",
       "      <td>81996</td>\n",
       "      <td>12.0</td>\n",
       "      <td>3000</td>\n",
       "      <td>12.42</td>\n",
       "      <td>0.04</td>\n",
       "      <td>5</td>\n",
       "    </tr>\n",
       "    <tr>\n",
       "      <th>17092</th>\n",
       "      <td>32</td>\n",
       "      <td>39314</td>\n",
       "      <td>16.0</td>\n",
       "      <td>3000</td>\n",
       "      <td>15.23</td>\n",
       "      <td>0.08</td>\n",
       "      <td>7</td>\n",
       "    </tr>\n",
       "    <tr>\n",
       "      <th>14348</th>\n",
       "      <td>25</td>\n",
       "      <td>58650</td>\n",
       "      <td>4.0</td>\n",
       "      <td>20000</td>\n",
       "      <td>14.09</td>\n",
       "      <td>0.29</td>\n",
       "      <td>4</td>\n",
       "    </tr>\n",
       "    <tr>\n",
       "      <th>1286</th>\n",
       "      <td>23</td>\n",
       "      <td>31500</td>\n",
       "      <td>7.0</td>\n",
       "      <td>1200</td>\n",
       "      <td>8.88</td>\n",
       "      <td>0.04</td>\n",
       "      <td>2</td>\n",
       "    </tr>\n",
       "    <tr>\n",
       "      <th>23535</th>\n",
       "      <td>30</td>\n",
       "      <td>28000</td>\n",
       "      <td>14.0</td>\n",
       "      <td>14400</td>\n",
       "      <td>12.18</td>\n",
       "      <td>0.50</td>\n",
       "      <td>5</td>\n",
       "    </tr>\n",
       "  </tbody>\n",
       "</table>\n",
       "</div>"
      ],
      "text/plain": [
       "       person_age  person_income  person_emp_length  loan_amnt  loan_int_rate  \\\n",
       "22190          28          81996               12.0       3000          12.42   \n",
       "17092          32          39314               16.0       3000          15.23   \n",
       "14348          25          58650                4.0      20000          14.09   \n",
       "1286           23          31500                7.0       1200           8.88   \n",
       "23535          30          28000               14.0      14400          12.18   \n",
       "\n",
       "       loan_percent_income  cb_person_cred_hist_length  \n",
       "22190                 0.04                           5  \n",
       "17092                 0.08                           7  \n",
       "14348                 0.29                           4  \n",
       "1286                  0.04                           2  \n",
       "23535                 0.50                           5  "
      ]
     },
     "execution_count": 37,
     "metadata": {},
     "output_type": "execute_result"
    }
   ],
   "source": [
    "X_train_num = X_train.select_dtypes(include=['int64', 'float64'])\n",
    "X_train_num.head()"
   ]
  },
  {
   "cell_type": "markdown",
   "id": "d4f8a8fe",
   "metadata": {},
   "source": [
    "**X_train_cat**"
   ]
  },
  {
   "cell_type": "code",
   "execution_count": 38,
   "id": "8d8432f4",
   "metadata": {},
   "outputs": [
    {
     "data": {
      "text/html": [
       "<div>\n",
       "<style scoped>\n",
       "    .dataframe tbody tr th:only-of-type {\n",
       "        vertical-align: middle;\n",
       "    }\n",
       "\n",
       "    .dataframe tbody tr th {\n",
       "        vertical-align: top;\n",
       "    }\n",
       "\n",
       "    .dataframe thead th {\n",
       "        text-align: right;\n",
       "    }\n",
       "</style>\n",
       "<table border=\"1\" class=\"dataframe\">\n",
       "  <thead>\n",
       "    <tr style=\"text-align: right;\">\n",
       "      <th></th>\n",
       "      <th>person_home_ownership</th>\n",
       "      <th>loan_intent</th>\n",
       "      <th>loan_grade</th>\n",
       "      <th>cb_person_default_on_file</th>\n",
       "    </tr>\n",
       "  </thead>\n",
       "  <tbody>\n",
       "    <tr>\n",
       "      <th>22190</th>\n",
       "      <td>MORTGAGE</td>\n",
       "      <td>EDUCATION</td>\n",
       "      <td>B</td>\n",
       "      <td>0</td>\n",
       "    </tr>\n",
       "    <tr>\n",
       "      <th>17092</th>\n",
       "      <td>RENT</td>\n",
       "      <td>DEBTCONSOLIDATION</td>\n",
       "      <td>C</td>\n",
       "      <td>0</td>\n",
       "    </tr>\n",
       "    <tr>\n",
       "      <th>14348</th>\n",
       "      <td>MORTGAGE</td>\n",
       "      <td>MEDICAL</td>\n",
       "      <td>D</td>\n",
       "      <td>1</td>\n",
       "    </tr>\n",
       "    <tr>\n",
       "      <th>1286</th>\n",
       "      <td>RENT</td>\n",
       "      <td>EDUCATION</td>\n",
       "      <td>B</td>\n",
       "      <td>0</td>\n",
       "    </tr>\n",
       "    <tr>\n",
       "      <th>23535</th>\n",
       "      <td>OWN</td>\n",
       "      <td>MEDICAL</td>\n",
       "      <td>B</td>\n",
       "      <td>0</td>\n",
       "    </tr>\n",
       "  </tbody>\n",
       "</table>\n",
       "</div>"
      ],
      "text/plain": [
       "      person_home_ownership        loan_intent loan_grade  \\\n",
       "22190              MORTGAGE          EDUCATION          B   \n",
       "17092                  RENT  DEBTCONSOLIDATION          C   \n",
       "14348              MORTGAGE            MEDICAL          D   \n",
       "1286                   RENT          EDUCATION          B   \n",
       "23535                   OWN            MEDICAL          B   \n",
       "\n",
       "      cb_person_default_on_file  \n",
       "22190                         0  \n",
       "17092                         0  \n",
       "14348                         1  \n",
       "1286                          0  \n",
       "23535                         0  "
      ]
     },
     "execution_count": 38,
     "metadata": {},
     "output_type": "execute_result"
    }
   ],
   "source": [
    "X_train_cat = X_train.select_dtypes(include=['object'])\n",
    "X_train_cat.head()"
   ]
  },
  {
   "cell_type": "markdown",
   "id": "beddff75",
   "metadata": {},
   "source": [
    "### 6.1. Data Preprocessing (Scaling)  X_train_num (Numerical Columns)\n",
    "\n",
    "Standardization"
   ]
  },
  {
   "cell_type": "code",
   "execution_count": 39,
   "id": "2265cae8",
   "metadata": {},
   "outputs": [
    {
     "data": {
      "text/html": [
       "<div>\n",
       "<style scoped>\n",
       "    .dataframe tbody tr th:only-of-type {\n",
       "        vertical-align: middle;\n",
       "    }\n",
       "\n",
       "    .dataframe tbody tr th {\n",
       "        vertical-align: top;\n",
       "    }\n",
       "\n",
       "    .dataframe thead th {\n",
       "        text-align: right;\n",
       "    }\n",
       "</style>\n",
       "<table border=\"1\" class=\"dataframe\">\n",
       "  <thead>\n",
       "    <tr style=\"text-align: right;\">\n",
       "      <th></th>\n",
       "      <th>0</th>\n",
       "      <th>1</th>\n",
       "      <th>2</th>\n",
       "      <th>3</th>\n",
       "      <th>4</th>\n",
       "      <th>5</th>\n",
       "      <th>6</th>\n",
       "    </tr>\n",
       "  </thead>\n",
       "  <tbody>\n",
       "    <tr>\n",
       "      <th>0</th>\n",
       "      <td>0.047169</td>\n",
       "      <td>0.443021</td>\n",
       "      <td>1.844688</td>\n",
       "      <td>-1.067506</td>\n",
       "      <td>0.432208</td>\n",
       "      <td>-1.236421</td>\n",
       "      <td>-0.194046</td>\n",
       "    </tr>\n",
       "    <tr>\n",
       "      <th>1</th>\n",
       "      <td>0.689075</td>\n",
       "      <td>-0.675365</td>\n",
       "      <td>2.861980</td>\n",
       "      <td>-1.067506</td>\n",
       "      <td>1.312585</td>\n",
       "      <td>-0.852877</td>\n",
       "      <td>0.332415</td>\n",
       "    </tr>\n",
       "    <tr>\n",
       "      <th>2</th>\n",
       "      <td>-0.434261</td>\n",
       "      <td>-0.168709</td>\n",
       "      <td>-0.189896</td>\n",
       "      <td>1.672240</td>\n",
       "      <td>0.955421</td>\n",
       "      <td>1.160732</td>\n",
       "      <td>-0.457277</td>\n",
       "    </tr>\n",
       "    <tr>\n",
       "      <th>3</th>\n",
       "      <td>-0.755214</td>\n",
       "      <td>-0.880113</td>\n",
       "      <td>0.573073</td>\n",
       "      <td>-1.357597</td>\n",
       "      <td>-0.676880</td>\n",
       "      <td>-1.236421</td>\n",
       "      <td>-0.983738</td>\n",
       "    </tr>\n",
       "    <tr>\n",
       "      <th>4</th>\n",
       "      <td>0.368122</td>\n",
       "      <td>-0.971823</td>\n",
       "      <td>2.353334</td>\n",
       "      <td>0.769736</td>\n",
       "      <td>0.357015</td>\n",
       "      <td>3.174340</td>\n",
       "      <td>-0.194046</td>\n",
       "    </tr>\n",
       "  </tbody>\n",
       "</table>\n",
       "</div>"
      ],
      "text/plain": [
       "          0         1         2         3         4         5         6\n",
       "0  0.047169  0.443021  1.844688 -1.067506  0.432208 -1.236421 -0.194046\n",
       "1  0.689075 -0.675365  2.861980 -1.067506  1.312585 -0.852877  0.332415\n",
       "2 -0.434261 -0.168709 -0.189896  1.672240  0.955421  1.160732 -0.457277\n",
       "3 -0.755214 -0.880113  0.573073 -1.357597 -0.676880 -1.236421 -0.983738\n",
       "4  0.368122 -0.971823  2.353334  0.769736  0.357015  3.174340 -0.194046"
      ]
     },
     "execution_count": 39,
     "metadata": {},
     "output_type": "execute_result"
    }
   ],
   "source": [
    "# This is how the dataframe looks right after scaling\n",
    "\n",
    "from sklearn.preprocessing import StandardScaler\n",
    "\n",
    "#Instantiating the class StandardScaler\n",
    "#Instantiation: creating a copy of a class which inherits all class variables and methods\n",
    "scaler = StandardScaler()\n",
    "\n",
    "X_train_num_rescaled = pd.DataFrame(scaler.fit_transform(X_train_num))\n",
    "\n",
    "X_train_num_rescaled.head()"
   ]
  },
  {
   "cell_type": "markdown",
   "id": "ecfff99e",
   "metadata": {},
   "source": [
    "**X_train_num_rescaled**"
   ]
  },
  {
   "cell_type": "code",
   "execution_count": 40,
   "id": "75151638",
   "metadata": {},
   "outputs": [
    {
     "data": {
      "text/html": [
       "<div>\n",
       "<style scoped>\n",
       "    .dataframe tbody tr th:only-of-type {\n",
       "        vertical-align: middle;\n",
       "    }\n",
       "\n",
       "    .dataframe tbody tr th {\n",
       "        vertical-align: top;\n",
       "    }\n",
       "\n",
       "    .dataframe thead th {\n",
       "        text-align: right;\n",
       "    }\n",
       "</style>\n",
       "<table border=\"1\" class=\"dataframe\">\n",
       "  <thead>\n",
       "    <tr style=\"text-align: right;\">\n",
       "      <th></th>\n",
       "      <th>person_age</th>\n",
       "      <th>person_income</th>\n",
       "      <th>person_emp_length</th>\n",
       "      <th>loan_amnt</th>\n",
       "      <th>loan_int_rate</th>\n",
       "      <th>loan_percent_income</th>\n",
       "      <th>cb_person_cred_hist_length</th>\n",
       "    </tr>\n",
       "  </thead>\n",
       "  <tbody>\n",
       "    <tr>\n",
       "      <th>22190</th>\n",
       "      <td>0.047169</td>\n",
       "      <td>0.443021</td>\n",
       "      <td>1.844688</td>\n",
       "      <td>-1.067506</td>\n",
       "      <td>0.432208</td>\n",
       "      <td>-1.236421</td>\n",
       "      <td>-0.194046</td>\n",
       "    </tr>\n",
       "    <tr>\n",
       "      <th>17092</th>\n",
       "      <td>0.689075</td>\n",
       "      <td>-0.675365</td>\n",
       "      <td>2.861980</td>\n",
       "      <td>-1.067506</td>\n",
       "      <td>1.312585</td>\n",
       "      <td>-0.852877</td>\n",
       "      <td>0.332415</td>\n",
       "    </tr>\n",
       "    <tr>\n",
       "      <th>14348</th>\n",
       "      <td>-0.434261</td>\n",
       "      <td>-0.168709</td>\n",
       "      <td>-0.189896</td>\n",
       "      <td>1.672240</td>\n",
       "      <td>0.955421</td>\n",
       "      <td>1.160732</td>\n",
       "      <td>-0.457277</td>\n",
       "    </tr>\n",
       "    <tr>\n",
       "      <th>1286</th>\n",
       "      <td>-0.755214</td>\n",
       "      <td>-0.880113</td>\n",
       "      <td>0.573073</td>\n",
       "      <td>-1.357597</td>\n",
       "      <td>-0.676880</td>\n",
       "      <td>-1.236421</td>\n",
       "      <td>-0.983738</td>\n",
       "    </tr>\n",
       "    <tr>\n",
       "      <th>23535</th>\n",
       "      <td>0.368122</td>\n",
       "      <td>-0.971823</td>\n",
       "      <td>2.353334</td>\n",
       "      <td>0.769736</td>\n",
       "      <td>0.357015</td>\n",
       "      <td>3.174340</td>\n",
       "      <td>-0.194046</td>\n",
       "    </tr>\n",
       "  </tbody>\n",
       "</table>\n",
       "</div>"
      ],
      "text/plain": [
       "       person_age  person_income  person_emp_length  loan_amnt  loan_int_rate  \\\n",
       "22190    0.047169       0.443021           1.844688  -1.067506       0.432208   \n",
       "17092    0.689075      -0.675365           2.861980  -1.067506       1.312585   \n",
       "14348   -0.434261      -0.168709          -0.189896   1.672240       0.955421   \n",
       "1286    -0.755214      -0.880113           0.573073  -1.357597      -0.676880   \n",
       "23535    0.368122      -0.971823           2.353334   0.769736       0.357015   \n",
       "\n",
       "       loan_percent_income  cb_person_cred_hist_length  \n",
       "22190            -1.236421                   -0.194046  \n",
       "17092            -0.852877                    0.332415  \n",
       "14348             1.160732                   -0.457277  \n",
       "1286             -1.236421                   -0.983738  \n",
       "23535             3.174340                   -0.194046  "
      ]
     },
     "execution_count": 40,
     "metadata": {},
     "output_type": "execute_result"
    }
   ],
   "source": [
    "#the column names and the indexes/indices do not exist anymore as the fit_transform() method outputs an array\n",
    "#so, obviously, when we try to typecast an array into a dataframe, the columns and indexes won't be present unless we specify them\n",
    "# so, let's specify the columns and indexes\n",
    "\n",
    "X_train_num_rescaled.columns = X_train_num.columns\n",
    "X_train_num_rescaled.index = X_train_num.index\n",
    "X_train_num_rescaled.head()"
   ]
  },
  {
   "cell_type": "code",
   "execution_count": 41,
   "id": "7e5c39bd",
   "metadata": {},
   "outputs": [
    {
     "data": {
      "text/html": [
       "<div>\n",
       "<style scoped>\n",
       "    .dataframe tbody tr th:only-of-type {\n",
       "        vertical-align: middle;\n",
       "    }\n",
       "\n",
       "    .dataframe tbody tr th {\n",
       "        vertical-align: top;\n",
       "    }\n",
       "\n",
       "    .dataframe thead th {\n",
       "        text-align: right;\n",
       "    }\n",
       "</style>\n",
       "<table border=\"1\" class=\"dataframe\">\n",
       "  <thead>\n",
       "    <tr style=\"text-align: right;\">\n",
       "      <th></th>\n",
       "      <th>person_age</th>\n",
       "      <th>person_income</th>\n",
       "      <th>person_emp_length</th>\n",
       "      <th>loan_amnt</th>\n",
       "      <th>loan_int_rate</th>\n",
       "      <th>loan_percent_income</th>\n",
       "      <th>cb_person_cred_hist_length</th>\n",
       "    </tr>\n",
       "  </thead>\n",
       "  <tbody>\n",
       "    <tr>\n",
       "      <th>count</th>\n",
       "      <td>21478.000000</td>\n",
       "      <td>21478.000000</td>\n",
       "      <td>21478.000000</td>\n",
       "      <td>21478.000000</td>\n",
       "      <td>21478.000000</td>\n",
       "      <td>21478.000000</td>\n",
       "      <td>21478.000000</td>\n",
       "    </tr>\n",
       "    <tr>\n",
       "      <th>mean</th>\n",
       "      <td>27.706071</td>\n",
       "      <td>65088.587718</td>\n",
       "      <td>4.746671</td>\n",
       "      <td>9623.825542</td>\n",
       "      <td>11.040474</td>\n",
       "      <td>0.168947</td>\n",
       "      <td>5.737173</td>\n",
       "    </tr>\n",
       "    <tr>\n",
       "      <th>std</th>\n",
       "      <td>6.231587</td>\n",
       "      <td>38164.835138</td>\n",
       "      <td>3.932100</td>\n",
       "      <td>6205.098403</td>\n",
       "      <td>3.191887</td>\n",
       "      <td>0.104293</td>\n",
       "      <td>3.799041</td>\n",
       "    </tr>\n",
       "    <tr>\n",
       "      <th>min</th>\n",
       "      <td>20.000000</td>\n",
       "      <td>14400.000000</td>\n",
       "      <td>0.000000</td>\n",
       "      <td>1200.000000</td>\n",
       "      <td>5.420000</td>\n",
       "      <td>0.020000</td>\n",
       "      <td>2.000000</td>\n",
       "    </tr>\n",
       "    <tr>\n",
       "      <th>25%</th>\n",
       "      <td>23.000000</td>\n",
       "      <td>39600.000000</td>\n",
       "      <td>2.000000</td>\n",
       "      <td>5000.000000</td>\n",
       "      <td>7.900000</td>\n",
       "      <td>0.090000</td>\n",
       "      <td>3.000000</td>\n",
       "    </tr>\n",
       "    <tr>\n",
       "      <th>50%</th>\n",
       "      <td>26.000000</td>\n",
       "      <td>56000.000000</td>\n",
       "      <td>4.000000</td>\n",
       "      <td>8000.000000</td>\n",
       "      <td>10.990000</td>\n",
       "      <td>0.150000</td>\n",
       "      <td>4.000000</td>\n",
       "    </tr>\n",
       "    <tr>\n",
       "      <th>75%</th>\n",
       "      <td>30.000000</td>\n",
       "      <td>80000.000000</td>\n",
       "      <td>7.000000</td>\n",
       "      <td>12400.000000</td>\n",
       "      <td>13.480000</td>\n",
       "      <td>0.230000</td>\n",
       "      <td>8.000000</td>\n",
       "    </tr>\n",
       "    <tr>\n",
       "      <th>max</th>\n",
       "      <td>144.000000</td>\n",
       "      <td>231252.000000</td>\n",
       "      <td>18.000000</td>\n",
       "      <td>29550.000000</td>\n",
       "      <td>18.620000</td>\n",
       "      <td>0.500000</td>\n",
       "      <td>17.000000</td>\n",
       "    </tr>\n",
       "  </tbody>\n",
       "</table>\n",
       "</div>"
      ],
      "text/plain": [
       "         person_age  person_income  person_emp_length     loan_amnt  \\\n",
       "count  21478.000000   21478.000000       21478.000000  21478.000000   \n",
       "mean      27.706071   65088.587718           4.746671   9623.825542   \n",
       "std        6.231587   38164.835138           3.932100   6205.098403   \n",
       "min       20.000000   14400.000000           0.000000   1200.000000   \n",
       "25%       23.000000   39600.000000           2.000000   5000.000000   \n",
       "50%       26.000000   56000.000000           4.000000   8000.000000   \n",
       "75%       30.000000   80000.000000           7.000000  12400.000000   \n",
       "max      144.000000  231252.000000          18.000000  29550.000000   \n",
       "\n",
       "       loan_int_rate  loan_percent_income  cb_person_cred_hist_length  \n",
       "count   21478.000000         21478.000000                21478.000000  \n",
       "mean       11.040474             0.168947                    5.737173  \n",
       "std         3.191887             0.104293                    3.799041  \n",
       "min         5.420000             0.020000                    2.000000  \n",
       "25%         7.900000             0.090000                    3.000000  \n",
       "50%        10.990000             0.150000                    4.000000  \n",
       "75%        13.480000             0.230000                    8.000000  \n",
       "max        18.620000             0.500000                   17.000000  "
      ]
     },
     "execution_count": 41,
     "metadata": {},
     "output_type": "execute_result"
    }
   ],
   "source": [
    "#let's check how the mean and std were before scaling\n",
    "X_train_num.describe()"
   ]
  },
  {
   "cell_type": "code",
   "execution_count": 42,
   "id": "7fe7d6ed",
   "metadata": {},
   "outputs": [
    {
     "data": {
      "text/html": [
       "<div>\n",
       "<style scoped>\n",
       "    .dataframe tbody tr th:only-of-type {\n",
       "        vertical-align: middle;\n",
       "    }\n",
       "\n",
       "    .dataframe tbody tr th {\n",
       "        vertical-align: top;\n",
       "    }\n",
       "\n",
       "    .dataframe thead th {\n",
       "        text-align: right;\n",
       "    }\n",
       "</style>\n",
       "<table border=\"1\" class=\"dataframe\">\n",
       "  <thead>\n",
       "    <tr style=\"text-align: right;\">\n",
       "      <th></th>\n",
       "      <th>person_age</th>\n",
       "      <th>person_income</th>\n",
       "      <th>person_emp_length</th>\n",
       "      <th>loan_amnt</th>\n",
       "      <th>loan_int_rate</th>\n",
       "      <th>loan_percent_income</th>\n",
       "      <th>cb_person_cred_hist_length</th>\n",
       "    </tr>\n",
       "  </thead>\n",
       "  <tbody>\n",
       "    <tr>\n",
       "      <th>count</th>\n",
       "      <td>2.147800e+04</td>\n",
       "      <td>2.147800e+04</td>\n",
       "      <td>2.147800e+04</td>\n",
       "      <td>2.147800e+04</td>\n",
       "      <td>2.147800e+04</td>\n",
       "      <td>2.147800e+04</td>\n",
       "      <td>2.147800e+04</td>\n",
       "    </tr>\n",
       "    <tr>\n",
       "      <th>mean</th>\n",
       "      <td>2.314498e-16</td>\n",
       "      <td>-1.422696e-16</td>\n",
       "      <td>-1.726899e-16</td>\n",
       "      <td>-5.867517e-16</td>\n",
       "      <td>-6.058309e-16</td>\n",
       "      <td>1.119011e-16</td>\n",
       "      <td>-4.922912e-16</td>\n",
       "    </tr>\n",
       "    <tr>\n",
       "      <th>std</th>\n",
       "      <td>1.000023e+00</td>\n",
       "      <td>1.000023e+00</td>\n",
       "      <td>1.000023e+00</td>\n",
       "      <td>1.000023e+00</td>\n",
       "      <td>1.000023e+00</td>\n",
       "      <td>1.000023e+00</td>\n",
       "      <td>1.000023e+00</td>\n",
       "    </tr>\n",
       "    <tr>\n",
       "      <th>min</th>\n",
       "      <td>-1.236643e+00</td>\n",
       "      <td>-1.328180e+00</td>\n",
       "      <td>-1.207188e+00</td>\n",
       "      <td>-1.357597e+00</td>\n",
       "      <td>-1.760904e+00</td>\n",
       "      <td>-1.428193e+00</td>\n",
       "      <td>-9.837378e-01</td>\n",
       "    </tr>\n",
       "    <tr>\n",
       "      <th>25%</th>\n",
       "      <td>-7.552138e-01</td>\n",
       "      <td>-6.678709e-01</td>\n",
       "      <td>-6.985416e-01</td>\n",
       "      <td>-7.451829e-01</td>\n",
       "      <td>-9.839157e-01</td>\n",
       "      <td>-7.569904e-01</td>\n",
       "      <td>-7.205073e-01</td>\n",
       "    </tr>\n",
       "    <tr>\n",
       "      <th>50%</th>\n",
       "      <td>-2.737844e-01</td>\n",
       "      <td>-2.381459e-01</td>\n",
       "      <td>-1.898956e-01</td>\n",
       "      <td>-2.616982e-01</td>\n",
       "      <td>-1.581372e-02</td>\n",
       "      <td>-1.816738e-01</td>\n",
       "      <td>-4.572768e-01</td>\n",
       "    </tr>\n",
       "    <tr>\n",
       "      <th>75%</th>\n",
       "      <td>3.681216e-01</td>\n",
       "      <td>3.907199e-01</td>\n",
       "      <td>5.730733e-01</td>\n",
       "      <td>4.474126e-01</td>\n",
       "      <td>7.643073e-01</td>\n",
       "      <td>5.854151e-01</td>\n",
       "      <td>5.956450e-01</td>\n",
       "    </tr>\n",
       "    <tr>\n",
       "      <th>max</th>\n",
       "      <td>1.866244e+01</td>\n",
       "      <td>4.353937e+00</td>\n",
       "      <td>3.370626e+00</td>\n",
       "      <td>3.211333e+00</td>\n",
       "      <td>2.374678e+00</td>\n",
       "      <td>3.174340e+00</td>\n",
       "      <td>2.964719e+00</td>\n",
       "    </tr>\n",
       "  </tbody>\n",
       "</table>\n",
       "</div>"
      ],
      "text/plain": [
       "         person_age  person_income  person_emp_length     loan_amnt  \\\n",
       "count  2.147800e+04   2.147800e+04       2.147800e+04  2.147800e+04   \n",
       "mean   2.314498e-16  -1.422696e-16      -1.726899e-16 -5.867517e-16   \n",
       "std    1.000023e+00   1.000023e+00       1.000023e+00  1.000023e+00   \n",
       "min   -1.236643e+00  -1.328180e+00      -1.207188e+00 -1.357597e+00   \n",
       "25%   -7.552138e-01  -6.678709e-01      -6.985416e-01 -7.451829e-01   \n",
       "50%   -2.737844e-01  -2.381459e-01      -1.898956e-01 -2.616982e-01   \n",
       "75%    3.681216e-01   3.907199e-01       5.730733e-01  4.474126e-01   \n",
       "max    1.866244e+01   4.353937e+00       3.370626e+00  3.211333e+00   \n",
       "\n",
       "       loan_int_rate  loan_percent_income  cb_person_cred_hist_length  \n",
       "count   2.147800e+04         2.147800e+04                2.147800e+04  \n",
       "mean   -6.058309e-16         1.119011e-16               -4.922912e-16  \n",
       "std     1.000023e+00         1.000023e+00                1.000023e+00  \n",
       "min    -1.760904e+00        -1.428193e+00               -9.837378e-01  \n",
       "25%    -9.839157e-01        -7.569904e-01               -7.205073e-01  \n",
       "50%    -1.581372e-02        -1.816738e-01               -4.572768e-01  \n",
       "75%     7.643073e-01         5.854151e-01                5.956450e-01  \n",
       "max     2.374678e+00         3.174340e+00                2.964719e+00  "
      ]
     },
     "execution_count": 42,
     "metadata": {},
     "output_type": "execute_result"
    }
   ],
   "source": [
    "#observe the mean and std values after scaling\n",
    "X_train_num_rescaled.describe()"
   ]
  },
  {
   "cell_type": "code",
   "execution_count": 43,
   "id": "f6ceed52",
   "metadata": {},
   "outputs": [
    {
     "data": {
      "text/plain": [
       "0.999999999999931"
      ]
     },
     "execution_count": 43,
     "metadata": {},
     "output_type": "execute_result"
    }
   ],
   "source": [
    "np.sqrt(np.var(X_train_num_rescaled['person_age']))"
   ]
  },
  {
   "cell_type": "code",
   "execution_count": 44,
   "id": "1ade63d2",
   "metadata": {},
   "outputs": [],
   "source": [
    "#trying to show the difference between the mean, std\n",
    "mean_bs = []\n",
    "std_bs = []\n",
    "\n",
    "mean_as = []\n",
    "std_as = []\n",
    "\n",
    "for each_column in X_train_num.columns:\n",
    "    \n",
    "    mean_bs.append(np.mean(X_train_num[each_column]))\n",
    "    std_bs.append(np.sqrt(np.var(X_train_num[each_column])))\n",
    "    \n",
    "    mean_as.append(np.mean(X_train_num_rescaled[each_column]))\n",
    "    std_as.append(np.sqrt(np.var(X_train_num_rescaled[each_column])))"
   ]
  },
  {
   "cell_type": "code",
   "execution_count": 45,
   "id": "59eef104",
   "metadata": {},
   "outputs": [
    {
     "data": {
      "text/html": [
       "<div>\n",
       "<style scoped>\n",
       "    .dataframe tbody tr th:only-of-type {\n",
       "        vertical-align: middle;\n",
       "    }\n",
       "\n",
       "    .dataframe tbody tr th {\n",
       "        vertical-align: top;\n",
       "    }\n",
       "\n",
       "    .dataframe thead th {\n",
       "        text-align: right;\n",
       "    }\n",
       "</style>\n",
       "<table border=\"1\" class=\"dataframe\">\n",
       "  <thead>\n",
       "    <tr style=\"text-align: right;\">\n",
       "      <th></th>\n",
       "      <th>Mean before scaling</th>\n",
       "      <th>Mean after scaling</th>\n",
       "      <th>Standard Deviation before scaling</th>\n",
       "      <th>Standard Deviation after scaling</th>\n",
       "    </tr>\n",
       "  </thead>\n",
       "  <tbody>\n",
       "    <tr>\n",
       "      <th>person_age</th>\n",
       "      <td>27.706071</td>\n",
       "      <td>2.314498e-16</td>\n",
       "      <td>6.231442</td>\n",
       "      <td>1.0</td>\n",
       "    </tr>\n",
       "    <tr>\n",
       "      <th>person_income</th>\n",
       "      <td>65088.587718</td>\n",
       "      <td>-1.422696e-16</td>\n",
       "      <td>38163.946664</td>\n",
       "      <td>1.0</td>\n",
       "    </tr>\n",
       "    <tr>\n",
       "      <th>person_emp_length</th>\n",
       "      <td>4.746671</td>\n",
       "      <td>-1.726899e-16</td>\n",
       "      <td>3.932008</td>\n",
       "      <td>1.0</td>\n",
       "    </tr>\n",
       "    <tr>\n",
       "      <th>loan_amnt</th>\n",
       "      <td>9623.825542</td>\n",
       "      <td>-5.867517e-16</td>\n",
       "      <td>6204.953949</td>\n",
       "      <td>1.0</td>\n",
       "    </tr>\n",
       "    <tr>\n",
       "      <th>loan_int_rate</th>\n",
       "      <td>11.040474</td>\n",
       "      <td>-6.058309e-16</td>\n",
       "      <td>3.191813</td>\n",
       "      <td>1.0</td>\n",
       "    </tr>\n",
       "    <tr>\n",
       "      <th>loan_percent_income</th>\n",
       "      <td>0.168947</td>\n",
       "      <td>1.119011e-16</td>\n",
       "      <td>0.104290</td>\n",
       "      <td>1.0</td>\n",
       "    </tr>\n",
       "    <tr>\n",
       "      <th>cb_person_cred_hist_length</th>\n",
       "      <td>5.737173</td>\n",
       "      <td>-4.922912e-16</td>\n",
       "      <td>3.798952</td>\n",
       "      <td>1.0</td>\n",
       "    </tr>\n",
       "  </tbody>\n",
       "</table>\n",
       "</div>"
      ],
      "text/plain": [
       "                            Mean before scaling  Mean after scaling  \\\n",
       "person_age                            27.706071        2.314498e-16   \n",
       "person_income                      65088.587718       -1.422696e-16   \n",
       "person_emp_length                      4.746671       -1.726899e-16   \n",
       "loan_amnt                           9623.825542       -5.867517e-16   \n",
       "loan_int_rate                         11.040474       -6.058309e-16   \n",
       "loan_percent_income                    0.168947        1.119011e-16   \n",
       "cb_person_cred_hist_length             5.737173       -4.922912e-16   \n",
       "\n",
       "                            Standard Deviation before scaling  \\\n",
       "person_age                                           6.231442   \n",
       "person_income                                    38163.946664   \n",
       "person_emp_length                                    3.932008   \n",
       "loan_amnt                                         6204.953949   \n",
       "loan_int_rate                                        3.191813   \n",
       "loan_percent_income                                  0.104290   \n",
       "cb_person_cred_hist_length                           3.798952   \n",
       "\n",
       "                            Standard Deviation after scaling  \n",
       "person_age                                               1.0  \n",
       "person_income                                            1.0  \n",
       "person_emp_length                                        1.0  \n",
       "loan_amnt                                                1.0  \n",
       "loan_int_rate                                            1.0  \n",
       "loan_percent_income                                      1.0  \n",
       "cb_person_cred_hist_length                               1.0  "
      ]
     },
     "execution_count": 45,
     "metadata": {},
     "output_type": "execute_result"
    }
   ],
   "source": [
    "#converting to a dataframe\n",
    "\n",
    "df1 = pd.DataFrame({'Mean before scaling': mean_bs,\n",
    "                    'Mean after scaling': mean_as,\n",
    "                   'Standard Deviation before scaling': std_bs,\n",
    "                   'Standard Deviation after scaling': std_as}, index=X_train_num.columns)\n",
    "df1"
   ]
  },
  {
   "cell_type": "markdown",
   "id": "3749aab3",
   "metadata": {},
   "source": [
    "### 6.2. Data Preprocessing X_train_cat"
   ]
  },
  {
   "cell_type": "code",
   "execution_count": 46,
   "id": "84145faf",
   "metadata": {},
   "outputs": [
    {
     "data": {
      "text/html": [
       "<div>\n",
       "<style scoped>\n",
       "    .dataframe tbody tr th:only-of-type {\n",
       "        vertical-align: middle;\n",
       "    }\n",
       "\n",
       "    .dataframe tbody tr th {\n",
       "        vertical-align: top;\n",
       "    }\n",
       "\n",
       "    .dataframe thead th {\n",
       "        text-align: right;\n",
       "    }\n",
       "</style>\n",
       "<table border=\"1\" class=\"dataframe\">\n",
       "  <thead>\n",
       "    <tr style=\"text-align: right;\">\n",
       "      <th></th>\n",
       "      <th>person_home_ownership</th>\n",
       "      <th>loan_intent</th>\n",
       "      <th>loan_grade</th>\n",
       "      <th>cb_person_default_on_file</th>\n",
       "    </tr>\n",
       "  </thead>\n",
       "  <tbody>\n",
       "    <tr>\n",
       "      <th>22190</th>\n",
       "      <td>MORTGAGE</td>\n",
       "      <td>EDUCATION</td>\n",
       "      <td>B</td>\n",
       "      <td>0</td>\n",
       "    </tr>\n",
       "    <tr>\n",
       "      <th>17092</th>\n",
       "      <td>RENT</td>\n",
       "      <td>DEBTCONSOLIDATION</td>\n",
       "      <td>C</td>\n",
       "      <td>0</td>\n",
       "    </tr>\n",
       "    <tr>\n",
       "      <th>14348</th>\n",
       "      <td>MORTGAGE</td>\n",
       "      <td>MEDICAL</td>\n",
       "      <td>D</td>\n",
       "      <td>1</td>\n",
       "    </tr>\n",
       "    <tr>\n",
       "      <th>1286</th>\n",
       "      <td>RENT</td>\n",
       "      <td>EDUCATION</td>\n",
       "      <td>B</td>\n",
       "      <td>0</td>\n",
       "    </tr>\n",
       "    <tr>\n",
       "      <th>23535</th>\n",
       "      <td>OWN</td>\n",
       "      <td>MEDICAL</td>\n",
       "      <td>B</td>\n",
       "      <td>0</td>\n",
       "    </tr>\n",
       "  </tbody>\n",
       "</table>\n",
       "</div>"
      ],
      "text/plain": [
       "      person_home_ownership        loan_intent loan_grade  \\\n",
       "22190              MORTGAGE          EDUCATION          B   \n",
       "17092                  RENT  DEBTCONSOLIDATION          C   \n",
       "14348              MORTGAGE            MEDICAL          D   \n",
       "1286                   RENT          EDUCATION          B   \n",
       "23535                   OWN            MEDICAL          B   \n",
       "\n",
       "      cb_person_default_on_file  \n",
       "22190                         0  \n",
       "17092                         0  \n",
       "14348                         1  \n",
       "1286                          0  \n",
       "23535                         0  "
      ]
     },
     "execution_count": 46,
     "metadata": {},
     "output_type": "execute_result"
    }
   ],
   "source": [
    "X_train_cat.head()"
   ]
  },
  {
   "cell_type": "code",
   "execution_count": null,
   "id": "dcd23605",
   "metadata": {},
   "outputs": [],
   "source": []
  },
  {
   "cell_type": "markdown",
   "id": "5c30b5d0",
   "metadata": {},
   "source": [
    "**X_train_cat**"
   ]
  },
  {
   "cell_type": "code",
   "execution_count": 47,
   "id": "3b22110e",
   "metadata": {
    "scrolled": false
   },
   "outputs": [
    {
     "data": {
      "text/plain": [
       "RENT        10886\n",
       "MORTGAGE     8869\n",
       "OWN          1654\n",
       "OTHER          69\n",
       "Name: person_home_ownership, dtype: int64"
      ]
     },
     "execution_count": 47,
     "metadata": {},
     "output_type": "execute_result"
    }
   ],
   "source": [
    "X_train_cat['person_home_ownership'].value_counts()\n",
    "#nominal"
   ]
  },
  {
   "cell_type": "code",
   "execution_count": 48,
   "id": "2c4d440e",
   "metadata": {},
   "outputs": [
    {
     "data": {
      "text/plain": [
       "EDUCATION            4278\n",
       "MEDICAL              3974\n",
       "VENTURE              3722\n",
       "PERSONAL             3708\n",
       "DEBTCONSOLIDATION    3398\n",
       "HOMEIMPROVEMENT      2398\n",
       "Name: loan_intent, dtype: int64"
      ]
     },
     "execution_count": 48,
     "metadata": {},
     "output_type": "execute_result"
    }
   ],
   "source": [
    "X_train_cat['loan_intent'].value_counts()\n",
    "#nominal"
   ]
  },
  {
   "cell_type": "code",
   "execution_count": 49,
   "id": "2e011f99",
   "metadata": {},
   "outputs": [
    {
     "data": {
      "text/plain": [
       "A    6993\n",
       "B    6875\n",
       "C    4337\n",
       "D    2450\n",
       "E     635\n",
       "F     150\n",
       "G      38\n",
       "Name: loan_grade, dtype: int64"
      ]
     },
     "execution_count": 49,
     "metadata": {},
     "output_type": "execute_result"
    }
   ],
   "source": [
    "X_train_cat['loan_grade'].value_counts()\n",
    "#ordinal"
   ]
  },
  {
   "cell_type": "markdown",
   "id": "b1ee3fc4",
   "metadata": {},
   "source": [
    "#### 6.2.1. Applying OHE on nominal categorical columns"
   ]
  },
  {
   "cell_type": "markdown",
   "id": "cf68d467",
   "metadata": {},
   "source": [
    "`person_home_ownership` and `loan_intent` are the two columns that do not follow any order"
   ]
  },
  {
   "cell_type": "code",
   "execution_count": 50,
   "id": "e1bd7344",
   "metadata": {},
   "outputs": [
    {
     "data": {
      "text/html": [
       "<div>\n",
       "<style scoped>\n",
       "    .dataframe tbody tr th:only-of-type {\n",
       "        vertical-align: middle;\n",
       "    }\n",
       "\n",
       "    .dataframe tbody tr th {\n",
       "        vertical-align: top;\n",
       "    }\n",
       "\n",
       "    .dataframe thead th {\n",
       "        text-align: right;\n",
       "    }\n",
       "</style>\n",
       "<table border=\"1\" class=\"dataframe\">\n",
       "  <thead>\n",
       "    <tr style=\"text-align: right;\">\n",
       "      <th></th>\n",
       "      <th>person_home_ownership</th>\n",
       "      <th>loan_intent</th>\n",
       "    </tr>\n",
       "  </thead>\n",
       "  <tbody>\n",
       "    <tr>\n",
       "      <th>22190</th>\n",
       "      <td>MORTGAGE</td>\n",
       "      <td>EDUCATION</td>\n",
       "    </tr>\n",
       "    <tr>\n",
       "      <th>17092</th>\n",
       "      <td>RENT</td>\n",
       "      <td>DEBTCONSOLIDATION</td>\n",
       "    </tr>\n",
       "    <tr>\n",
       "      <th>14348</th>\n",
       "      <td>MORTGAGE</td>\n",
       "      <td>MEDICAL</td>\n",
       "    </tr>\n",
       "    <tr>\n",
       "      <th>1286</th>\n",
       "      <td>RENT</td>\n",
       "      <td>EDUCATION</td>\n",
       "    </tr>\n",
       "    <tr>\n",
       "      <th>23535</th>\n",
       "      <td>OWN</td>\n",
       "      <td>MEDICAL</td>\n",
       "    </tr>\n",
       "    <tr>\n",
       "      <th>...</th>\n",
       "      <td>...</td>\n",
       "      <td>...</td>\n",
       "    </tr>\n",
       "    <tr>\n",
       "      <th>7443</th>\n",
       "      <td>RENT</td>\n",
       "      <td>HOMEIMPROVEMENT</td>\n",
       "    </tr>\n",
       "    <tr>\n",
       "      <th>4182</th>\n",
       "      <td>RENT</td>\n",
       "      <td>DEBTCONSOLIDATION</td>\n",
       "    </tr>\n",
       "    <tr>\n",
       "      <th>4820</th>\n",
       "      <td>OWN</td>\n",
       "      <td>VENTURE</td>\n",
       "    </tr>\n",
       "    <tr>\n",
       "      <th>10196</th>\n",
       "      <td>RENT</td>\n",
       "      <td>EDUCATION</td>\n",
       "    </tr>\n",
       "    <tr>\n",
       "      <th>12116</th>\n",
       "      <td>RENT</td>\n",
       "      <td>DEBTCONSOLIDATION</td>\n",
       "    </tr>\n",
       "  </tbody>\n",
       "</table>\n",
       "<p>21478 rows × 2 columns</p>\n",
       "</div>"
      ],
      "text/plain": [
       "      person_home_ownership        loan_intent\n",
       "22190              MORTGAGE          EDUCATION\n",
       "17092                  RENT  DEBTCONSOLIDATION\n",
       "14348              MORTGAGE            MEDICAL\n",
       "1286                   RENT          EDUCATION\n",
       "23535                   OWN            MEDICAL\n",
       "...                     ...                ...\n",
       "7443                   RENT    HOMEIMPROVEMENT\n",
       "4182                   RENT  DEBTCONSOLIDATION\n",
       "4820                    OWN            VENTURE\n",
       "10196                  RENT          EDUCATION\n",
       "12116                  RENT  DEBTCONSOLIDATION\n",
       "\n",
       "[21478 rows x 2 columns]"
      ]
     },
     "execution_count": 50,
     "metadata": {},
     "output_type": "execute_result"
    }
   ],
   "source": [
    "X_train_cat[['person_home_ownership', 'loan_intent']]"
   ]
  },
  {
   "cell_type": "code",
   "execution_count": 51,
   "id": "b0892c48",
   "metadata": {},
   "outputs": [],
   "source": [
    "from sklearn.preprocessing import OneHotEncoder\n",
    "\n",
    "encoder_ = OneHotEncoder(drop='first', min_frequency=1500, sparse=False)\n",
    "\n",
    "X_train_cat_ohe = pd.DataFrame(encoder_.fit_transform(X_train_cat[['person_home_ownership', 'loan_intent']]),\n",
    "                              columns = encoder_.get_feature_names_out(X_train_cat[['person_home_ownership', 'loan_intent']].columns),\n",
    "                              index = X_train_cat[['person_home_ownership', 'loan_intent']].index)"
   ]
  },
  {
   "cell_type": "code",
   "execution_count": 52,
   "id": "4afcea83",
   "metadata": {},
   "outputs": [
    {
     "data": {
      "text/html": [
       "<div>\n",
       "<style scoped>\n",
       "    .dataframe tbody tr th:only-of-type {\n",
       "        vertical-align: middle;\n",
       "    }\n",
       "\n",
       "    .dataframe tbody tr th {\n",
       "        vertical-align: top;\n",
       "    }\n",
       "\n",
       "    .dataframe thead th {\n",
       "        text-align: right;\n",
       "    }\n",
       "</style>\n",
       "<table border=\"1\" class=\"dataframe\">\n",
       "  <thead>\n",
       "    <tr style=\"text-align: right;\">\n",
       "      <th></th>\n",
       "      <th>person_home_ownership_OWN</th>\n",
       "      <th>person_home_ownership_RENT</th>\n",
       "      <th>person_home_ownership_infrequent_sklearn</th>\n",
       "      <th>loan_intent_EDUCATION</th>\n",
       "      <th>loan_intent_HOMEIMPROVEMENT</th>\n",
       "      <th>loan_intent_MEDICAL</th>\n",
       "      <th>loan_intent_PERSONAL</th>\n",
       "      <th>loan_intent_VENTURE</th>\n",
       "    </tr>\n",
       "  </thead>\n",
       "  <tbody>\n",
       "    <tr>\n",
       "      <th>22190</th>\n",
       "      <td>0.0</td>\n",
       "      <td>0.0</td>\n",
       "      <td>0.0</td>\n",
       "      <td>1.0</td>\n",
       "      <td>0.0</td>\n",
       "      <td>0.0</td>\n",
       "      <td>0.0</td>\n",
       "      <td>0.0</td>\n",
       "    </tr>\n",
       "    <tr>\n",
       "      <th>17092</th>\n",
       "      <td>0.0</td>\n",
       "      <td>1.0</td>\n",
       "      <td>0.0</td>\n",
       "      <td>0.0</td>\n",
       "      <td>0.0</td>\n",
       "      <td>0.0</td>\n",
       "      <td>0.0</td>\n",
       "      <td>0.0</td>\n",
       "    </tr>\n",
       "    <tr>\n",
       "      <th>14348</th>\n",
       "      <td>0.0</td>\n",
       "      <td>0.0</td>\n",
       "      <td>0.0</td>\n",
       "      <td>0.0</td>\n",
       "      <td>0.0</td>\n",
       "      <td>1.0</td>\n",
       "      <td>0.0</td>\n",
       "      <td>0.0</td>\n",
       "    </tr>\n",
       "    <tr>\n",
       "      <th>1286</th>\n",
       "      <td>0.0</td>\n",
       "      <td>1.0</td>\n",
       "      <td>0.0</td>\n",
       "      <td>1.0</td>\n",
       "      <td>0.0</td>\n",
       "      <td>0.0</td>\n",
       "      <td>0.0</td>\n",
       "      <td>0.0</td>\n",
       "    </tr>\n",
       "    <tr>\n",
       "      <th>23535</th>\n",
       "      <td>1.0</td>\n",
       "      <td>0.0</td>\n",
       "      <td>0.0</td>\n",
       "      <td>0.0</td>\n",
       "      <td>0.0</td>\n",
       "      <td>1.0</td>\n",
       "      <td>0.0</td>\n",
       "      <td>0.0</td>\n",
       "    </tr>\n",
       "  </tbody>\n",
       "</table>\n",
       "</div>"
      ],
      "text/plain": [
       "       person_home_ownership_OWN  person_home_ownership_RENT  \\\n",
       "22190                        0.0                         0.0   \n",
       "17092                        0.0                         1.0   \n",
       "14348                        0.0                         0.0   \n",
       "1286                         0.0                         1.0   \n",
       "23535                        1.0                         0.0   \n",
       "\n",
       "       person_home_ownership_infrequent_sklearn  loan_intent_EDUCATION  \\\n",
       "22190                                       0.0                    1.0   \n",
       "17092                                       0.0                    0.0   \n",
       "14348                                       0.0                    0.0   \n",
       "1286                                        0.0                    1.0   \n",
       "23535                                       0.0                    0.0   \n",
       "\n",
       "       loan_intent_HOMEIMPROVEMENT  loan_intent_MEDICAL  loan_intent_PERSONAL  \\\n",
       "22190                          0.0                  0.0                   0.0   \n",
       "17092                          0.0                  0.0                   0.0   \n",
       "14348                          0.0                  1.0                   0.0   \n",
       "1286                           0.0                  0.0                   0.0   \n",
       "23535                          0.0                  1.0                   0.0   \n",
       "\n",
       "       loan_intent_VENTURE  \n",
       "22190                  0.0  \n",
       "17092                  0.0  \n",
       "14348                  0.0  \n",
       "1286                   0.0  \n",
       "23535                  0.0  "
      ]
     },
     "execution_count": 52,
     "metadata": {},
     "output_type": "execute_result"
    }
   ],
   "source": [
    "X_train_cat_ohe.head()"
   ]
  },
  {
   "cell_type": "code",
   "execution_count": 53,
   "id": "d26160c2",
   "metadata": {},
   "outputs": [
    {
     "data": {
      "text/plain": [
       "[array(['MORTGAGE', 'OTHER', 'OWN', 'RENT'], dtype=object),\n",
       " array(['DEBTCONSOLIDATION', 'EDUCATION', 'HOMEIMPROVEMENT', 'MEDICAL',\n",
       "        'PERSONAL', 'VENTURE'], dtype=object)]"
      ]
     },
     "execution_count": 53,
     "metadata": {},
     "output_type": "execute_result"
    }
   ],
   "source": [
    "encoder_.categories_"
   ]
  },
  {
   "cell_type": "code",
   "execution_count": 54,
   "id": "52be9f80",
   "metadata": {},
   "outputs": [
    {
     "data": {
      "text/plain": [
       "[array(['OTHER'], dtype=object), None]"
      ]
     },
     "execution_count": 54,
     "metadata": {},
     "output_type": "execute_result"
    }
   ],
   "source": [
    "encoder_.infrequent_categories_\n",
    "#the features that are less than min_frequency i.e, 1500"
   ]
  },
  {
   "cell_type": "code",
   "execution_count": 55,
   "id": "dd52a146",
   "metadata": {},
   "outputs": [
    {
     "data": {
      "text/plain": [
       "(21478, 8)"
      ]
     },
     "execution_count": 55,
     "metadata": {},
     "output_type": "execute_result"
    }
   ],
   "source": [
    "X_train_cat_ohe.shape"
   ]
  },
  {
   "cell_type": "markdown",
   "id": "3957f6ee",
   "metadata": {},
   "source": [
    "#### 6.2.2. Applying Label Encoding on ordinal categorical columns"
   ]
  },
  {
   "cell_type": "code",
   "execution_count": 56,
   "id": "b1aa4ae6",
   "metadata": {},
   "outputs": [
    {
     "data": {
      "text/html": [
       "<div>\n",
       "<style scoped>\n",
       "    .dataframe tbody tr th:only-of-type {\n",
       "        vertical-align: middle;\n",
       "    }\n",
       "\n",
       "    .dataframe tbody tr th {\n",
       "        vertical-align: top;\n",
       "    }\n",
       "\n",
       "    .dataframe thead th {\n",
       "        text-align: right;\n",
       "    }\n",
       "</style>\n",
       "<table border=\"1\" class=\"dataframe\">\n",
       "  <thead>\n",
       "    <tr style=\"text-align: right;\">\n",
       "      <th></th>\n",
       "    </tr>\n",
       "  </thead>\n",
       "  <tbody>\n",
       "    <tr>\n",
       "      <th>22190</th>\n",
       "    </tr>\n",
       "    <tr>\n",
       "      <th>17092</th>\n",
       "    </tr>\n",
       "    <tr>\n",
       "      <th>14348</th>\n",
       "    </tr>\n",
       "    <tr>\n",
       "      <th>1286</th>\n",
       "    </tr>\n",
       "    <tr>\n",
       "      <th>23535</th>\n",
       "    </tr>\n",
       "  </tbody>\n",
       "</table>\n",
       "</div>"
      ],
      "text/plain": [
       "Empty DataFrame\n",
       "Columns: []\n",
       "Index: [22190, 17092, 14348, 1286, 23535]"
      ]
     },
     "execution_count": 56,
     "metadata": {},
     "output_type": "execute_result"
    }
   ],
   "source": [
    "X_train_cat_le = pd.DataFrame(index=X_train_cat.index)\n",
    "X_train_cat_le.head()"
   ]
  },
  {
   "cell_type": "code",
   "execution_count": 57,
   "id": "0cc82008",
   "metadata": {},
   "outputs": [
    {
     "data": {
      "text/plain": [
       "A    6993\n",
       "B    6875\n",
       "C    4337\n",
       "D    2450\n",
       "E     635\n",
       "F     150\n",
       "G      38\n",
       "Name: loan_grade, dtype: int64"
      ]
     },
     "execution_count": 57,
     "metadata": {},
     "output_type": "execute_result"
    }
   ],
   "source": [
    "X_train_cat['loan_grade'].value_counts()"
   ]
  },
  {
   "cell_type": "code",
   "execution_count": 58,
   "id": "8a80a42a",
   "metadata": {},
   "outputs": [
    {
     "data": {
      "text/html": [
       "<div>\n",
       "<style scoped>\n",
       "    .dataframe tbody tr th:only-of-type {\n",
       "        vertical-align: middle;\n",
       "    }\n",
       "\n",
       "    .dataframe tbody tr th {\n",
       "        vertical-align: top;\n",
       "    }\n",
       "\n",
       "    .dataframe thead th {\n",
       "        text-align: right;\n",
       "    }\n",
       "</style>\n",
       "<table border=\"1\" class=\"dataframe\">\n",
       "  <thead>\n",
       "    <tr style=\"text-align: right;\">\n",
       "      <th></th>\n",
       "      <th>loan_grade</th>\n",
       "    </tr>\n",
       "  </thead>\n",
       "  <tbody>\n",
       "    <tr>\n",
       "      <th>22190</th>\n",
       "      <td>2</td>\n",
       "    </tr>\n",
       "    <tr>\n",
       "      <th>17092</th>\n",
       "      <td>3</td>\n",
       "    </tr>\n",
       "    <tr>\n",
       "      <th>14348</th>\n",
       "      <td>4</td>\n",
       "    </tr>\n",
       "    <tr>\n",
       "      <th>1286</th>\n",
       "      <td>2</td>\n",
       "    </tr>\n",
       "    <tr>\n",
       "      <th>23535</th>\n",
       "      <td>2</td>\n",
       "    </tr>\n",
       "  </tbody>\n",
       "</table>\n",
       "</div>"
      ],
      "text/plain": [
       "       loan_grade\n",
       "22190           2\n",
       "17092           3\n",
       "14348           4\n",
       "1286            2\n",
       "23535           2"
      ]
     },
     "execution_count": 58,
     "metadata": {},
     "output_type": "execute_result"
    }
   ],
   "source": [
    "loan_grade_encoder = {'A':1, 'B':2, 'C':3, 'D':4, 'E':5, 'F':6, 'G':7}\n",
    "X_train_cat_le['loan_grade'] = X_train_cat['loan_grade'].apply(lambda x: loan_grade_encoder[x])\n",
    "X_train_cat_le.head()"
   ]
  },
  {
   "cell_type": "markdown",
   "id": "3380389b",
   "metadata": {},
   "source": [
    "#### 6.2.3. Concatinating all the categorical features"
   ]
  },
  {
   "cell_type": "code",
   "execution_count": 59,
   "id": "53be6a5c",
   "metadata": {},
   "outputs": [
    {
     "data": {
      "text/html": [
       "<div>\n",
       "<style scoped>\n",
       "    .dataframe tbody tr th:only-of-type {\n",
       "        vertical-align: middle;\n",
       "    }\n",
       "\n",
       "    .dataframe tbody tr th {\n",
       "        vertical-align: top;\n",
       "    }\n",
       "\n",
       "    .dataframe thead th {\n",
       "        text-align: right;\n",
       "    }\n",
       "</style>\n",
       "<table border=\"1\" class=\"dataframe\">\n",
       "  <thead>\n",
       "    <tr style=\"text-align: right;\">\n",
       "      <th></th>\n",
       "      <th>cb_person_default_on_file</th>\n",
       "    </tr>\n",
       "  </thead>\n",
       "  <tbody>\n",
       "    <tr>\n",
       "      <th>22190</th>\n",
       "      <td>0</td>\n",
       "    </tr>\n",
       "    <tr>\n",
       "      <th>17092</th>\n",
       "      <td>0</td>\n",
       "    </tr>\n",
       "    <tr>\n",
       "      <th>14348</th>\n",
       "      <td>1</td>\n",
       "    </tr>\n",
       "    <tr>\n",
       "      <th>1286</th>\n",
       "      <td>0</td>\n",
       "    </tr>\n",
       "    <tr>\n",
       "      <th>23535</th>\n",
       "      <td>0</td>\n",
       "    </tr>\n",
       "    <tr>\n",
       "      <th>...</th>\n",
       "      <td>...</td>\n",
       "    </tr>\n",
       "    <tr>\n",
       "      <th>7443</th>\n",
       "      <td>0</td>\n",
       "    </tr>\n",
       "    <tr>\n",
       "      <th>4182</th>\n",
       "      <td>0</td>\n",
       "    </tr>\n",
       "    <tr>\n",
       "      <th>4820</th>\n",
       "      <td>1</td>\n",
       "    </tr>\n",
       "    <tr>\n",
       "      <th>10196</th>\n",
       "      <td>0</td>\n",
       "    </tr>\n",
       "    <tr>\n",
       "      <th>12116</th>\n",
       "      <td>0</td>\n",
       "    </tr>\n",
       "  </tbody>\n",
       "</table>\n",
       "<p>21478 rows × 1 columns</p>\n",
       "</div>"
      ],
      "text/plain": [
       "      cb_person_default_on_file\n",
       "22190                         0\n",
       "17092                         0\n",
       "14348                         1\n",
       "1286                          0\n",
       "23535                         0\n",
       "...                         ...\n",
       "7443                          0\n",
       "4182                          0\n",
       "4820                          1\n",
       "10196                         0\n",
       "12116                         0\n",
       "\n",
       "[21478 rows x 1 columns]"
      ]
     },
     "execution_count": 59,
     "metadata": {},
     "output_type": "execute_result"
    }
   ],
   "source": [
    "X_train_cat['cb_person_default_on_file'].to_frame()"
   ]
  },
  {
   "cell_type": "code",
   "execution_count": 60,
   "id": "75fb7bf3",
   "metadata": {},
   "outputs": [
    {
     "data": {
      "text/html": [
       "<div>\n",
       "<style scoped>\n",
       "    .dataframe tbody tr th:only-of-type {\n",
       "        vertical-align: middle;\n",
       "    }\n",
       "\n",
       "    .dataframe tbody tr th {\n",
       "        vertical-align: top;\n",
       "    }\n",
       "\n",
       "    .dataframe thead th {\n",
       "        text-align: right;\n",
       "    }\n",
       "</style>\n",
       "<table border=\"1\" class=\"dataframe\">\n",
       "  <thead>\n",
       "    <tr style=\"text-align: right;\">\n",
       "      <th></th>\n",
       "      <th>person_home_ownership_OWN</th>\n",
       "      <th>person_home_ownership_RENT</th>\n",
       "      <th>person_home_ownership_infrequent_sklearn</th>\n",
       "      <th>loan_intent_EDUCATION</th>\n",
       "      <th>loan_intent_HOMEIMPROVEMENT</th>\n",
       "      <th>loan_intent_MEDICAL</th>\n",
       "      <th>loan_intent_PERSONAL</th>\n",
       "      <th>loan_intent_VENTURE</th>\n",
       "    </tr>\n",
       "  </thead>\n",
       "  <tbody>\n",
       "    <tr>\n",
       "      <th>22190</th>\n",
       "      <td>0.0</td>\n",
       "      <td>0.0</td>\n",
       "      <td>0.0</td>\n",
       "      <td>1.0</td>\n",
       "      <td>0.0</td>\n",
       "      <td>0.0</td>\n",
       "      <td>0.0</td>\n",
       "      <td>0.0</td>\n",
       "    </tr>\n",
       "    <tr>\n",
       "      <th>17092</th>\n",
       "      <td>0.0</td>\n",
       "      <td>1.0</td>\n",
       "      <td>0.0</td>\n",
       "      <td>0.0</td>\n",
       "      <td>0.0</td>\n",
       "      <td>0.0</td>\n",
       "      <td>0.0</td>\n",
       "      <td>0.0</td>\n",
       "    </tr>\n",
       "    <tr>\n",
       "      <th>14348</th>\n",
       "      <td>0.0</td>\n",
       "      <td>0.0</td>\n",
       "      <td>0.0</td>\n",
       "      <td>0.0</td>\n",
       "      <td>0.0</td>\n",
       "      <td>1.0</td>\n",
       "      <td>0.0</td>\n",
       "      <td>0.0</td>\n",
       "    </tr>\n",
       "    <tr>\n",
       "      <th>1286</th>\n",
       "      <td>0.0</td>\n",
       "      <td>1.0</td>\n",
       "      <td>0.0</td>\n",
       "      <td>1.0</td>\n",
       "      <td>0.0</td>\n",
       "      <td>0.0</td>\n",
       "      <td>0.0</td>\n",
       "      <td>0.0</td>\n",
       "    </tr>\n",
       "    <tr>\n",
       "      <th>23535</th>\n",
       "      <td>1.0</td>\n",
       "      <td>0.0</td>\n",
       "      <td>0.0</td>\n",
       "      <td>0.0</td>\n",
       "      <td>0.0</td>\n",
       "      <td>1.0</td>\n",
       "      <td>0.0</td>\n",
       "      <td>0.0</td>\n",
       "    </tr>\n",
       "  </tbody>\n",
       "</table>\n",
       "</div>"
      ],
      "text/plain": [
       "       person_home_ownership_OWN  person_home_ownership_RENT  \\\n",
       "22190                        0.0                         0.0   \n",
       "17092                        0.0                         1.0   \n",
       "14348                        0.0                         0.0   \n",
       "1286                         0.0                         1.0   \n",
       "23535                        1.0                         0.0   \n",
       "\n",
       "       person_home_ownership_infrequent_sklearn  loan_intent_EDUCATION  \\\n",
       "22190                                       0.0                    1.0   \n",
       "17092                                       0.0                    0.0   \n",
       "14348                                       0.0                    0.0   \n",
       "1286                                        0.0                    1.0   \n",
       "23535                                       0.0                    0.0   \n",
       "\n",
       "       loan_intent_HOMEIMPROVEMENT  loan_intent_MEDICAL  loan_intent_PERSONAL  \\\n",
       "22190                          0.0                  0.0                   0.0   \n",
       "17092                          0.0                  0.0                   0.0   \n",
       "14348                          0.0                  1.0                   0.0   \n",
       "1286                           0.0                  0.0                   0.0   \n",
       "23535                          0.0                  1.0                   0.0   \n",
       "\n",
       "       loan_intent_VENTURE  \n",
       "22190                  0.0  \n",
       "17092                  0.0  \n",
       "14348                  0.0  \n",
       "1286                   0.0  \n",
       "23535                  0.0  "
      ]
     },
     "execution_count": 60,
     "metadata": {},
     "output_type": "execute_result"
    }
   ],
   "source": [
    "X_train_cat_ohe.head()"
   ]
  },
  {
   "cell_type": "code",
   "execution_count": 61,
   "id": "c4585803",
   "metadata": {},
   "outputs": [
    {
     "data": {
      "text/html": [
       "<div>\n",
       "<style scoped>\n",
       "    .dataframe tbody tr th:only-of-type {\n",
       "        vertical-align: middle;\n",
       "    }\n",
       "\n",
       "    .dataframe tbody tr th {\n",
       "        vertical-align: top;\n",
       "    }\n",
       "\n",
       "    .dataframe thead th {\n",
       "        text-align: right;\n",
       "    }\n",
       "</style>\n",
       "<table border=\"1\" class=\"dataframe\">\n",
       "  <thead>\n",
       "    <tr style=\"text-align: right;\">\n",
       "      <th></th>\n",
       "      <th>loan_grade</th>\n",
       "    </tr>\n",
       "  </thead>\n",
       "  <tbody>\n",
       "    <tr>\n",
       "      <th>22190</th>\n",
       "      <td>2</td>\n",
       "    </tr>\n",
       "    <tr>\n",
       "      <th>17092</th>\n",
       "      <td>3</td>\n",
       "    </tr>\n",
       "    <tr>\n",
       "      <th>14348</th>\n",
       "      <td>4</td>\n",
       "    </tr>\n",
       "    <tr>\n",
       "      <th>1286</th>\n",
       "      <td>2</td>\n",
       "    </tr>\n",
       "    <tr>\n",
       "      <th>23535</th>\n",
       "      <td>2</td>\n",
       "    </tr>\n",
       "  </tbody>\n",
       "</table>\n",
       "</div>"
      ],
      "text/plain": [
       "       loan_grade\n",
       "22190           2\n",
       "17092           3\n",
       "14348           4\n",
       "1286            2\n",
       "23535           2"
      ]
     },
     "execution_count": 61,
     "metadata": {},
     "output_type": "execute_result"
    }
   ],
   "source": [
    "X_train_cat_le.head()"
   ]
  },
  {
   "cell_type": "code",
   "execution_count": 62,
   "id": "e2aa78f0",
   "metadata": {},
   "outputs": [
    {
     "data": {
      "text/html": [
       "<div>\n",
       "<style scoped>\n",
       "    .dataframe tbody tr th:only-of-type {\n",
       "        vertical-align: middle;\n",
       "    }\n",
       "\n",
       "    .dataframe tbody tr th {\n",
       "        vertical-align: top;\n",
       "    }\n",
       "\n",
       "    .dataframe thead th {\n",
       "        text-align: right;\n",
       "    }\n",
       "</style>\n",
       "<table border=\"1\" class=\"dataframe\">\n",
       "  <thead>\n",
       "    <tr style=\"text-align: right;\">\n",
       "      <th></th>\n",
       "      <th>person_home_ownership</th>\n",
       "      <th>loan_intent</th>\n",
       "      <th>loan_grade</th>\n",
       "      <th>cb_person_default_on_file</th>\n",
       "    </tr>\n",
       "  </thead>\n",
       "  <tbody>\n",
       "    <tr>\n",
       "      <th>22190</th>\n",
       "      <td>MORTGAGE</td>\n",
       "      <td>EDUCATION</td>\n",
       "      <td>B</td>\n",
       "      <td>0</td>\n",
       "    </tr>\n",
       "    <tr>\n",
       "      <th>17092</th>\n",
       "      <td>RENT</td>\n",
       "      <td>DEBTCONSOLIDATION</td>\n",
       "      <td>C</td>\n",
       "      <td>0</td>\n",
       "    </tr>\n",
       "    <tr>\n",
       "      <th>14348</th>\n",
       "      <td>MORTGAGE</td>\n",
       "      <td>MEDICAL</td>\n",
       "      <td>D</td>\n",
       "      <td>1</td>\n",
       "    </tr>\n",
       "    <tr>\n",
       "      <th>1286</th>\n",
       "      <td>RENT</td>\n",
       "      <td>EDUCATION</td>\n",
       "      <td>B</td>\n",
       "      <td>0</td>\n",
       "    </tr>\n",
       "    <tr>\n",
       "      <th>23535</th>\n",
       "      <td>OWN</td>\n",
       "      <td>MEDICAL</td>\n",
       "      <td>B</td>\n",
       "      <td>0</td>\n",
       "    </tr>\n",
       "  </tbody>\n",
       "</table>\n",
       "</div>"
      ],
      "text/plain": [
       "      person_home_ownership        loan_intent loan_grade  \\\n",
       "22190              MORTGAGE          EDUCATION          B   \n",
       "17092                  RENT  DEBTCONSOLIDATION          C   \n",
       "14348              MORTGAGE            MEDICAL          D   \n",
       "1286                   RENT          EDUCATION          B   \n",
       "23535                   OWN            MEDICAL          B   \n",
       "\n",
       "      cb_person_default_on_file  \n",
       "22190                         0  \n",
       "17092                         0  \n",
       "14348                         1  \n",
       "1286                          0  \n",
       "23535                         0  "
      ]
     },
     "execution_count": 62,
     "metadata": {},
     "output_type": "execute_result"
    }
   ],
   "source": [
    "X_train_cat.head()"
   ]
  },
  {
   "cell_type": "markdown",
   "id": "5aba79b7",
   "metadata": {},
   "source": [
    "**X_train_cat_encoded**"
   ]
  },
  {
   "cell_type": "code",
   "execution_count": 63,
   "id": "1cf6520a",
   "metadata": {},
   "outputs": [
    {
     "data": {
      "text/html": [
       "<div>\n",
       "<style scoped>\n",
       "    .dataframe tbody tr th:only-of-type {\n",
       "        vertical-align: middle;\n",
       "    }\n",
       "\n",
       "    .dataframe tbody tr th {\n",
       "        vertical-align: top;\n",
       "    }\n",
       "\n",
       "    .dataframe thead th {\n",
       "        text-align: right;\n",
       "    }\n",
       "</style>\n",
       "<table border=\"1\" class=\"dataframe\">\n",
       "  <thead>\n",
       "    <tr style=\"text-align: right;\">\n",
       "      <th></th>\n",
       "      <th>person_home_ownership_OWN</th>\n",
       "      <th>person_home_ownership_RENT</th>\n",
       "      <th>person_home_ownership_infrequent_sklearn</th>\n",
       "      <th>loan_intent_EDUCATION</th>\n",
       "      <th>loan_intent_HOMEIMPROVEMENT</th>\n",
       "      <th>loan_intent_MEDICAL</th>\n",
       "      <th>loan_intent_PERSONAL</th>\n",
       "      <th>loan_intent_VENTURE</th>\n",
       "      <th>loan_grade</th>\n",
       "      <th>cb_person_default_on_file</th>\n",
       "    </tr>\n",
       "  </thead>\n",
       "  <tbody>\n",
       "    <tr>\n",
       "      <th>22190</th>\n",
       "      <td>0.0</td>\n",
       "      <td>0.0</td>\n",
       "      <td>0.0</td>\n",
       "      <td>1.0</td>\n",
       "      <td>0.0</td>\n",
       "      <td>0.0</td>\n",
       "      <td>0.0</td>\n",
       "      <td>0.0</td>\n",
       "      <td>2</td>\n",
       "      <td>0</td>\n",
       "    </tr>\n",
       "    <tr>\n",
       "      <th>17092</th>\n",
       "      <td>0.0</td>\n",
       "      <td>1.0</td>\n",
       "      <td>0.0</td>\n",
       "      <td>0.0</td>\n",
       "      <td>0.0</td>\n",
       "      <td>0.0</td>\n",
       "      <td>0.0</td>\n",
       "      <td>0.0</td>\n",
       "      <td>3</td>\n",
       "      <td>0</td>\n",
       "    </tr>\n",
       "    <tr>\n",
       "      <th>14348</th>\n",
       "      <td>0.0</td>\n",
       "      <td>0.0</td>\n",
       "      <td>0.0</td>\n",
       "      <td>0.0</td>\n",
       "      <td>0.0</td>\n",
       "      <td>1.0</td>\n",
       "      <td>0.0</td>\n",
       "      <td>0.0</td>\n",
       "      <td>4</td>\n",
       "      <td>1</td>\n",
       "    </tr>\n",
       "    <tr>\n",
       "      <th>1286</th>\n",
       "      <td>0.0</td>\n",
       "      <td>1.0</td>\n",
       "      <td>0.0</td>\n",
       "      <td>1.0</td>\n",
       "      <td>0.0</td>\n",
       "      <td>0.0</td>\n",
       "      <td>0.0</td>\n",
       "      <td>0.0</td>\n",
       "      <td>2</td>\n",
       "      <td>0</td>\n",
       "    </tr>\n",
       "    <tr>\n",
       "      <th>23535</th>\n",
       "      <td>1.0</td>\n",
       "      <td>0.0</td>\n",
       "      <td>0.0</td>\n",
       "      <td>0.0</td>\n",
       "      <td>0.0</td>\n",
       "      <td>1.0</td>\n",
       "      <td>0.0</td>\n",
       "      <td>0.0</td>\n",
       "      <td>2</td>\n",
       "      <td>0</td>\n",
       "    </tr>\n",
       "  </tbody>\n",
       "</table>\n",
       "</div>"
      ],
      "text/plain": [
       "       person_home_ownership_OWN  person_home_ownership_RENT  \\\n",
       "22190                        0.0                         0.0   \n",
       "17092                        0.0                         1.0   \n",
       "14348                        0.0                         0.0   \n",
       "1286                         0.0                         1.0   \n",
       "23535                        1.0                         0.0   \n",
       "\n",
       "       person_home_ownership_infrequent_sklearn  loan_intent_EDUCATION  \\\n",
       "22190                                       0.0                    1.0   \n",
       "17092                                       0.0                    0.0   \n",
       "14348                                       0.0                    0.0   \n",
       "1286                                        0.0                    1.0   \n",
       "23535                                       0.0                    0.0   \n",
       "\n",
       "       loan_intent_HOMEIMPROVEMENT  loan_intent_MEDICAL  loan_intent_PERSONAL  \\\n",
       "22190                          0.0                  0.0                   0.0   \n",
       "17092                          0.0                  0.0                   0.0   \n",
       "14348                          0.0                  1.0                   0.0   \n",
       "1286                           0.0                  0.0                   0.0   \n",
       "23535                          0.0                  1.0                   0.0   \n",
       "\n",
       "       loan_intent_VENTURE  loan_grade cb_person_default_on_file  \n",
       "22190                  0.0           2                         0  \n",
       "17092                  0.0           3                         0  \n",
       "14348                  0.0           4                         1  \n",
       "1286                   0.0           2                         0  \n",
       "23535                  0.0           2                         0  "
      ]
     },
     "execution_count": 63,
     "metadata": {},
     "output_type": "execute_result"
    }
   ],
   "source": [
    "X_train_cat_encoded = pd.concat([X_train_cat_ohe, X_train_cat_le, X_train_cat['cb_person_default_on_file'].to_frame()], axis=1)\n",
    "X_train_cat_encoded.head()"
   ]
  },
  {
   "cell_type": "markdown",
   "id": "91b83f21",
   "metadata": {},
   "source": [
    "### X_train_transformed"
   ]
  },
  {
   "cell_type": "code",
   "execution_count": 64,
   "id": "57fa9817",
   "metadata": {},
   "outputs": [
    {
     "data": {
      "text/html": [
       "<div>\n",
       "<style scoped>\n",
       "    .dataframe tbody tr th:only-of-type {\n",
       "        vertical-align: middle;\n",
       "    }\n",
       "\n",
       "    .dataframe tbody tr th {\n",
       "        vertical-align: top;\n",
       "    }\n",
       "\n",
       "    .dataframe thead th {\n",
       "        text-align: right;\n",
       "    }\n",
       "</style>\n",
       "<table border=\"1\" class=\"dataframe\">\n",
       "  <thead>\n",
       "    <tr style=\"text-align: right;\">\n",
       "      <th></th>\n",
       "      <th>person_age</th>\n",
       "      <th>person_income</th>\n",
       "      <th>person_emp_length</th>\n",
       "      <th>loan_amnt</th>\n",
       "      <th>loan_int_rate</th>\n",
       "      <th>loan_percent_income</th>\n",
       "      <th>cb_person_cred_hist_length</th>\n",
       "      <th>person_home_ownership_OWN</th>\n",
       "      <th>person_home_ownership_RENT</th>\n",
       "      <th>person_home_ownership_infrequent_sklearn</th>\n",
       "      <th>loan_intent_EDUCATION</th>\n",
       "      <th>loan_intent_HOMEIMPROVEMENT</th>\n",
       "      <th>loan_intent_MEDICAL</th>\n",
       "      <th>loan_intent_PERSONAL</th>\n",
       "      <th>loan_intent_VENTURE</th>\n",
       "      <th>loan_grade</th>\n",
       "      <th>cb_person_default_on_file</th>\n",
       "    </tr>\n",
       "  </thead>\n",
       "  <tbody>\n",
       "    <tr>\n",
       "      <th>22190</th>\n",
       "      <td>0.047169</td>\n",
       "      <td>0.443021</td>\n",
       "      <td>1.844688</td>\n",
       "      <td>-1.067506</td>\n",
       "      <td>0.432208</td>\n",
       "      <td>-1.236421</td>\n",
       "      <td>-0.194046</td>\n",
       "      <td>0.0</td>\n",
       "      <td>0.0</td>\n",
       "      <td>0.0</td>\n",
       "      <td>1.0</td>\n",
       "      <td>0.0</td>\n",
       "      <td>0.0</td>\n",
       "      <td>0.0</td>\n",
       "      <td>0.0</td>\n",
       "      <td>2</td>\n",
       "      <td>0</td>\n",
       "    </tr>\n",
       "    <tr>\n",
       "      <th>17092</th>\n",
       "      <td>0.689075</td>\n",
       "      <td>-0.675365</td>\n",
       "      <td>2.861980</td>\n",
       "      <td>-1.067506</td>\n",
       "      <td>1.312585</td>\n",
       "      <td>-0.852877</td>\n",
       "      <td>0.332415</td>\n",
       "      <td>0.0</td>\n",
       "      <td>1.0</td>\n",
       "      <td>0.0</td>\n",
       "      <td>0.0</td>\n",
       "      <td>0.0</td>\n",
       "      <td>0.0</td>\n",
       "      <td>0.0</td>\n",
       "      <td>0.0</td>\n",
       "      <td>3</td>\n",
       "      <td>0</td>\n",
       "    </tr>\n",
       "    <tr>\n",
       "      <th>14348</th>\n",
       "      <td>-0.434261</td>\n",
       "      <td>-0.168709</td>\n",
       "      <td>-0.189896</td>\n",
       "      <td>1.672240</td>\n",
       "      <td>0.955421</td>\n",
       "      <td>1.160732</td>\n",
       "      <td>-0.457277</td>\n",
       "      <td>0.0</td>\n",
       "      <td>0.0</td>\n",
       "      <td>0.0</td>\n",
       "      <td>0.0</td>\n",
       "      <td>0.0</td>\n",
       "      <td>1.0</td>\n",
       "      <td>0.0</td>\n",
       "      <td>0.0</td>\n",
       "      <td>4</td>\n",
       "      <td>1</td>\n",
       "    </tr>\n",
       "    <tr>\n",
       "      <th>1286</th>\n",
       "      <td>-0.755214</td>\n",
       "      <td>-0.880113</td>\n",
       "      <td>0.573073</td>\n",
       "      <td>-1.357597</td>\n",
       "      <td>-0.676880</td>\n",
       "      <td>-1.236421</td>\n",
       "      <td>-0.983738</td>\n",
       "      <td>0.0</td>\n",
       "      <td>1.0</td>\n",
       "      <td>0.0</td>\n",
       "      <td>1.0</td>\n",
       "      <td>0.0</td>\n",
       "      <td>0.0</td>\n",
       "      <td>0.0</td>\n",
       "      <td>0.0</td>\n",
       "      <td>2</td>\n",
       "      <td>0</td>\n",
       "    </tr>\n",
       "    <tr>\n",
       "      <th>23535</th>\n",
       "      <td>0.368122</td>\n",
       "      <td>-0.971823</td>\n",
       "      <td>2.353334</td>\n",
       "      <td>0.769736</td>\n",
       "      <td>0.357015</td>\n",
       "      <td>3.174340</td>\n",
       "      <td>-0.194046</td>\n",
       "      <td>1.0</td>\n",
       "      <td>0.0</td>\n",
       "      <td>0.0</td>\n",
       "      <td>0.0</td>\n",
       "      <td>0.0</td>\n",
       "      <td>1.0</td>\n",
       "      <td>0.0</td>\n",
       "      <td>0.0</td>\n",
       "      <td>2</td>\n",
       "      <td>0</td>\n",
       "    </tr>\n",
       "  </tbody>\n",
       "</table>\n",
       "</div>"
      ],
      "text/plain": [
       "       person_age  person_income  person_emp_length  loan_amnt  loan_int_rate  \\\n",
       "22190    0.047169       0.443021           1.844688  -1.067506       0.432208   \n",
       "17092    0.689075      -0.675365           2.861980  -1.067506       1.312585   \n",
       "14348   -0.434261      -0.168709          -0.189896   1.672240       0.955421   \n",
       "1286    -0.755214      -0.880113           0.573073  -1.357597      -0.676880   \n",
       "23535    0.368122      -0.971823           2.353334   0.769736       0.357015   \n",
       "\n",
       "       loan_percent_income  cb_person_cred_hist_length  \\\n",
       "22190            -1.236421                   -0.194046   \n",
       "17092            -0.852877                    0.332415   \n",
       "14348             1.160732                   -0.457277   \n",
       "1286             -1.236421                   -0.983738   \n",
       "23535             3.174340                   -0.194046   \n",
       "\n",
       "       person_home_ownership_OWN  person_home_ownership_RENT  \\\n",
       "22190                        0.0                         0.0   \n",
       "17092                        0.0                         1.0   \n",
       "14348                        0.0                         0.0   \n",
       "1286                         0.0                         1.0   \n",
       "23535                        1.0                         0.0   \n",
       "\n",
       "       person_home_ownership_infrequent_sklearn  loan_intent_EDUCATION  \\\n",
       "22190                                       0.0                    1.0   \n",
       "17092                                       0.0                    0.0   \n",
       "14348                                       0.0                    0.0   \n",
       "1286                                        0.0                    1.0   \n",
       "23535                                       0.0                    0.0   \n",
       "\n",
       "       loan_intent_HOMEIMPROVEMENT  loan_intent_MEDICAL  loan_intent_PERSONAL  \\\n",
       "22190                          0.0                  0.0                   0.0   \n",
       "17092                          0.0                  0.0                   0.0   \n",
       "14348                          0.0                  1.0                   0.0   \n",
       "1286                           0.0                  0.0                   0.0   \n",
       "23535                          0.0                  1.0                   0.0   \n",
       "\n",
       "       loan_intent_VENTURE  loan_grade cb_person_default_on_file  \n",
       "22190                  0.0           2                         0  \n",
       "17092                  0.0           3                         0  \n",
       "14348                  0.0           4                         1  \n",
       "1286                   0.0           2                         0  \n",
       "23535                  0.0           2                         0  "
      ]
     },
     "execution_count": 64,
     "metadata": {},
     "output_type": "execute_result"
    }
   ],
   "source": [
    "X_train_transformed = pd.concat([X_train_num_rescaled, X_train_cat_encoded], axis=1)\n",
    "X_train_transformed.head()"
   ]
  },
  {
   "cell_type": "markdown",
   "id": "68c32f14",
   "metadata": {},
   "source": [
    "# 7. Data preprocessing on X_test\n",
    "\n",
    "_y\\_train need not be preprocessed because it is already in (0,1) fromat_"
   ]
  },
  {
   "cell_type": "code",
   "execution_count": 65,
   "id": "08463a8e",
   "metadata": {},
   "outputs": [
    {
     "data": {
      "text/html": [
       "<div>\n",
       "<style scoped>\n",
       "    .dataframe tbody tr th:only-of-type {\n",
       "        vertical-align: middle;\n",
       "    }\n",
       "\n",
       "    .dataframe tbody tr th {\n",
       "        vertical-align: top;\n",
       "    }\n",
       "\n",
       "    .dataframe thead th {\n",
       "        text-align: right;\n",
       "    }\n",
       "</style>\n",
       "<table border=\"1\" class=\"dataframe\">\n",
       "  <thead>\n",
       "    <tr style=\"text-align: right;\">\n",
       "      <th></th>\n",
       "      <th>person_age</th>\n",
       "      <th>person_income</th>\n",
       "      <th>person_home_ownership</th>\n",
       "      <th>person_emp_length</th>\n",
       "      <th>loan_intent</th>\n",
       "      <th>loan_grade</th>\n",
       "      <th>loan_amnt</th>\n",
       "      <th>loan_int_rate</th>\n",
       "      <th>loan_percent_income</th>\n",
       "      <th>cb_person_default_on_file</th>\n",
       "      <th>cb_person_cred_hist_length</th>\n",
       "    </tr>\n",
       "  </thead>\n",
       "  <tbody>\n",
       "    <tr>\n",
       "      <th>2041</th>\n",
       "      <td>22</td>\n",
       "      <td>30000</td>\n",
       "      <td>RENT</td>\n",
       "      <td>2.0</td>\n",
       "      <td>EDUCATION</td>\n",
       "      <td>A</td>\n",
       "      <td>2500</td>\n",
       "      <td>8.49</td>\n",
       "      <td>0.08</td>\n",
       "      <td>0</td>\n",
       "      <td>2</td>\n",
       "    </tr>\n",
       "    <tr>\n",
       "      <th>24032</th>\n",
       "      <td>32</td>\n",
       "      <td>130000</td>\n",
       "      <td>MORTGAGE</td>\n",
       "      <td>0.0</td>\n",
       "      <td>PERSONAL</td>\n",
       "      <td>A</td>\n",
       "      <td>12000</td>\n",
       "      <td>8.59</td>\n",
       "      <td>0.09</td>\n",
       "      <td>0</td>\n",
       "      <td>7</td>\n",
       "    </tr>\n",
       "    <tr>\n",
       "      <th>22695</th>\n",
       "      <td>33</td>\n",
       "      <td>90000</td>\n",
       "      <td>MORTGAGE</td>\n",
       "      <td>0.0</td>\n",
       "      <td>HOMEIMPROVEMENT</td>\n",
       "      <td>B</td>\n",
       "      <td>8000</td>\n",
       "      <td>12.53</td>\n",
       "      <td>0.09</td>\n",
       "      <td>0</td>\n",
       "      <td>7</td>\n",
       "    </tr>\n",
       "    <tr>\n",
       "      <th>21454</th>\n",
       "      <td>30</td>\n",
       "      <td>72000</td>\n",
       "      <td>MORTGAGE</td>\n",
       "      <td>3.0</td>\n",
       "      <td>MEDICAL</td>\n",
       "      <td>C</td>\n",
       "      <td>9000</td>\n",
       "      <td>14.22</td>\n",
       "      <td>0.13</td>\n",
       "      <td>1</td>\n",
       "      <td>6</td>\n",
       "    </tr>\n",
       "    <tr>\n",
       "      <th>10180</th>\n",
       "      <td>26</td>\n",
       "      <td>64000</td>\n",
       "      <td>RENT</td>\n",
       "      <td>0.0</td>\n",
       "      <td>VENTURE</td>\n",
       "      <td>E</td>\n",
       "      <td>10000</td>\n",
       "      <td>16.40</td>\n",
       "      <td>0.16</td>\n",
       "      <td>0</td>\n",
       "      <td>3</td>\n",
       "    </tr>\n",
       "  </tbody>\n",
       "</table>\n",
       "</div>"
      ],
      "text/plain": [
       "       person_age  person_income person_home_ownership  person_emp_length  \\\n",
       "2041           22          30000                  RENT                2.0   \n",
       "24032          32         130000              MORTGAGE                0.0   \n",
       "22695          33          90000              MORTGAGE                0.0   \n",
       "21454          30          72000              MORTGAGE                3.0   \n",
       "10180          26          64000                  RENT                0.0   \n",
       "\n",
       "           loan_intent loan_grade  loan_amnt  loan_int_rate  \\\n",
       "2041         EDUCATION          A       2500           8.49   \n",
       "24032         PERSONAL          A      12000           8.59   \n",
       "22695  HOMEIMPROVEMENT          B       8000          12.53   \n",
       "21454          MEDICAL          C       9000          14.22   \n",
       "10180          VENTURE          E      10000          16.40   \n",
       "\n",
       "       loan_percent_income cb_person_default_on_file  \\\n",
       "2041                  0.08                         0   \n",
       "24032                 0.09                         0   \n",
       "22695                 0.09                         0   \n",
       "21454                 0.13                         1   \n",
       "10180                 0.16                         0   \n",
       "\n",
       "       cb_person_cred_hist_length  \n",
       "2041                            2  \n",
       "24032                           7  \n",
       "22695                           7  \n",
       "21454                           6  \n",
       "10180                           3  "
      ]
     },
     "execution_count": 65,
     "metadata": {},
     "output_type": "execute_result"
    }
   ],
   "source": [
    "X_test.head()"
   ]
  },
  {
   "cell_type": "code",
   "execution_count": 66,
   "id": "caa0bb43",
   "metadata": {
    "scrolled": true
   },
   "outputs": [
    {
     "name": "stdout",
     "output_type": "stream",
     "text": [
      "<class 'pandas.core.frame.DataFrame'>\n",
      "Int64Index: 7160 entries, 2041 to 2912\n",
      "Data columns (total 11 columns):\n",
      " #   Column                      Non-Null Count  Dtype  \n",
      "---  ------                      --------------  -----  \n",
      " 0   person_age                  7160 non-null   int64  \n",
      " 1   person_income               7160 non-null   int64  \n",
      " 2   person_home_ownership       7160 non-null   object \n",
      " 3   person_emp_length           7160 non-null   float64\n",
      " 4   loan_intent                 7160 non-null   object \n",
      " 5   loan_grade                  7160 non-null   object \n",
      " 6   loan_amnt                   7160 non-null   int64  \n",
      " 7   loan_int_rate               7160 non-null   float64\n",
      " 8   loan_percent_income         7160 non-null   float64\n",
      " 9   cb_person_default_on_file   7160 non-null   object \n",
      " 10  cb_person_cred_hist_length  7160 non-null   int64  \n",
      "dtypes: float64(3), int64(4), object(4)\n",
      "memory usage: 671.2+ KB\n"
     ]
    }
   ],
   "source": [
    "X_test.info()"
   ]
  },
  {
   "cell_type": "markdown",
   "id": "58eec236",
   "metadata": {},
   "source": [
    "### Separating Numerical and Categorical columns"
   ]
  },
  {
   "cell_type": "markdown",
   "id": "16afc89d",
   "metadata": {},
   "source": [
    "**X_test_num**"
   ]
  },
  {
   "cell_type": "code",
   "execution_count": 67,
   "id": "9c6a4131",
   "metadata": {},
   "outputs": [
    {
     "data": {
      "text/html": [
       "<div>\n",
       "<style scoped>\n",
       "    .dataframe tbody tr th:only-of-type {\n",
       "        vertical-align: middle;\n",
       "    }\n",
       "\n",
       "    .dataframe tbody tr th {\n",
       "        vertical-align: top;\n",
       "    }\n",
       "\n",
       "    .dataframe thead th {\n",
       "        text-align: right;\n",
       "    }\n",
       "</style>\n",
       "<table border=\"1\" class=\"dataframe\">\n",
       "  <thead>\n",
       "    <tr style=\"text-align: right;\">\n",
       "      <th></th>\n",
       "      <th>person_age</th>\n",
       "      <th>person_income</th>\n",
       "      <th>person_emp_length</th>\n",
       "      <th>loan_amnt</th>\n",
       "      <th>loan_int_rate</th>\n",
       "      <th>loan_percent_income</th>\n",
       "      <th>cb_person_cred_hist_length</th>\n",
       "    </tr>\n",
       "  </thead>\n",
       "  <tbody>\n",
       "    <tr>\n",
       "      <th>2041</th>\n",
       "      <td>22</td>\n",
       "      <td>30000</td>\n",
       "      <td>2.0</td>\n",
       "      <td>2500</td>\n",
       "      <td>8.49</td>\n",
       "      <td>0.08</td>\n",
       "      <td>2</td>\n",
       "    </tr>\n",
       "    <tr>\n",
       "      <th>24032</th>\n",
       "      <td>32</td>\n",
       "      <td>130000</td>\n",
       "      <td>0.0</td>\n",
       "      <td>12000</td>\n",
       "      <td>8.59</td>\n",
       "      <td>0.09</td>\n",
       "      <td>7</td>\n",
       "    </tr>\n",
       "    <tr>\n",
       "      <th>22695</th>\n",
       "      <td>33</td>\n",
       "      <td>90000</td>\n",
       "      <td>0.0</td>\n",
       "      <td>8000</td>\n",
       "      <td>12.53</td>\n",
       "      <td>0.09</td>\n",
       "      <td>7</td>\n",
       "    </tr>\n",
       "    <tr>\n",
       "      <th>21454</th>\n",
       "      <td>30</td>\n",
       "      <td>72000</td>\n",
       "      <td>3.0</td>\n",
       "      <td>9000</td>\n",
       "      <td>14.22</td>\n",
       "      <td>0.13</td>\n",
       "      <td>6</td>\n",
       "    </tr>\n",
       "    <tr>\n",
       "      <th>10180</th>\n",
       "      <td>26</td>\n",
       "      <td>64000</td>\n",
       "      <td>0.0</td>\n",
       "      <td>10000</td>\n",
       "      <td>16.40</td>\n",
       "      <td>0.16</td>\n",
       "      <td>3</td>\n",
       "    </tr>\n",
       "  </tbody>\n",
       "</table>\n",
       "</div>"
      ],
      "text/plain": [
       "       person_age  person_income  person_emp_length  loan_amnt  loan_int_rate  \\\n",
       "2041           22          30000                2.0       2500           8.49   \n",
       "24032          32         130000                0.0      12000           8.59   \n",
       "22695          33          90000                0.0       8000          12.53   \n",
       "21454          30          72000                3.0       9000          14.22   \n",
       "10180          26          64000                0.0      10000          16.40   \n",
       "\n",
       "       loan_percent_income  cb_person_cred_hist_length  \n",
       "2041                  0.08                           2  \n",
       "24032                 0.09                           7  \n",
       "22695                 0.09                           7  \n",
       "21454                 0.13                           6  \n",
       "10180                 0.16                           3  "
      ]
     },
     "execution_count": 67,
     "metadata": {},
     "output_type": "execute_result"
    }
   ],
   "source": [
    "X_test_num = X_test.select_dtypes(include=['int64', 'float64'])\n",
    "X_test_num.head()"
   ]
  },
  {
   "cell_type": "markdown",
   "id": "2fd7dc21",
   "metadata": {},
   "source": [
    "**X_test_cat**"
   ]
  },
  {
   "cell_type": "code",
   "execution_count": 68,
   "id": "756618c9",
   "metadata": {},
   "outputs": [
    {
     "data": {
      "text/html": [
       "<div>\n",
       "<style scoped>\n",
       "    .dataframe tbody tr th:only-of-type {\n",
       "        vertical-align: middle;\n",
       "    }\n",
       "\n",
       "    .dataframe tbody tr th {\n",
       "        vertical-align: top;\n",
       "    }\n",
       "\n",
       "    .dataframe thead th {\n",
       "        text-align: right;\n",
       "    }\n",
       "</style>\n",
       "<table border=\"1\" class=\"dataframe\">\n",
       "  <thead>\n",
       "    <tr style=\"text-align: right;\">\n",
       "      <th></th>\n",
       "      <th>person_home_ownership</th>\n",
       "      <th>loan_intent</th>\n",
       "      <th>loan_grade</th>\n",
       "      <th>cb_person_default_on_file</th>\n",
       "    </tr>\n",
       "  </thead>\n",
       "  <tbody>\n",
       "    <tr>\n",
       "      <th>2041</th>\n",
       "      <td>RENT</td>\n",
       "      <td>EDUCATION</td>\n",
       "      <td>A</td>\n",
       "      <td>0</td>\n",
       "    </tr>\n",
       "    <tr>\n",
       "      <th>24032</th>\n",
       "      <td>MORTGAGE</td>\n",
       "      <td>PERSONAL</td>\n",
       "      <td>A</td>\n",
       "      <td>0</td>\n",
       "    </tr>\n",
       "    <tr>\n",
       "      <th>22695</th>\n",
       "      <td>MORTGAGE</td>\n",
       "      <td>HOMEIMPROVEMENT</td>\n",
       "      <td>B</td>\n",
       "      <td>0</td>\n",
       "    </tr>\n",
       "    <tr>\n",
       "      <th>21454</th>\n",
       "      <td>MORTGAGE</td>\n",
       "      <td>MEDICAL</td>\n",
       "      <td>C</td>\n",
       "      <td>1</td>\n",
       "    </tr>\n",
       "    <tr>\n",
       "      <th>10180</th>\n",
       "      <td>RENT</td>\n",
       "      <td>VENTURE</td>\n",
       "      <td>E</td>\n",
       "      <td>0</td>\n",
       "    </tr>\n",
       "  </tbody>\n",
       "</table>\n",
       "</div>"
      ],
      "text/plain": [
       "      person_home_ownership      loan_intent loan_grade  \\\n",
       "2041                   RENT        EDUCATION          A   \n",
       "24032              MORTGAGE         PERSONAL          A   \n",
       "22695              MORTGAGE  HOMEIMPROVEMENT          B   \n",
       "21454              MORTGAGE          MEDICAL          C   \n",
       "10180                  RENT          VENTURE          E   \n",
       "\n",
       "      cb_person_default_on_file  \n",
       "2041                          0  \n",
       "24032                         0  \n",
       "22695                         0  \n",
       "21454                         1  \n",
       "10180                         0  "
      ]
     },
     "execution_count": 68,
     "metadata": {},
     "output_type": "execute_result"
    }
   ],
   "source": [
    "X_test_cat = X_test.select_dtypes(include=['object'])\n",
    "X_test_cat.head()"
   ]
  },
  {
   "cell_type": "markdown",
   "id": "3e71ba30",
   "metadata": {},
   "source": [
    "### 7.1. Scaling X_test_num\n",
    "\n",
    "Standardization"
   ]
  },
  {
   "cell_type": "code",
   "execution_count": 69,
   "id": "ddc3ba6d",
   "metadata": {},
   "outputs": [
    {
     "data": {
      "text/html": [
       "<div>\n",
       "<style scoped>\n",
       "    .dataframe tbody tr th:only-of-type {\n",
       "        vertical-align: middle;\n",
       "    }\n",
       "\n",
       "    .dataframe tbody tr th {\n",
       "        vertical-align: top;\n",
       "    }\n",
       "\n",
       "    .dataframe thead th {\n",
       "        text-align: right;\n",
       "    }\n",
       "</style>\n",
       "<table border=\"1\" class=\"dataframe\">\n",
       "  <thead>\n",
       "    <tr style=\"text-align: right;\">\n",
       "      <th></th>\n",
       "      <th>0</th>\n",
       "      <th>1</th>\n",
       "      <th>2</th>\n",
       "      <th>3</th>\n",
       "      <th>4</th>\n",
       "      <th>5</th>\n",
       "      <th>6</th>\n",
       "    </tr>\n",
       "  </thead>\n",
       "  <tbody>\n",
       "    <tr>\n",
       "      <th>0</th>\n",
       "      <td>-0.915690</td>\n",
       "      <td>-0.919417</td>\n",
       "      <td>-0.698542</td>\n",
       "      <td>-1.148087</td>\n",
       "      <td>-0.799068</td>\n",
       "      <td>-0.852877</td>\n",
       "      <td>-0.983738</td>\n",
       "    </tr>\n",
       "    <tr>\n",
       "      <th>1</th>\n",
       "      <td>0.689075</td>\n",
       "      <td>1.700857</td>\n",
       "      <td>-1.207188</td>\n",
       "      <td>0.382948</td>\n",
       "      <td>-0.767738</td>\n",
       "      <td>-0.756990</td>\n",
       "      <td>0.332415</td>\n",
       "    </tr>\n",
       "    <tr>\n",
       "      <th>2</th>\n",
       "      <td>0.849551</td>\n",
       "      <td>0.652747</td>\n",
       "      <td>-1.207188</td>\n",
       "      <td>-0.261698</td>\n",
       "      <td>0.466671</td>\n",
       "      <td>-0.756990</td>\n",
       "      <td>0.332415</td>\n",
       "    </tr>\n",
       "    <tr>\n",
       "      <th>3</th>\n",
       "      <td>0.368122</td>\n",
       "      <td>0.181098</td>\n",
       "      <td>-0.444219</td>\n",
       "      <td>-0.100537</td>\n",
       "      <td>0.996150</td>\n",
       "      <td>-0.373446</td>\n",
       "      <td>0.069184</td>\n",
       "    </tr>\n",
       "    <tr>\n",
       "      <th>4</th>\n",
       "      <td>-0.273784</td>\n",
       "      <td>-0.028524</td>\n",
       "      <td>-1.207188</td>\n",
       "      <td>0.060625</td>\n",
       "      <td>1.679148</td>\n",
       "      <td>-0.085788</td>\n",
       "      <td>-0.720507</td>\n",
       "    </tr>\n",
       "  </tbody>\n",
       "</table>\n",
       "</div>"
      ],
      "text/plain": [
       "          0         1         2         3         4         5         6\n",
       "0 -0.915690 -0.919417 -0.698542 -1.148087 -0.799068 -0.852877 -0.983738\n",
       "1  0.689075  1.700857 -1.207188  0.382948 -0.767738 -0.756990  0.332415\n",
       "2  0.849551  0.652747 -1.207188 -0.261698  0.466671 -0.756990  0.332415\n",
       "3  0.368122  0.181098 -0.444219 -0.100537  0.996150 -0.373446  0.069184\n",
       "4 -0.273784 -0.028524 -1.207188  0.060625  1.679148 -0.085788 -0.720507"
      ]
     },
     "execution_count": 69,
     "metadata": {},
     "output_type": "execute_result"
    }
   ],
   "source": [
    "# This is how the dataframe looks right after scaling\n",
    "\n",
    "#scaler = StandardScaler()\n",
    "#should NOT instantiate the encoder_ object as we already did that while scaling the train data\n",
    "\n",
    "#be extra careful when \n",
    "#1. instantiation in the test\n",
    "#2. calling the scaler.fit_transform() method in test data instead of JUST .transform()\n",
    "\n",
    "#the test data should NOT be fitted again as it leads to data leakage (relatable to a 'Question Paper Leakage')\n",
    "X_test_num_rescaled = pd.DataFrame(scaler.transform(X_test_num))\n",
    "\n",
    "X_test_num_rescaled.head()"
   ]
  },
  {
   "cell_type": "markdown",
   "id": "fd5c8b08",
   "metadata": {},
   "source": [
    "**X_test_num_rescaled**"
   ]
  },
  {
   "cell_type": "code",
   "execution_count": 70,
   "id": "b6822bb7",
   "metadata": {},
   "outputs": [
    {
     "data": {
      "text/html": [
       "<div>\n",
       "<style scoped>\n",
       "    .dataframe tbody tr th:only-of-type {\n",
       "        vertical-align: middle;\n",
       "    }\n",
       "\n",
       "    .dataframe tbody tr th {\n",
       "        vertical-align: top;\n",
       "    }\n",
       "\n",
       "    .dataframe thead th {\n",
       "        text-align: right;\n",
       "    }\n",
       "</style>\n",
       "<table border=\"1\" class=\"dataframe\">\n",
       "  <thead>\n",
       "    <tr style=\"text-align: right;\">\n",
       "      <th></th>\n",
       "      <th>person_age</th>\n",
       "      <th>person_income</th>\n",
       "      <th>person_emp_length</th>\n",
       "      <th>loan_amnt</th>\n",
       "      <th>loan_int_rate</th>\n",
       "      <th>loan_percent_income</th>\n",
       "      <th>cb_person_cred_hist_length</th>\n",
       "    </tr>\n",
       "  </thead>\n",
       "  <tbody>\n",
       "    <tr>\n",
       "      <th>2041</th>\n",
       "      <td>-0.915690</td>\n",
       "      <td>-0.919417</td>\n",
       "      <td>-0.698542</td>\n",
       "      <td>-1.148087</td>\n",
       "      <td>-0.799068</td>\n",
       "      <td>-0.852877</td>\n",
       "      <td>-0.983738</td>\n",
       "    </tr>\n",
       "    <tr>\n",
       "      <th>24032</th>\n",
       "      <td>0.689075</td>\n",
       "      <td>1.700857</td>\n",
       "      <td>-1.207188</td>\n",
       "      <td>0.382948</td>\n",
       "      <td>-0.767738</td>\n",
       "      <td>-0.756990</td>\n",
       "      <td>0.332415</td>\n",
       "    </tr>\n",
       "    <tr>\n",
       "      <th>22695</th>\n",
       "      <td>0.849551</td>\n",
       "      <td>0.652747</td>\n",
       "      <td>-1.207188</td>\n",
       "      <td>-0.261698</td>\n",
       "      <td>0.466671</td>\n",
       "      <td>-0.756990</td>\n",
       "      <td>0.332415</td>\n",
       "    </tr>\n",
       "    <tr>\n",
       "      <th>21454</th>\n",
       "      <td>0.368122</td>\n",
       "      <td>0.181098</td>\n",
       "      <td>-0.444219</td>\n",
       "      <td>-0.100537</td>\n",
       "      <td>0.996150</td>\n",
       "      <td>-0.373446</td>\n",
       "      <td>0.069184</td>\n",
       "    </tr>\n",
       "    <tr>\n",
       "      <th>10180</th>\n",
       "      <td>-0.273784</td>\n",
       "      <td>-0.028524</td>\n",
       "      <td>-1.207188</td>\n",
       "      <td>0.060625</td>\n",
       "      <td>1.679148</td>\n",
       "      <td>-0.085788</td>\n",
       "      <td>-0.720507</td>\n",
       "    </tr>\n",
       "  </tbody>\n",
       "</table>\n",
       "</div>"
      ],
      "text/plain": [
       "       person_age  person_income  person_emp_length  loan_amnt  loan_int_rate  \\\n",
       "2041    -0.915690      -0.919417          -0.698542  -1.148087      -0.799068   \n",
       "24032    0.689075       1.700857          -1.207188   0.382948      -0.767738   \n",
       "22695    0.849551       0.652747          -1.207188  -0.261698       0.466671   \n",
       "21454    0.368122       0.181098          -0.444219  -0.100537       0.996150   \n",
       "10180   -0.273784      -0.028524          -1.207188   0.060625       1.679148   \n",
       "\n",
       "       loan_percent_income  cb_person_cred_hist_length  \n",
       "2041             -0.852877                   -0.983738  \n",
       "24032            -0.756990                    0.332415  \n",
       "22695            -0.756990                    0.332415  \n",
       "21454            -0.373446                    0.069184  \n",
       "10180            -0.085788                   -0.720507  "
      ]
     },
     "execution_count": 70,
     "metadata": {},
     "output_type": "execute_result"
    }
   ],
   "source": [
    "#the column names and the indexes/indices do not exist anymore as the fit_transform() method outputs an array\n",
    "#so, obviously, when we try to typecast an array into a dataframe, the columns and indexes won't be present unless we specify them\n",
    "# so, let's specify the columns and indexes\n",
    "\n",
    "X_test_num_rescaled.columns = X_test_num.columns\n",
    "X_test_num_rescaled.index = X_test_num.index\n",
    "X_test_num_rescaled.head()"
   ]
  },
  {
   "cell_type": "code",
   "execution_count": 71,
   "id": "a69acc25",
   "metadata": {},
   "outputs": [
    {
     "data": {
      "text/html": [
       "<div>\n",
       "<style scoped>\n",
       "    .dataframe tbody tr th:only-of-type {\n",
       "        vertical-align: middle;\n",
       "    }\n",
       "\n",
       "    .dataframe tbody tr th {\n",
       "        vertical-align: top;\n",
       "    }\n",
       "\n",
       "    .dataframe thead th {\n",
       "        text-align: right;\n",
       "    }\n",
       "</style>\n",
       "<table border=\"1\" class=\"dataframe\">\n",
       "  <thead>\n",
       "    <tr style=\"text-align: right;\">\n",
       "      <th></th>\n",
       "      <th>person_age</th>\n",
       "      <th>person_income</th>\n",
       "      <th>person_emp_length</th>\n",
       "      <th>loan_amnt</th>\n",
       "      <th>loan_int_rate</th>\n",
       "      <th>loan_percent_income</th>\n",
       "      <th>cb_person_cred_hist_length</th>\n",
       "    </tr>\n",
       "  </thead>\n",
       "  <tbody>\n",
       "    <tr>\n",
       "      <th>count</th>\n",
       "      <td>7160.000000</td>\n",
       "      <td>7160.000000</td>\n",
       "      <td>7160.000000</td>\n",
       "      <td>7160.000000</td>\n",
       "      <td>7160.000000</td>\n",
       "      <td>7160.000000</td>\n",
       "      <td>7160.000000</td>\n",
       "    </tr>\n",
       "    <tr>\n",
       "      <th>mean</th>\n",
       "      <td>27.790642</td>\n",
       "      <td>64811.576397</td>\n",
       "      <td>4.787430</td>\n",
       "      <td>9624.102654</td>\n",
       "      <td>10.999927</td>\n",
       "      <td>0.169237</td>\n",
       "      <td>5.726117</td>\n",
       "    </tr>\n",
       "    <tr>\n",
       "      <th>std</th>\n",
       "      <td>6.541316</td>\n",
       "      <td>37997.267898</td>\n",
       "      <td>3.941649</td>\n",
       "      <td>6196.582127</td>\n",
       "      <td>3.241213</td>\n",
       "      <td>0.104679</td>\n",
       "      <td>3.813100</td>\n",
       "    </tr>\n",
       "    <tr>\n",
       "      <th>min</th>\n",
       "      <td>20.000000</td>\n",
       "      <td>14400.000000</td>\n",
       "      <td>0.000000</td>\n",
       "      <td>1200.000000</td>\n",
       "      <td>5.420000</td>\n",
       "      <td>0.020000</td>\n",
       "      <td>2.000000</td>\n",
       "    </tr>\n",
       "    <tr>\n",
       "      <th>25%</th>\n",
       "      <td>23.000000</td>\n",
       "      <td>39000.000000</td>\n",
       "      <td>2.000000</td>\n",
       "      <td>5000.000000</td>\n",
       "      <td>7.900000</td>\n",
       "      <td>0.090000</td>\n",
       "      <td>3.000000</td>\n",
       "    </tr>\n",
       "    <tr>\n",
       "      <th>50%</th>\n",
       "      <td>26.000000</td>\n",
       "      <td>55782.000000</td>\n",
       "      <td>4.000000</td>\n",
       "      <td>8000.000000</td>\n",
       "      <td>10.990000</td>\n",
       "      <td>0.150000</td>\n",
       "      <td>4.000000</td>\n",
       "    </tr>\n",
       "    <tr>\n",
       "      <th>75%</th>\n",
       "      <td>30.000000</td>\n",
       "      <td>80000.000000</td>\n",
       "      <td>7.000000</td>\n",
       "      <td>12743.750000</td>\n",
       "      <td>13.470000</td>\n",
       "      <td>0.230000</td>\n",
       "      <td>8.000000</td>\n",
       "    </tr>\n",
       "    <tr>\n",
       "      <th>max</th>\n",
       "      <td>144.000000</td>\n",
       "      <td>231252.000000</td>\n",
       "      <td>18.000000</td>\n",
       "      <td>29550.000000</td>\n",
       "      <td>18.620000</td>\n",
       "      <td>0.500000</td>\n",
       "      <td>17.000000</td>\n",
       "    </tr>\n",
       "  </tbody>\n",
       "</table>\n",
       "</div>"
      ],
      "text/plain": [
       "        person_age  person_income  person_emp_length     loan_amnt  \\\n",
       "count  7160.000000    7160.000000        7160.000000   7160.000000   \n",
       "mean     27.790642   64811.576397           4.787430   9624.102654   \n",
       "std       6.541316   37997.267898           3.941649   6196.582127   \n",
       "min      20.000000   14400.000000           0.000000   1200.000000   \n",
       "25%      23.000000   39000.000000           2.000000   5000.000000   \n",
       "50%      26.000000   55782.000000           4.000000   8000.000000   \n",
       "75%      30.000000   80000.000000           7.000000  12743.750000   \n",
       "max     144.000000  231252.000000          18.000000  29550.000000   \n",
       "\n",
       "       loan_int_rate  loan_percent_income  cb_person_cred_hist_length  \n",
       "count    7160.000000          7160.000000                 7160.000000  \n",
       "mean       10.999927             0.169237                    5.726117  \n",
       "std         3.241213             0.104679                    3.813100  \n",
       "min         5.420000             0.020000                    2.000000  \n",
       "25%         7.900000             0.090000                    3.000000  \n",
       "50%        10.990000             0.150000                    4.000000  \n",
       "75%        13.470000             0.230000                    8.000000  \n",
       "max        18.620000             0.500000                   17.000000  "
      ]
     },
     "execution_count": 71,
     "metadata": {},
     "output_type": "execute_result"
    }
   ],
   "source": [
    "#let's check how the mean and std were before scaling\n",
    "X_test_num.describe()"
   ]
  },
  {
   "cell_type": "code",
   "execution_count": 72,
   "id": "68818e92",
   "metadata": {},
   "outputs": [
    {
     "data": {
      "text/html": [
       "<div>\n",
       "<style scoped>\n",
       "    .dataframe tbody tr th:only-of-type {\n",
       "        vertical-align: middle;\n",
       "    }\n",
       "\n",
       "    .dataframe tbody tr th {\n",
       "        vertical-align: top;\n",
       "    }\n",
       "\n",
       "    .dataframe thead th {\n",
       "        text-align: right;\n",
       "    }\n",
       "</style>\n",
       "<table border=\"1\" class=\"dataframe\">\n",
       "  <thead>\n",
       "    <tr style=\"text-align: right;\">\n",
       "      <th></th>\n",
       "      <th>person_age</th>\n",
       "      <th>person_income</th>\n",
       "      <th>person_emp_length</th>\n",
       "      <th>loan_amnt</th>\n",
       "      <th>loan_int_rate</th>\n",
       "      <th>loan_percent_income</th>\n",
       "      <th>cb_person_cred_hist_length</th>\n",
       "    </tr>\n",
       "  </thead>\n",
       "  <tbody>\n",
       "    <tr>\n",
       "      <th>count</th>\n",
       "      <td>7160.000000</td>\n",
       "      <td>7160.000000</td>\n",
       "      <td>7160.000000</td>\n",
       "      <td>7160.000000</td>\n",
       "      <td>7160.000000</td>\n",
       "      <td>7160.000000</td>\n",
       "      <td>7160.000000</td>\n",
       "    </tr>\n",
       "    <tr>\n",
       "      <th>mean</th>\n",
       "      <td>0.013572</td>\n",
       "      <td>-0.007258</td>\n",
       "      <td>0.010366</td>\n",
       "      <td>0.000045</td>\n",
       "      <td>-0.012703</td>\n",
       "      <td>0.002786</td>\n",
       "      <td>-0.002910</td>\n",
       "    </tr>\n",
       "    <tr>\n",
       "      <th>std</th>\n",
       "      <td>1.049728</td>\n",
       "      <td>0.995633</td>\n",
       "      <td>1.002452</td>\n",
       "      <td>0.998651</td>\n",
       "      <td>1.015477</td>\n",
       "      <td>1.003731</td>\n",
       "      <td>1.003724</td>\n",
       "    </tr>\n",
       "    <tr>\n",
       "      <th>min</th>\n",
       "      <td>-1.236643</td>\n",
       "      <td>-1.328180</td>\n",
       "      <td>-1.207188</td>\n",
       "      <td>-1.357597</td>\n",
       "      <td>-1.760904</td>\n",
       "      <td>-1.428193</td>\n",
       "      <td>-0.983738</td>\n",
       "    </tr>\n",
       "    <tr>\n",
       "      <th>25%</th>\n",
       "      <td>-0.755214</td>\n",
       "      <td>-0.683593</td>\n",
       "      <td>-0.698542</td>\n",
       "      <td>-0.745183</td>\n",
       "      <td>-0.983916</td>\n",
       "      <td>-0.756990</td>\n",
       "      <td>-0.720507</td>\n",
       "    </tr>\n",
       "    <tr>\n",
       "      <th>50%</th>\n",
       "      <td>-0.273784</td>\n",
       "      <td>-0.243858</td>\n",
       "      <td>-0.189896</td>\n",
       "      <td>-0.261698</td>\n",
       "      <td>-0.015814</td>\n",
       "      <td>-0.181674</td>\n",
       "      <td>-0.457277</td>\n",
       "    </tr>\n",
       "    <tr>\n",
       "      <th>75%</th>\n",
       "      <td>0.368122</td>\n",
       "      <td>0.390720</td>\n",
       "      <td>0.573073</td>\n",
       "      <td>0.502812</td>\n",
       "      <td>0.761174</td>\n",
       "      <td>0.585415</td>\n",
       "      <td>0.595645</td>\n",
       "    </tr>\n",
       "    <tr>\n",
       "      <th>max</th>\n",
       "      <td>18.662442</td>\n",
       "      <td>4.353937</td>\n",
       "      <td>3.370626</td>\n",
       "      <td>3.211333</td>\n",
       "      <td>2.374678</td>\n",
       "      <td>3.174340</td>\n",
       "      <td>2.964719</td>\n",
       "    </tr>\n",
       "  </tbody>\n",
       "</table>\n",
       "</div>"
      ],
      "text/plain": [
       "        person_age  person_income  person_emp_length    loan_amnt  \\\n",
       "count  7160.000000    7160.000000        7160.000000  7160.000000   \n",
       "mean      0.013572      -0.007258           0.010366     0.000045   \n",
       "std       1.049728       0.995633           1.002452     0.998651   \n",
       "min      -1.236643      -1.328180          -1.207188    -1.357597   \n",
       "25%      -0.755214      -0.683593          -0.698542    -0.745183   \n",
       "50%      -0.273784      -0.243858          -0.189896    -0.261698   \n",
       "75%       0.368122       0.390720           0.573073     0.502812   \n",
       "max      18.662442       4.353937           3.370626     3.211333   \n",
       "\n",
       "       loan_int_rate  loan_percent_income  cb_person_cred_hist_length  \n",
       "count    7160.000000          7160.000000                 7160.000000  \n",
       "mean       -0.012703             0.002786                   -0.002910  \n",
       "std         1.015477             1.003731                    1.003724  \n",
       "min        -1.760904            -1.428193                   -0.983738  \n",
       "25%        -0.983916            -0.756990                   -0.720507  \n",
       "50%        -0.015814            -0.181674                   -0.457277  \n",
       "75%         0.761174             0.585415                    0.595645  \n",
       "max         2.374678             3.174340                    2.964719  "
      ]
     },
     "execution_count": 72,
     "metadata": {},
     "output_type": "execute_result"
    }
   ],
   "source": [
    "#observe the mean and std values after scaling\n",
    "X_test_num_rescaled.describe()"
   ]
  },
  {
   "cell_type": "code",
   "execution_count": 73,
   "id": "cdbc1be6",
   "metadata": {},
   "outputs": [
    {
     "data": {
      "text/plain": [
       "1.0496542571048821"
      ]
     },
     "execution_count": 73,
     "metadata": {},
     "output_type": "execute_result"
    }
   ],
   "source": [
    "np.sqrt(np.var(X_test_num_rescaled['person_age']))"
   ]
  },
  {
   "cell_type": "code",
   "execution_count": 74,
   "id": "d7b44ae0",
   "metadata": {},
   "outputs": [],
   "source": [
    "#trying to show the difference between the mean, std\n",
    "mean_bs = []\n",
    "std_bs = []\n",
    "\n",
    "mean_as = []\n",
    "std_as = []\n",
    "\n",
    "for each_column in X_test_num.columns:\n",
    "    \n",
    "    mean_bs.append(np.mean(X_test_num[each_column]))\n",
    "    std_bs.append(np.sqrt(np.var(X_test_num[each_column])))\n",
    "    \n",
    "    mean_as.append(np.mean(X_test_num_rescaled[each_column]))\n",
    "    std_as.append(np.sqrt(np.var(X_test_num_rescaled[each_column])))"
   ]
  },
  {
   "cell_type": "code",
   "execution_count": 75,
   "id": "6ad6a773",
   "metadata": {},
   "outputs": [
    {
     "data": {
      "text/html": [
       "<div>\n",
       "<style scoped>\n",
       "    .dataframe tbody tr th:only-of-type {\n",
       "        vertical-align: middle;\n",
       "    }\n",
       "\n",
       "    .dataframe tbody tr th {\n",
       "        vertical-align: top;\n",
       "    }\n",
       "\n",
       "    .dataframe thead th {\n",
       "        text-align: right;\n",
       "    }\n",
       "</style>\n",
       "<table border=\"1\" class=\"dataframe\">\n",
       "  <thead>\n",
       "    <tr style=\"text-align: right;\">\n",
       "      <th></th>\n",
       "      <th>Mean before scaling</th>\n",
       "      <th>Mean after scaling</th>\n",
       "      <th>Standard Deviation before scaling</th>\n",
       "      <th>Standard Deviation after scaling</th>\n",
       "    </tr>\n",
       "  </thead>\n",
       "  <tbody>\n",
       "    <tr>\n",
       "      <th>person_age</th>\n",
       "      <td>27.790642</td>\n",
       "      <td>0.013572</td>\n",
       "      <td>6.540860</td>\n",
       "      <td>1.049654</td>\n",
       "    </tr>\n",
       "    <tr>\n",
       "      <th>person_income</th>\n",
       "      <td>64811.576397</td>\n",
       "      <td>-0.007258</td>\n",
       "      <td>37994.614365</td>\n",
       "      <td>0.995563</td>\n",
       "    </tr>\n",
       "    <tr>\n",
       "      <th>person_emp_length</th>\n",
       "      <td>4.787430</td>\n",
       "      <td>0.010366</td>\n",
       "      <td>3.941373</td>\n",
       "      <td>1.002382</td>\n",
       "    </tr>\n",
       "    <tr>\n",
       "      <th>loan_amnt</th>\n",
       "      <td>9624.102654</td>\n",
       "      <td>0.000045</td>\n",
       "      <td>6196.149390</td>\n",
       "      <td>0.998581</td>\n",
       "    </tr>\n",
       "    <tr>\n",
       "      <th>loan_int_rate</th>\n",
       "      <td>10.999927</td>\n",
       "      <td>-0.012703</td>\n",
       "      <td>3.240986</td>\n",
       "      <td>1.015406</td>\n",
       "    </tr>\n",
       "    <tr>\n",
       "      <th>loan_percent_income</th>\n",
       "      <td>0.169237</td>\n",
       "      <td>0.002786</td>\n",
       "      <td>0.104672</td>\n",
       "      <td>1.003661</td>\n",
       "    </tr>\n",
       "    <tr>\n",
       "      <th>cb_person_cred_hist_length</th>\n",
       "      <td>5.726117</td>\n",
       "      <td>-0.002910</td>\n",
       "      <td>3.812833</td>\n",
       "      <td>1.003654</td>\n",
       "    </tr>\n",
       "  </tbody>\n",
       "</table>\n",
       "</div>"
      ],
      "text/plain": [
       "                            Mean before scaling  Mean after scaling  \\\n",
       "person_age                            27.790642            0.013572   \n",
       "person_income                      64811.576397           -0.007258   \n",
       "person_emp_length                      4.787430            0.010366   \n",
       "loan_amnt                           9624.102654            0.000045   \n",
       "loan_int_rate                         10.999927           -0.012703   \n",
       "loan_percent_income                    0.169237            0.002786   \n",
       "cb_person_cred_hist_length             5.726117           -0.002910   \n",
       "\n",
       "                            Standard Deviation before scaling  \\\n",
       "person_age                                           6.540860   \n",
       "person_income                                    37994.614365   \n",
       "person_emp_length                                    3.941373   \n",
       "loan_amnt                                         6196.149390   \n",
       "loan_int_rate                                        3.240986   \n",
       "loan_percent_income                                  0.104672   \n",
       "cb_person_cred_hist_length                           3.812833   \n",
       "\n",
       "                            Standard Deviation after scaling  \n",
       "person_age                                          1.049654  \n",
       "person_income                                       0.995563  \n",
       "person_emp_length                                   1.002382  \n",
       "loan_amnt                                           0.998581  \n",
       "loan_int_rate                                       1.015406  \n",
       "loan_percent_income                                 1.003661  \n",
       "cb_person_cred_hist_length                          1.003654  "
      ]
     },
     "execution_count": 75,
     "metadata": {},
     "output_type": "execute_result"
    }
   ],
   "source": [
    "#converting to a dataframe\n",
    "\n",
    "df1 = pd.DataFrame({'Mean before scaling': mean_bs,\n",
    "                    'Mean after scaling': mean_as,\n",
    "                   'Standard Deviation before scaling': std_bs,\n",
    "                   'Standard Deviation after scaling': std_as}, index=X_test_num.columns)\n",
    "df1"
   ]
  },
  {
   "cell_type": "markdown",
   "id": "9c716313",
   "metadata": {},
   "source": [
    "### 7.2. Data Preprocessing X_test_cat"
   ]
  },
  {
   "cell_type": "code",
   "execution_count": 76,
   "id": "5d01b622",
   "metadata": {},
   "outputs": [
    {
     "data": {
      "text/html": [
       "<div>\n",
       "<style scoped>\n",
       "    .dataframe tbody tr th:only-of-type {\n",
       "        vertical-align: middle;\n",
       "    }\n",
       "\n",
       "    .dataframe tbody tr th {\n",
       "        vertical-align: top;\n",
       "    }\n",
       "\n",
       "    .dataframe thead th {\n",
       "        text-align: right;\n",
       "    }\n",
       "</style>\n",
       "<table border=\"1\" class=\"dataframe\">\n",
       "  <thead>\n",
       "    <tr style=\"text-align: right;\">\n",
       "      <th></th>\n",
       "      <th>person_home_ownership</th>\n",
       "      <th>loan_intent</th>\n",
       "      <th>loan_grade</th>\n",
       "      <th>cb_person_default_on_file</th>\n",
       "    </tr>\n",
       "  </thead>\n",
       "  <tbody>\n",
       "    <tr>\n",
       "      <th>2041</th>\n",
       "      <td>RENT</td>\n",
       "      <td>EDUCATION</td>\n",
       "      <td>A</td>\n",
       "      <td>0</td>\n",
       "    </tr>\n",
       "    <tr>\n",
       "      <th>24032</th>\n",
       "      <td>MORTGAGE</td>\n",
       "      <td>PERSONAL</td>\n",
       "      <td>A</td>\n",
       "      <td>0</td>\n",
       "    </tr>\n",
       "    <tr>\n",
       "      <th>22695</th>\n",
       "      <td>MORTGAGE</td>\n",
       "      <td>HOMEIMPROVEMENT</td>\n",
       "      <td>B</td>\n",
       "      <td>0</td>\n",
       "    </tr>\n",
       "    <tr>\n",
       "      <th>21454</th>\n",
       "      <td>MORTGAGE</td>\n",
       "      <td>MEDICAL</td>\n",
       "      <td>C</td>\n",
       "      <td>1</td>\n",
       "    </tr>\n",
       "    <tr>\n",
       "      <th>10180</th>\n",
       "      <td>RENT</td>\n",
       "      <td>VENTURE</td>\n",
       "      <td>E</td>\n",
       "      <td>0</td>\n",
       "    </tr>\n",
       "  </tbody>\n",
       "</table>\n",
       "</div>"
      ],
      "text/plain": [
       "      person_home_ownership      loan_intent loan_grade  \\\n",
       "2041                   RENT        EDUCATION          A   \n",
       "24032              MORTGAGE         PERSONAL          A   \n",
       "22695              MORTGAGE  HOMEIMPROVEMENT          B   \n",
       "21454              MORTGAGE          MEDICAL          C   \n",
       "10180                  RENT          VENTURE          E   \n",
       "\n",
       "      cb_person_default_on_file  \n",
       "2041                          0  \n",
       "24032                         0  \n",
       "22695                         0  \n",
       "21454                         1  \n",
       "10180                         0  "
      ]
     },
     "execution_count": 76,
     "metadata": {},
     "output_type": "execute_result"
    }
   ],
   "source": [
    "X_test_cat.head()"
   ]
  },
  {
   "cell_type": "markdown",
   "id": "0ba89b56",
   "metadata": {},
   "source": [
    "**X_test_cat**"
   ]
  },
  {
   "cell_type": "code",
   "execution_count": 77,
   "id": "69e75f92",
   "metadata": {
    "scrolled": false
   },
   "outputs": [
    {
     "data": {
      "text/plain": [
       "RENT        3665\n",
       "MORTGAGE    2932\n",
       "OWN          538\n",
       "OTHER         25\n",
       "Name: person_home_ownership, dtype: int64"
      ]
     },
     "execution_count": 77,
     "metadata": {},
     "output_type": "execute_result"
    }
   ],
   "source": [
    "X_test_cat['person_home_ownership'].value_counts()\n",
    "#nominal"
   ]
  },
  {
   "cell_type": "code",
   "execution_count": 78,
   "id": "f385ed92",
   "metadata": {},
   "outputs": [
    {
     "data": {
      "text/plain": [
       "EDUCATION            1426\n",
       "MEDICAL              1319\n",
       "VENTURE              1279\n",
       "PERSONAL             1169\n",
       "DEBTCONSOLIDATION    1167\n",
       "HOMEIMPROVEMENT       800\n",
       "Name: loan_intent, dtype: int64"
      ]
     },
     "execution_count": 78,
     "metadata": {},
     "output_type": "execute_result"
    }
   ],
   "source": [
    "X_test_cat['loan_intent'].value_counts()\n",
    "#nominal"
   ]
  },
  {
   "cell_type": "code",
   "execution_count": 79,
   "id": "aae3b843",
   "metadata": {},
   "outputs": [
    {
     "data": {
      "text/plain": [
       "A    2409\n",
       "B    2276\n",
       "C    1362\n",
       "D     798\n",
       "E     235\n",
       "F      59\n",
       "G      21\n",
       "Name: loan_grade, dtype: int64"
      ]
     },
     "execution_count": 79,
     "metadata": {},
     "output_type": "execute_result"
    }
   ],
   "source": [
    "X_test_cat['loan_grade'].value_counts()\n",
    "#ordinal"
   ]
  },
  {
   "cell_type": "markdown",
   "id": "71e89636",
   "metadata": {},
   "source": [
    "#### 7.2.1. Applying OHE on nominal categorical columns"
   ]
  },
  {
   "cell_type": "markdown",
   "id": "bf615d78",
   "metadata": {},
   "source": [
    "`person_home_ownership` and `loan_intent` are the two columns that do not follow any order"
   ]
  },
  {
   "cell_type": "code",
   "execution_count": 80,
   "id": "ffddaa06",
   "metadata": {},
   "outputs": [
    {
     "data": {
      "text/html": [
       "<div>\n",
       "<style scoped>\n",
       "    .dataframe tbody tr th:only-of-type {\n",
       "        vertical-align: middle;\n",
       "    }\n",
       "\n",
       "    .dataframe tbody tr th {\n",
       "        vertical-align: top;\n",
       "    }\n",
       "\n",
       "    .dataframe thead th {\n",
       "        text-align: right;\n",
       "    }\n",
       "</style>\n",
       "<table border=\"1\" class=\"dataframe\">\n",
       "  <thead>\n",
       "    <tr style=\"text-align: right;\">\n",
       "      <th></th>\n",
       "      <th>person_home_ownership</th>\n",
       "      <th>loan_intent</th>\n",
       "    </tr>\n",
       "  </thead>\n",
       "  <tbody>\n",
       "    <tr>\n",
       "      <th>2041</th>\n",
       "      <td>RENT</td>\n",
       "      <td>EDUCATION</td>\n",
       "    </tr>\n",
       "    <tr>\n",
       "      <th>24032</th>\n",
       "      <td>MORTGAGE</td>\n",
       "      <td>PERSONAL</td>\n",
       "    </tr>\n",
       "    <tr>\n",
       "      <th>22695</th>\n",
       "      <td>MORTGAGE</td>\n",
       "      <td>HOMEIMPROVEMENT</td>\n",
       "    </tr>\n",
       "    <tr>\n",
       "      <th>21454</th>\n",
       "      <td>MORTGAGE</td>\n",
       "      <td>MEDICAL</td>\n",
       "    </tr>\n",
       "    <tr>\n",
       "      <th>10180</th>\n",
       "      <td>RENT</td>\n",
       "      <td>VENTURE</td>\n",
       "    </tr>\n",
       "    <tr>\n",
       "      <th>...</th>\n",
       "      <td>...</td>\n",
       "      <td>...</td>\n",
       "    </tr>\n",
       "    <tr>\n",
       "      <th>3177</th>\n",
       "      <td>RENT</td>\n",
       "      <td>VENTURE</td>\n",
       "    </tr>\n",
       "    <tr>\n",
       "      <th>24982</th>\n",
       "      <td>MORTGAGE</td>\n",
       "      <td>DEBTCONSOLIDATION</td>\n",
       "    </tr>\n",
       "    <tr>\n",
       "      <th>17441</th>\n",
       "      <td>RENT</td>\n",
       "      <td>MEDICAL</td>\n",
       "    </tr>\n",
       "    <tr>\n",
       "      <th>11532</th>\n",
       "      <td>RENT</td>\n",
       "      <td>VENTURE</td>\n",
       "    </tr>\n",
       "    <tr>\n",
       "      <th>2912</th>\n",
       "      <td>RENT</td>\n",
       "      <td>PERSONAL</td>\n",
       "    </tr>\n",
       "  </tbody>\n",
       "</table>\n",
       "<p>7160 rows × 2 columns</p>\n",
       "</div>"
      ],
      "text/plain": [
       "      person_home_ownership        loan_intent\n",
       "2041                   RENT          EDUCATION\n",
       "24032              MORTGAGE           PERSONAL\n",
       "22695              MORTGAGE    HOMEIMPROVEMENT\n",
       "21454              MORTGAGE            MEDICAL\n",
       "10180                  RENT            VENTURE\n",
       "...                     ...                ...\n",
       "3177                   RENT            VENTURE\n",
       "24982              MORTGAGE  DEBTCONSOLIDATION\n",
       "17441                  RENT            MEDICAL\n",
       "11532                  RENT            VENTURE\n",
       "2912                   RENT           PERSONAL\n",
       "\n",
       "[7160 rows x 2 columns]"
      ]
     },
     "execution_count": 80,
     "metadata": {},
     "output_type": "execute_result"
    }
   ],
   "source": [
    "X_test_cat[['person_home_ownership', 'loan_intent']]"
   ]
  },
  {
   "cell_type": "code",
   "execution_count": 81,
   "id": "2c881e94",
   "metadata": {
    "scrolled": false
   },
   "outputs": [],
   "source": [
    "from sklearn.preprocessing import OneHotEncoder\n",
    "\n",
    "#should NOT instantiate the encoder_ object again as it was already instantiated while preprocessing the train data\n",
    "#encoder_ = OneHotEncoder(drop='first', min_frequency=500, sparse=False)\n",
    "\n",
    "X_test_cat_ohe = pd.DataFrame(encoder_.transform(X_test_cat[['person_home_ownership', 'loan_intent']]),\n",
    "                              columns = encoder_.get_feature_names_out(X_test_cat[['person_home_ownership', 'loan_intent']].columns),\n",
    "                              index = X_test_cat[['person_home_ownership', 'loan_intent']].index)"
   ]
  },
  {
   "cell_type": "code",
   "execution_count": 82,
   "id": "1fac17c6",
   "metadata": {},
   "outputs": [
    {
     "data": {
      "text/html": [
       "<div>\n",
       "<style scoped>\n",
       "    .dataframe tbody tr th:only-of-type {\n",
       "        vertical-align: middle;\n",
       "    }\n",
       "\n",
       "    .dataframe tbody tr th {\n",
       "        vertical-align: top;\n",
       "    }\n",
       "\n",
       "    .dataframe thead th {\n",
       "        text-align: right;\n",
       "    }\n",
       "</style>\n",
       "<table border=\"1\" class=\"dataframe\">\n",
       "  <thead>\n",
       "    <tr style=\"text-align: right;\">\n",
       "      <th></th>\n",
       "      <th>person_home_ownership_OWN</th>\n",
       "      <th>person_home_ownership_RENT</th>\n",
       "      <th>person_home_ownership_infrequent_sklearn</th>\n",
       "      <th>loan_intent_EDUCATION</th>\n",
       "      <th>loan_intent_HOMEIMPROVEMENT</th>\n",
       "      <th>loan_intent_MEDICAL</th>\n",
       "      <th>loan_intent_PERSONAL</th>\n",
       "      <th>loan_intent_VENTURE</th>\n",
       "    </tr>\n",
       "  </thead>\n",
       "  <tbody>\n",
       "    <tr>\n",
       "      <th>2041</th>\n",
       "      <td>0.0</td>\n",
       "      <td>1.0</td>\n",
       "      <td>0.0</td>\n",
       "      <td>1.0</td>\n",
       "      <td>0.0</td>\n",
       "      <td>0.0</td>\n",
       "      <td>0.0</td>\n",
       "      <td>0.0</td>\n",
       "    </tr>\n",
       "    <tr>\n",
       "      <th>24032</th>\n",
       "      <td>0.0</td>\n",
       "      <td>0.0</td>\n",
       "      <td>0.0</td>\n",
       "      <td>0.0</td>\n",
       "      <td>0.0</td>\n",
       "      <td>0.0</td>\n",
       "      <td>1.0</td>\n",
       "      <td>0.0</td>\n",
       "    </tr>\n",
       "    <tr>\n",
       "      <th>22695</th>\n",
       "      <td>0.0</td>\n",
       "      <td>0.0</td>\n",
       "      <td>0.0</td>\n",
       "      <td>0.0</td>\n",
       "      <td>1.0</td>\n",
       "      <td>0.0</td>\n",
       "      <td>0.0</td>\n",
       "      <td>0.0</td>\n",
       "    </tr>\n",
       "    <tr>\n",
       "      <th>21454</th>\n",
       "      <td>0.0</td>\n",
       "      <td>0.0</td>\n",
       "      <td>0.0</td>\n",
       "      <td>0.0</td>\n",
       "      <td>0.0</td>\n",
       "      <td>1.0</td>\n",
       "      <td>0.0</td>\n",
       "      <td>0.0</td>\n",
       "    </tr>\n",
       "    <tr>\n",
       "      <th>10180</th>\n",
       "      <td>0.0</td>\n",
       "      <td>1.0</td>\n",
       "      <td>0.0</td>\n",
       "      <td>0.0</td>\n",
       "      <td>0.0</td>\n",
       "      <td>0.0</td>\n",
       "      <td>0.0</td>\n",
       "      <td>1.0</td>\n",
       "    </tr>\n",
       "  </tbody>\n",
       "</table>\n",
       "</div>"
      ],
      "text/plain": [
       "       person_home_ownership_OWN  person_home_ownership_RENT  \\\n",
       "2041                         0.0                         1.0   \n",
       "24032                        0.0                         0.0   \n",
       "22695                        0.0                         0.0   \n",
       "21454                        0.0                         0.0   \n",
       "10180                        0.0                         1.0   \n",
       "\n",
       "       person_home_ownership_infrequent_sklearn  loan_intent_EDUCATION  \\\n",
       "2041                                        0.0                    1.0   \n",
       "24032                                       0.0                    0.0   \n",
       "22695                                       0.0                    0.0   \n",
       "21454                                       0.0                    0.0   \n",
       "10180                                       0.0                    0.0   \n",
       "\n",
       "       loan_intent_HOMEIMPROVEMENT  loan_intent_MEDICAL  loan_intent_PERSONAL  \\\n",
       "2041                           0.0                  0.0                   0.0   \n",
       "24032                          0.0                  0.0                   1.0   \n",
       "22695                          1.0                  0.0                   0.0   \n",
       "21454                          0.0                  1.0                   0.0   \n",
       "10180                          0.0                  0.0                   0.0   \n",
       "\n",
       "       loan_intent_VENTURE  \n",
       "2041                   0.0  \n",
       "24032                  0.0  \n",
       "22695                  0.0  \n",
       "21454                  0.0  \n",
       "10180                  1.0  "
      ]
     },
     "execution_count": 82,
     "metadata": {},
     "output_type": "execute_result"
    }
   ],
   "source": [
    "X_test_cat_ohe.head()"
   ]
  },
  {
   "cell_type": "code",
   "execution_count": 83,
   "id": "edf4ebbc",
   "metadata": {},
   "outputs": [
    {
     "data": {
      "text/plain": [
       "(7160, 8)"
      ]
     },
     "execution_count": 83,
     "metadata": {},
     "output_type": "execute_result"
    }
   ],
   "source": [
    "X_test_cat_ohe.shape"
   ]
  },
  {
   "cell_type": "markdown",
   "id": "13fd5233",
   "metadata": {},
   "source": [
    "#### 7.2.2. Applying Label Encoding on ordinal categorical columns"
   ]
  },
  {
   "cell_type": "code",
   "execution_count": 84,
   "id": "71451ef1",
   "metadata": {},
   "outputs": [
    {
     "data": {
      "text/html": [
       "<div>\n",
       "<style scoped>\n",
       "    .dataframe tbody tr th:only-of-type {\n",
       "        vertical-align: middle;\n",
       "    }\n",
       "\n",
       "    .dataframe tbody tr th {\n",
       "        vertical-align: top;\n",
       "    }\n",
       "\n",
       "    .dataframe thead th {\n",
       "        text-align: right;\n",
       "    }\n",
       "</style>\n",
       "<table border=\"1\" class=\"dataframe\">\n",
       "  <thead>\n",
       "    <tr style=\"text-align: right;\">\n",
       "      <th></th>\n",
       "    </tr>\n",
       "  </thead>\n",
       "  <tbody>\n",
       "    <tr>\n",
       "      <th>2041</th>\n",
       "    </tr>\n",
       "    <tr>\n",
       "      <th>24032</th>\n",
       "    </tr>\n",
       "    <tr>\n",
       "      <th>22695</th>\n",
       "    </tr>\n",
       "    <tr>\n",
       "      <th>21454</th>\n",
       "    </tr>\n",
       "    <tr>\n",
       "      <th>10180</th>\n",
       "    </tr>\n",
       "  </tbody>\n",
       "</table>\n",
       "</div>"
      ],
      "text/plain": [
       "Empty DataFrame\n",
       "Columns: []\n",
       "Index: [2041, 24032, 22695, 21454, 10180]"
      ]
     },
     "execution_count": 84,
     "metadata": {},
     "output_type": "execute_result"
    }
   ],
   "source": [
    "X_test_cat_le = pd.DataFrame(index=X_test_cat.index)\n",
    "X_test_cat_le.head()"
   ]
  },
  {
   "cell_type": "code",
   "execution_count": 85,
   "id": "bc658e95",
   "metadata": {},
   "outputs": [
    {
     "data": {
      "text/plain": [
       "A    2409\n",
       "B    2276\n",
       "C    1362\n",
       "D     798\n",
       "E     235\n",
       "F      59\n",
       "G      21\n",
       "Name: loan_grade, dtype: int64"
      ]
     },
     "execution_count": 85,
     "metadata": {},
     "output_type": "execute_result"
    }
   ],
   "source": [
    "X_test_cat['loan_grade'].value_counts()"
   ]
  },
  {
   "cell_type": "code",
   "execution_count": 86,
   "id": "cd28556e",
   "metadata": {},
   "outputs": [
    {
     "data": {
      "text/html": [
       "<div>\n",
       "<style scoped>\n",
       "    .dataframe tbody tr th:only-of-type {\n",
       "        vertical-align: middle;\n",
       "    }\n",
       "\n",
       "    .dataframe tbody tr th {\n",
       "        vertical-align: top;\n",
       "    }\n",
       "\n",
       "    .dataframe thead th {\n",
       "        text-align: right;\n",
       "    }\n",
       "</style>\n",
       "<table border=\"1\" class=\"dataframe\">\n",
       "  <thead>\n",
       "    <tr style=\"text-align: right;\">\n",
       "      <th></th>\n",
       "      <th>loan_grade</th>\n",
       "    </tr>\n",
       "  </thead>\n",
       "  <tbody>\n",
       "    <tr>\n",
       "      <th>2041</th>\n",
       "      <td>1</td>\n",
       "    </tr>\n",
       "    <tr>\n",
       "      <th>24032</th>\n",
       "      <td>1</td>\n",
       "    </tr>\n",
       "    <tr>\n",
       "      <th>22695</th>\n",
       "      <td>2</td>\n",
       "    </tr>\n",
       "    <tr>\n",
       "      <th>21454</th>\n",
       "      <td>3</td>\n",
       "    </tr>\n",
       "    <tr>\n",
       "      <th>10180</th>\n",
       "      <td>5</td>\n",
       "    </tr>\n",
       "  </tbody>\n",
       "</table>\n",
       "</div>"
      ],
      "text/plain": [
       "       loan_grade\n",
       "2041            1\n",
       "24032           1\n",
       "22695           2\n",
       "21454           3\n",
       "10180           5"
      ]
     },
     "execution_count": 86,
     "metadata": {},
     "output_type": "execute_result"
    }
   ],
   "source": [
    "loan_grade_encoder = {'A':1, 'B':2, 'C':3, 'D':4, 'E':5, 'F':6, 'G':7}\n",
    "X_test_cat_le['loan_grade'] = X_test_cat['loan_grade'].apply(lambda x: loan_grade_encoder[x])\n",
    "X_test_cat_le.head()"
   ]
  },
  {
   "cell_type": "markdown",
   "id": "c51c029f",
   "metadata": {},
   "source": [
    "#### 7.2.3. Concatinating all the categorical features"
   ]
  },
  {
   "cell_type": "code",
   "execution_count": 87,
   "id": "9d8f05d2",
   "metadata": {},
   "outputs": [
    {
     "data": {
      "text/html": [
       "<div>\n",
       "<style scoped>\n",
       "    .dataframe tbody tr th:only-of-type {\n",
       "        vertical-align: middle;\n",
       "    }\n",
       "\n",
       "    .dataframe tbody tr th {\n",
       "        vertical-align: top;\n",
       "    }\n",
       "\n",
       "    .dataframe thead th {\n",
       "        text-align: right;\n",
       "    }\n",
       "</style>\n",
       "<table border=\"1\" class=\"dataframe\">\n",
       "  <thead>\n",
       "    <tr style=\"text-align: right;\">\n",
       "      <th></th>\n",
       "      <th>cb_person_default_on_file</th>\n",
       "    </tr>\n",
       "  </thead>\n",
       "  <tbody>\n",
       "    <tr>\n",
       "      <th>2041</th>\n",
       "      <td>0</td>\n",
       "    </tr>\n",
       "    <tr>\n",
       "      <th>24032</th>\n",
       "      <td>0</td>\n",
       "    </tr>\n",
       "    <tr>\n",
       "      <th>22695</th>\n",
       "      <td>0</td>\n",
       "    </tr>\n",
       "    <tr>\n",
       "      <th>21454</th>\n",
       "      <td>1</td>\n",
       "    </tr>\n",
       "    <tr>\n",
       "      <th>10180</th>\n",
       "      <td>0</td>\n",
       "    </tr>\n",
       "    <tr>\n",
       "      <th>...</th>\n",
       "      <td>...</td>\n",
       "    </tr>\n",
       "    <tr>\n",
       "      <th>3177</th>\n",
       "      <td>0</td>\n",
       "    </tr>\n",
       "    <tr>\n",
       "      <th>24982</th>\n",
       "      <td>1</td>\n",
       "    </tr>\n",
       "    <tr>\n",
       "      <th>17441</th>\n",
       "      <td>0</td>\n",
       "    </tr>\n",
       "    <tr>\n",
       "      <th>11532</th>\n",
       "      <td>0</td>\n",
       "    </tr>\n",
       "    <tr>\n",
       "      <th>2912</th>\n",
       "      <td>0</td>\n",
       "    </tr>\n",
       "  </tbody>\n",
       "</table>\n",
       "<p>7160 rows × 1 columns</p>\n",
       "</div>"
      ],
      "text/plain": [
       "      cb_person_default_on_file\n",
       "2041                          0\n",
       "24032                         0\n",
       "22695                         0\n",
       "21454                         1\n",
       "10180                         0\n",
       "...                         ...\n",
       "3177                          0\n",
       "24982                         1\n",
       "17441                         0\n",
       "11532                         0\n",
       "2912                          0\n",
       "\n",
       "[7160 rows x 1 columns]"
      ]
     },
     "execution_count": 87,
     "metadata": {},
     "output_type": "execute_result"
    }
   ],
   "source": [
    "X_test_cat['cb_person_default_on_file'].to_frame()"
   ]
  },
  {
   "cell_type": "code",
   "execution_count": 88,
   "id": "8b91daf2",
   "metadata": {},
   "outputs": [
    {
     "data": {
      "text/html": [
       "<div>\n",
       "<style scoped>\n",
       "    .dataframe tbody tr th:only-of-type {\n",
       "        vertical-align: middle;\n",
       "    }\n",
       "\n",
       "    .dataframe tbody tr th {\n",
       "        vertical-align: top;\n",
       "    }\n",
       "\n",
       "    .dataframe thead th {\n",
       "        text-align: right;\n",
       "    }\n",
       "</style>\n",
       "<table border=\"1\" class=\"dataframe\">\n",
       "  <thead>\n",
       "    <tr style=\"text-align: right;\">\n",
       "      <th></th>\n",
       "      <th>person_home_ownership_OWN</th>\n",
       "      <th>person_home_ownership_RENT</th>\n",
       "      <th>person_home_ownership_infrequent_sklearn</th>\n",
       "      <th>loan_intent_EDUCATION</th>\n",
       "      <th>loan_intent_HOMEIMPROVEMENT</th>\n",
       "      <th>loan_intent_MEDICAL</th>\n",
       "      <th>loan_intent_PERSONAL</th>\n",
       "      <th>loan_intent_VENTURE</th>\n",
       "    </tr>\n",
       "  </thead>\n",
       "  <tbody>\n",
       "    <tr>\n",
       "      <th>2041</th>\n",
       "      <td>0.0</td>\n",
       "      <td>1.0</td>\n",
       "      <td>0.0</td>\n",
       "      <td>1.0</td>\n",
       "      <td>0.0</td>\n",
       "      <td>0.0</td>\n",
       "      <td>0.0</td>\n",
       "      <td>0.0</td>\n",
       "    </tr>\n",
       "    <tr>\n",
       "      <th>24032</th>\n",
       "      <td>0.0</td>\n",
       "      <td>0.0</td>\n",
       "      <td>0.0</td>\n",
       "      <td>0.0</td>\n",
       "      <td>0.0</td>\n",
       "      <td>0.0</td>\n",
       "      <td>1.0</td>\n",
       "      <td>0.0</td>\n",
       "    </tr>\n",
       "    <tr>\n",
       "      <th>22695</th>\n",
       "      <td>0.0</td>\n",
       "      <td>0.0</td>\n",
       "      <td>0.0</td>\n",
       "      <td>0.0</td>\n",
       "      <td>1.0</td>\n",
       "      <td>0.0</td>\n",
       "      <td>0.0</td>\n",
       "      <td>0.0</td>\n",
       "    </tr>\n",
       "    <tr>\n",
       "      <th>21454</th>\n",
       "      <td>0.0</td>\n",
       "      <td>0.0</td>\n",
       "      <td>0.0</td>\n",
       "      <td>0.0</td>\n",
       "      <td>0.0</td>\n",
       "      <td>1.0</td>\n",
       "      <td>0.0</td>\n",
       "      <td>0.0</td>\n",
       "    </tr>\n",
       "    <tr>\n",
       "      <th>10180</th>\n",
       "      <td>0.0</td>\n",
       "      <td>1.0</td>\n",
       "      <td>0.0</td>\n",
       "      <td>0.0</td>\n",
       "      <td>0.0</td>\n",
       "      <td>0.0</td>\n",
       "      <td>0.0</td>\n",
       "      <td>1.0</td>\n",
       "    </tr>\n",
       "  </tbody>\n",
       "</table>\n",
       "</div>"
      ],
      "text/plain": [
       "       person_home_ownership_OWN  person_home_ownership_RENT  \\\n",
       "2041                         0.0                         1.0   \n",
       "24032                        0.0                         0.0   \n",
       "22695                        0.0                         0.0   \n",
       "21454                        0.0                         0.0   \n",
       "10180                        0.0                         1.0   \n",
       "\n",
       "       person_home_ownership_infrequent_sklearn  loan_intent_EDUCATION  \\\n",
       "2041                                        0.0                    1.0   \n",
       "24032                                       0.0                    0.0   \n",
       "22695                                       0.0                    0.0   \n",
       "21454                                       0.0                    0.0   \n",
       "10180                                       0.0                    0.0   \n",
       "\n",
       "       loan_intent_HOMEIMPROVEMENT  loan_intent_MEDICAL  loan_intent_PERSONAL  \\\n",
       "2041                           0.0                  0.0                   0.0   \n",
       "24032                          0.0                  0.0                   1.0   \n",
       "22695                          1.0                  0.0                   0.0   \n",
       "21454                          0.0                  1.0                   0.0   \n",
       "10180                          0.0                  0.0                   0.0   \n",
       "\n",
       "       loan_intent_VENTURE  \n",
       "2041                   0.0  \n",
       "24032                  0.0  \n",
       "22695                  0.0  \n",
       "21454                  0.0  \n",
       "10180                  1.0  "
      ]
     },
     "execution_count": 88,
     "metadata": {},
     "output_type": "execute_result"
    }
   ],
   "source": [
    "X_test_cat_ohe.head()"
   ]
  },
  {
   "cell_type": "code",
   "execution_count": 89,
   "id": "f71e1f18",
   "metadata": {},
   "outputs": [
    {
     "data": {
      "text/html": [
       "<div>\n",
       "<style scoped>\n",
       "    .dataframe tbody tr th:only-of-type {\n",
       "        vertical-align: middle;\n",
       "    }\n",
       "\n",
       "    .dataframe tbody tr th {\n",
       "        vertical-align: top;\n",
       "    }\n",
       "\n",
       "    .dataframe thead th {\n",
       "        text-align: right;\n",
       "    }\n",
       "</style>\n",
       "<table border=\"1\" class=\"dataframe\">\n",
       "  <thead>\n",
       "    <tr style=\"text-align: right;\">\n",
       "      <th></th>\n",
       "      <th>loan_grade</th>\n",
       "    </tr>\n",
       "  </thead>\n",
       "  <tbody>\n",
       "    <tr>\n",
       "      <th>2041</th>\n",
       "      <td>1</td>\n",
       "    </tr>\n",
       "    <tr>\n",
       "      <th>24032</th>\n",
       "      <td>1</td>\n",
       "    </tr>\n",
       "    <tr>\n",
       "      <th>22695</th>\n",
       "      <td>2</td>\n",
       "    </tr>\n",
       "    <tr>\n",
       "      <th>21454</th>\n",
       "      <td>3</td>\n",
       "    </tr>\n",
       "    <tr>\n",
       "      <th>10180</th>\n",
       "      <td>5</td>\n",
       "    </tr>\n",
       "  </tbody>\n",
       "</table>\n",
       "</div>"
      ],
      "text/plain": [
       "       loan_grade\n",
       "2041            1\n",
       "24032           1\n",
       "22695           2\n",
       "21454           3\n",
       "10180           5"
      ]
     },
     "execution_count": 89,
     "metadata": {},
     "output_type": "execute_result"
    }
   ],
   "source": [
    "X_test_cat_le.head()"
   ]
  },
  {
   "cell_type": "code",
   "execution_count": 90,
   "id": "21603630",
   "metadata": {},
   "outputs": [
    {
     "data": {
      "text/html": [
       "<div>\n",
       "<style scoped>\n",
       "    .dataframe tbody tr th:only-of-type {\n",
       "        vertical-align: middle;\n",
       "    }\n",
       "\n",
       "    .dataframe tbody tr th {\n",
       "        vertical-align: top;\n",
       "    }\n",
       "\n",
       "    .dataframe thead th {\n",
       "        text-align: right;\n",
       "    }\n",
       "</style>\n",
       "<table border=\"1\" class=\"dataframe\">\n",
       "  <thead>\n",
       "    <tr style=\"text-align: right;\">\n",
       "      <th></th>\n",
       "      <th>person_home_ownership</th>\n",
       "      <th>loan_intent</th>\n",
       "      <th>loan_grade</th>\n",
       "      <th>cb_person_default_on_file</th>\n",
       "    </tr>\n",
       "  </thead>\n",
       "  <tbody>\n",
       "    <tr>\n",
       "      <th>2041</th>\n",
       "      <td>RENT</td>\n",
       "      <td>EDUCATION</td>\n",
       "      <td>A</td>\n",
       "      <td>0</td>\n",
       "    </tr>\n",
       "    <tr>\n",
       "      <th>24032</th>\n",
       "      <td>MORTGAGE</td>\n",
       "      <td>PERSONAL</td>\n",
       "      <td>A</td>\n",
       "      <td>0</td>\n",
       "    </tr>\n",
       "    <tr>\n",
       "      <th>22695</th>\n",
       "      <td>MORTGAGE</td>\n",
       "      <td>HOMEIMPROVEMENT</td>\n",
       "      <td>B</td>\n",
       "      <td>0</td>\n",
       "    </tr>\n",
       "    <tr>\n",
       "      <th>21454</th>\n",
       "      <td>MORTGAGE</td>\n",
       "      <td>MEDICAL</td>\n",
       "      <td>C</td>\n",
       "      <td>1</td>\n",
       "    </tr>\n",
       "    <tr>\n",
       "      <th>10180</th>\n",
       "      <td>RENT</td>\n",
       "      <td>VENTURE</td>\n",
       "      <td>E</td>\n",
       "      <td>0</td>\n",
       "    </tr>\n",
       "  </tbody>\n",
       "</table>\n",
       "</div>"
      ],
      "text/plain": [
       "      person_home_ownership      loan_intent loan_grade  \\\n",
       "2041                   RENT        EDUCATION          A   \n",
       "24032              MORTGAGE         PERSONAL          A   \n",
       "22695              MORTGAGE  HOMEIMPROVEMENT          B   \n",
       "21454              MORTGAGE          MEDICAL          C   \n",
       "10180                  RENT          VENTURE          E   \n",
       "\n",
       "      cb_person_default_on_file  \n",
       "2041                          0  \n",
       "24032                         0  \n",
       "22695                         0  \n",
       "21454                         1  \n",
       "10180                         0  "
      ]
     },
     "execution_count": 90,
     "metadata": {},
     "output_type": "execute_result"
    }
   ],
   "source": [
    "X_test_cat.head()"
   ]
  },
  {
   "cell_type": "markdown",
   "id": "e65f621c",
   "metadata": {},
   "source": [
    "**X_test_cat_encoded**"
   ]
  },
  {
   "cell_type": "code",
   "execution_count": 91,
   "id": "9d2dd536",
   "metadata": {},
   "outputs": [
    {
     "data": {
      "text/html": [
       "<div>\n",
       "<style scoped>\n",
       "    .dataframe tbody tr th:only-of-type {\n",
       "        vertical-align: middle;\n",
       "    }\n",
       "\n",
       "    .dataframe tbody tr th {\n",
       "        vertical-align: top;\n",
       "    }\n",
       "\n",
       "    .dataframe thead th {\n",
       "        text-align: right;\n",
       "    }\n",
       "</style>\n",
       "<table border=\"1\" class=\"dataframe\">\n",
       "  <thead>\n",
       "    <tr style=\"text-align: right;\">\n",
       "      <th></th>\n",
       "      <th>person_home_ownership_OWN</th>\n",
       "      <th>person_home_ownership_RENT</th>\n",
       "      <th>person_home_ownership_infrequent_sklearn</th>\n",
       "      <th>loan_intent_EDUCATION</th>\n",
       "      <th>loan_intent_HOMEIMPROVEMENT</th>\n",
       "      <th>loan_intent_MEDICAL</th>\n",
       "      <th>loan_intent_PERSONAL</th>\n",
       "      <th>loan_intent_VENTURE</th>\n",
       "      <th>loan_grade</th>\n",
       "      <th>cb_person_default_on_file</th>\n",
       "    </tr>\n",
       "  </thead>\n",
       "  <tbody>\n",
       "    <tr>\n",
       "      <th>2041</th>\n",
       "      <td>0.0</td>\n",
       "      <td>1.0</td>\n",
       "      <td>0.0</td>\n",
       "      <td>1.0</td>\n",
       "      <td>0.0</td>\n",
       "      <td>0.0</td>\n",
       "      <td>0.0</td>\n",
       "      <td>0.0</td>\n",
       "      <td>1</td>\n",
       "      <td>0</td>\n",
       "    </tr>\n",
       "    <tr>\n",
       "      <th>24032</th>\n",
       "      <td>0.0</td>\n",
       "      <td>0.0</td>\n",
       "      <td>0.0</td>\n",
       "      <td>0.0</td>\n",
       "      <td>0.0</td>\n",
       "      <td>0.0</td>\n",
       "      <td>1.0</td>\n",
       "      <td>0.0</td>\n",
       "      <td>1</td>\n",
       "      <td>0</td>\n",
       "    </tr>\n",
       "    <tr>\n",
       "      <th>22695</th>\n",
       "      <td>0.0</td>\n",
       "      <td>0.0</td>\n",
       "      <td>0.0</td>\n",
       "      <td>0.0</td>\n",
       "      <td>1.0</td>\n",
       "      <td>0.0</td>\n",
       "      <td>0.0</td>\n",
       "      <td>0.0</td>\n",
       "      <td>2</td>\n",
       "      <td>0</td>\n",
       "    </tr>\n",
       "    <tr>\n",
       "      <th>21454</th>\n",
       "      <td>0.0</td>\n",
       "      <td>0.0</td>\n",
       "      <td>0.0</td>\n",
       "      <td>0.0</td>\n",
       "      <td>0.0</td>\n",
       "      <td>1.0</td>\n",
       "      <td>0.0</td>\n",
       "      <td>0.0</td>\n",
       "      <td>3</td>\n",
       "      <td>1</td>\n",
       "    </tr>\n",
       "    <tr>\n",
       "      <th>10180</th>\n",
       "      <td>0.0</td>\n",
       "      <td>1.0</td>\n",
       "      <td>0.0</td>\n",
       "      <td>0.0</td>\n",
       "      <td>0.0</td>\n",
       "      <td>0.0</td>\n",
       "      <td>0.0</td>\n",
       "      <td>1.0</td>\n",
       "      <td>5</td>\n",
       "      <td>0</td>\n",
       "    </tr>\n",
       "  </tbody>\n",
       "</table>\n",
       "</div>"
      ],
      "text/plain": [
       "       person_home_ownership_OWN  person_home_ownership_RENT  \\\n",
       "2041                         0.0                         1.0   \n",
       "24032                        0.0                         0.0   \n",
       "22695                        0.0                         0.0   \n",
       "21454                        0.0                         0.0   \n",
       "10180                        0.0                         1.0   \n",
       "\n",
       "       person_home_ownership_infrequent_sklearn  loan_intent_EDUCATION  \\\n",
       "2041                                        0.0                    1.0   \n",
       "24032                                       0.0                    0.0   \n",
       "22695                                       0.0                    0.0   \n",
       "21454                                       0.0                    0.0   \n",
       "10180                                       0.0                    0.0   \n",
       "\n",
       "       loan_intent_HOMEIMPROVEMENT  loan_intent_MEDICAL  loan_intent_PERSONAL  \\\n",
       "2041                           0.0                  0.0                   0.0   \n",
       "24032                          0.0                  0.0                   1.0   \n",
       "22695                          1.0                  0.0                   0.0   \n",
       "21454                          0.0                  1.0                   0.0   \n",
       "10180                          0.0                  0.0                   0.0   \n",
       "\n",
       "       loan_intent_VENTURE  loan_grade cb_person_default_on_file  \n",
       "2041                   0.0           1                         0  \n",
       "24032                  0.0           1                         0  \n",
       "22695                  0.0           2                         0  \n",
       "21454                  0.0           3                         1  \n",
       "10180                  1.0           5                         0  "
      ]
     },
     "execution_count": 91,
     "metadata": {},
     "output_type": "execute_result"
    }
   ],
   "source": [
    "X_test_cat_encoded = pd.concat([X_test_cat_ohe, X_test_cat_le, X_test_cat['cb_person_default_on_file'].to_frame()], axis=1)\n",
    "X_test_cat_encoded.head()"
   ]
  },
  {
   "cell_type": "markdown",
   "id": "1359e433",
   "metadata": {},
   "source": [
    "### X_test_transformed"
   ]
  },
  {
   "cell_type": "code",
   "execution_count": 92,
   "id": "55c58e36",
   "metadata": {},
   "outputs": [
    {
     "data": {
      "text/html": [
       "<div>\n",
       "<style scoped>\n",
       "    .dataframe tbody tr th:only-of-type {\n",
       "        vertical-align: middle;\n",
       "    }\n",
       "\n",
       "    .dataframe tbody tr th {\n",
       "        vertical-align: top;\n",
       "    }\n",
       "\n",
       "    .dataframe thead th {\n",
       "        text-align: right;\n",
       "    }\n",
       "</style>\n",
       "<table border=\"1\" class=\"dataframe\">\n",
       "  <thead>\n",
       "    <tr style=\"text-align: right;\">\n",
       "      <th></th>\n",
       "      <th>person_age</th>\n",
       "      <th>person_income</th>\n",
       "      <th>person_emp_length</th>\n",
       "      <th>loan_amnt</th>\n",
       "      <th>loan_int_rate</th>\n",
       "      <th>loan_percent_income</th>\n",
       "      <th>cb_person_cred_hist_length</th>\n",
       "      <th>person_home_ownership_OWN</th>\n",
       "      <th>person_home_ownership_RENT</th>\n",
       "      <th>person_home_ownership_infrequent_sklearn</th>\n",
       "      <th>loan_intent_EDUCATION</th>\n",
       "      <th>loan_intent_HOMEIMPROVEMENT</th>\n",
       "      <th>loan_intent_MEDICAL</th>\n",
       "      <th>loan_intent_PERSONAL</th>\n",
       "      <th>loan_intent_VENTURE</th>\n",
       "      <th>loan_grade</th>\n",
       "      <th>cb_person_default_on_file</th>\n",
       "    </tr>\n",
       "  </thead>\n",
       "  <tbody>\n",
       "    <tr>\n",
       "      <th>2041</th>\n",
       "      <td>-0.915690</td>\n",
       "      <td>-0.919417</td>\n",
       "      <td>-0.698542</td>\n",
       "      <td>-1.148087</td>\n",
       "      <td>-0.799068</td>\n",
       "      <td>-0.852877</td>\n",
       "      <td>-0.983738</td>\n",
       "      <td>0.0</td>\n",
       "      <td>1.0</td>\n",
       "      <td>0.0</td>\n",
       "      <td>1.0</td>\n",
       "      <td>0.0</td>\n",
       "      <td>0.0</td>\n",
       "      <td>0.0</td>\n",
       "      <td>0.0</td>\n",
       "      <td>1</td>\n",
       "      <td>0</td>\n",
       "    </tr>\n",
       "    <tr>\n",
       "      <th>24032</th>\n",
       "      <td>0.689075</td>\n",
       "      <td>1.700857</td>\n",
       "      <td>-1.207188</td>\n",
       "      <td>0.382948</td>\n",
       "      <td>-0.767738</td>\n",
       "      <td>-0.756990</td>\n",
       "      <td>0.332415</td>\n",
       "      <td>0.0</td>\n",
       "      <td>0.0</td>\n",
       "      <td>0.0</td>\n",
       "      <td>0.0</td>\n",
       "      <td>0.0</td>\n",
       "      <td>0.0</td>\n",
       "      <td>1.0</td>\n",
       "      <td>0.0</td>\n",
       "      <td>1</td>\n",
       "      <td>0</td>\n",
       "    </tr>\n",
       "    <tr>\n",
       "      <th>22695</th>\n",
       "      <td>0.849551</td>\n",
       "      <td>0.652747</td>\n",
       "      <td>-1.207188</td>\n",
       "      <td>-0.261698</td>\n",
       "      <td>0.466671</td>\n",
       "      <td>-0.756990</td>\n",
       "      <td>0.332415</td>\n",
       "      <td>0.0</td>\n",
       "      <td>0.0</td>\n",
       "      <td>0.0</td>\n",
       "      <td>0.0</td>\n",
       "      <td>1.0</td>\n",
       "      <td>0.0</td>\n",
       "      <td>0.0</td>\n",
       "      <td>0.0</td>\n",
       "      <td>2</td>\n",
       "      <td>0</td>\n",
       "    </tr>\n",
       "    <tr>\n",
       "      <th>21454</th>\n",
       "      <td>0.368122</td>\n",
       "      <td>0.181098</td>\n",
       "      <td>-0.444219</td>\n",
       "      <td>-0.100537</td>\n",
       "      <td>0.996150</td>\n",
       "      <td>-0.373446</td>\n",
       "      <td>0.069184</td>\n",
       "      <td>0.0</td>\n",
       "      <td>0.0</td>\n",
       "      <td>0.0</td>\n",
       "      <td>0.0</td>\n",
       "      <td>0.0</td>\n",
       "      <td>1.0</td>\n",
       "      <td>0.0</td>\n",
       "      <td>0.0</td>\n",
       "      <td>3</td>\n",
       "      <td>1</td>\n",
       "    </tr>\n",
       "    <tr>\n",
       "      <th>10180</th>\n",
       "      <td>-0.273784</td>\n",
       "      <td>-0.028524</td>\n",
       "      <td>-1.207188</td>\n",
       "      <td>0.060625</td>\n",
       "      <td>1.679148</td>\n",
       "      <td>-0.085788</td>\n",
       "      <td>-0.720507</td>\n",
       "      <td>0.0</td>\n",
       "      <td>1.0</td>\n",
       "      <td>0.0</td>\n",
       "      <td>0.0</td>\n",
       "      <td>0.0</td>\n",
       "      <td>0.0</td>\n",
       "      <td>0.0</td>\n",
       "      <td>1.0</td>\n",
       "      <td>5</td>\n",
       "      <td>0</td>\n",
       "    </tr>\n",
       "  </tbody>\n",
       "</table>\n",
       "</div>"
      ],
      "text/plain": [
       "       person_age  person_income  person_emp_length  loan_amnt  loan_int_rate  \\\n",
       "2041    -0.915690      -0.919417          -0.698542  -1.148087      -0.799068   \n",
       "24032    0.689075       1.700857          -1.207188   0.382948      -0.767738   \n",
       "22695    0.849551       0.652747          -1.207188  -0.261698       0.466671   \n",
       "21454    0.368122       0.181098          -0.444219  -0.100537       0.996150   \n",
       "10180   -0.273784      -0.028524          -1.207188   0.060625       1.679148   \n",
       "\n",
       "       loan_percent_income  cb_person_cred_hist_length  \\\n",
       "2041             -0.852877                   -0.983738   \n",
       "24032            -0.756990                    0.332415   \n",
       "22695            -0.756990                    0.332415   \n",
       "21454            -0.373446                    0.069184   \n",
       "10180            -0.085788                   -0.720507   \n",
       "\n",
       "       person_home_ownership_OWN  person_home_ownership_RENT  \\\n",
       "2041                         0.0                         1.0   \n",
       "24032                        0.0                         0.0   \n",
       "22695                        0.0                         0.0   \n",
       "21454                        0.0                         0.0   \n",
       "10180                        0.0                         1.0   \n",
       "\n",
       "       person_home_ownership_infrequent_sklearn  loan_intent_EDUCATION  \\\n",
       "2041                                        0.0                    1.0   \n",
       "24032                                       0.0                    0.0   \n",
       "22695                                       0.0                    0.0   \n",
       "21454                                       0.0                    0.0   \n",
       "10180                                       0.0                    0.0   \n",
       "\n",
       "       loan_intent_HOMEIMPROVEMENT  loan_intent_MEDICAL  loan_intent_PERSONAL  \\\n",
       "2041                           0.0                  0.0                   0.0   \n",
       "24032                          0.0                  0.0                   1.0   \n",
       "22695                          1.0                  0.0                   0.0   \n",
       "21454                          0.0                  1.0                   0.0   \n",
       "10180                          0.0                  0.0                   0.0   \n",
       "\n",
       "       loan_intent_VENTURE  loan_grade cb_person_default_on_file  \n",
       "2041                   0.0           1                         0  \n",
       "24032                  0.0           1                         0  \n",
       "22695                  0.0           2                         0  \n",
       "21454                  0.0           3                         1  \n",
       "10180                  1.0           5                         0  "
      ]
     },
     "execution_count": 92,
     "metadata": {},
     "output_type": "execute_result"
    }
   ],
   "source": [
    "X_test_transformed = pd.concat([X_test_num_rescaled, X_test_cat_encoded], axis=1)\n",
    "X_test_transformed.head()"
   ]
  },
  {
   "cell_type": "markdown",
   "id": "7de84367",
   "metadata": {},
   "source": [
    "# 8. Model-building & 9. Evaluation Metrics"
   ]
  },
  {
   "cell_type": "markdown",
   "id": "1eea4315",
   "metadata": {},
   "source": [
    "### 8.1. KNN Classification"
   ]
  },
  {
   "cell_type": "code",
   "execution_count": 93,
   "id": "ad372825",
   "metadata": {},
   "outputs": [
    {
     "name": "stdout",
     "output_type": "stream",
     "text": [
      "Time taken: 0.07041400000000042s\n"
     ]
    }
   ],
   "source": [
    "import time\n",
    "start = time.process_time()\n",
    "\n",
    "from sklearn.neighbors import KNeighborsClassifier\n",
    "classifier = KNeighborsClassifier()\n",
    "classifier.fit(X_train_transformed, y_train)\n",
    "\n",
    "time_taken_knn = time.process_time() - start\n",
    "\n",
    "print(f'Time taken: {time_taken_knn}s') # to measure time"
   ]
  },
  {
   "cell_type": "code",
   "execution_count": 94,
   "id": "2e5fe74f",
   "metadata": {},
   "outputs": [],
   "source": [
    "y_test_pred = classifier.predict(X_test_transformed)"
   ]
  },
  {
   "cell_type": "code",
   "execution_count": 95,
   "id": "3ae92834",
   "metadata": {},
   "outputs": [
    {
     "data": {
      "text/html": [
       "<div>\n",
       "<style scoped>\n",
       "    .dataframe tbody tr th:only-of-type {\n",
       "        vertical-align: middle;\n",
       "    }\n",
       "\n",
       "    .dataframe tbody tr th {\n",
       "        vertical-align: top;\n",
       "    }\n",
       "\n",
       "    .dataframe thead th {\n",
       "        text-align: right;\n",
       "    }\n",
       "</style>\n",
       "<table border=\"1\" class=\"dataframe\">\n",
       "  <thead>\n",
       "    <tr style=\"text-align: right;\">\n",
       "      <th></th>\n",
       "      <th>Actual</th>\n",
       "      <th>Predicted</th>\n",
       "    </tr>\n",
       "  </thead>\n",
       "  <tbody>\n",
       "    <tr>\n",
       "      <th>2041</th>\n",
       "      <td>1</td>\n",
       "      <td>0</td>\n",
       "    </tr>\n",
       "    <tr>\n",
       "      <th>24032</th>\n",
       "      <td>0</td>\n",
       "      <td>0</td>\n",
       "    </tr>\n",
       "    <tr>\n",
       "      <th>22695</th>\n",
       "      <td>0</td>\n",
       "      <td>0</td>\n",
       "    </tr>\n",
       "    <tr>\n",
       "      <th>21454</th>\n",
       "      <td>0</td>\n",
       "      <td>0</td>\n",
       "    </tr>\n",
       "    <tr>\n",
       "      <th>10180</th>\n",
       "      <td>1</td>\n",
       "      <td>1</td>\n",
       "    </tr>\n",
       "  </tbody>\n",
       "</table>\n",
       "</div>"
      ],
      "text/plain": [
       "       Actual  Predicted\n",
       "2041        1          0\n",
       "24032       0          0\n",
       "22695       0          0\n",
       "21454       0          0\n",
       "10180       1          1"
      ]
     },
     "execution_count": 95,
     "metadata": {},
     "output_type": "execute_result"
    }
   ],
   "source": [
    "pd.DataFrame({'Actual': y_test,\n",
    "              'Predicted': y_test_pred}).head()"
   ]
  },
  {
   "cell_type": "code",
   "execution_count": 96,
   "id": "21ea4d89",
   "metadata": {
    "scrolled": true
   },
   "outputs": [
    {
     "data": {
      "text/plain": [
       "[5977, 1183]"
      ]
     },
     "execution_count": 96,
     "metadata": {},
     "output_type": "execute_result"
    }
   ],
   "source": [
    "list1 = [list(y_test_pred).count(0),list(y_test_pred).count(1)]\n",
    "list1"
   ]
  },
  {
   "cell_type": "code",
   "execution_count": 97,
   "id": "c9fda34a",
   "metadata": {},
   "outputs": [
    {
     "data": {
      "text/html": [
       "<div>\n",
       "<style scoped>\n",
       "    .dataframe tbody tr th:only-of-type {\n",
       "        vertical-align: middle;\n",
       "    }\n",
       "\n",
       "    .dataframe tbody tr th {\n",
       "        vertical-align: top;\n",
       "    }\n",
       "\n",
       "    .dataframe thead th {\n",
       "        text-align: right;\n",
       "    }\n",
       "</style>\n",
       "<table border=\"1\" class=\"dataframe\">\n",
       "  <thead>\n",
       "    <tr style=\"text-align: right;\">\n",
       "      <th></th>\n",
       "      <th>loan_status</th>\n",
       "    </tr>\n",
       "  </thead>\n",
       "  <tbody>\n",
       "    <tr>\n",
       "      <th>0</th>\n",
       "      <td>5548</td>\n",
       "    </tr>\n",
       "    <tr>\n",
       "      <th>1</th>\n",
       "      <td>1612</td>\n",
       "    </tr>\n",
       "  </tbody>\n",
       "</table>\n",
       "</div>"
      ],
      "text/plain": [
       "   loan_status\n",
       "0         5548\n",
       "1         1612"
      ]
     },
     "execution_count": 97,
     "metadata": {},
     "output_type": "execute_result"
    }
   ],
   "source": [
    "compare_df = y_test.value_counts().to_frame()\n",
    "compare_df"
   ]
  },
  {
   "cell_type": "code",
   "execution_count": 98,
   "id": "abf2d720",
   "metadata": {},
   "outputs": [
    {
     "data": {
      "text/html": [
       "<div>\n",
       "<style scoped>\n",
       "    .dataframe tbody tr th:only-of-type {\n",
       "        vertical-align: middle;\n",
       "    }\n",
       "\n",
       "    .dataframe tbody tr th {\n",
       "        vertical-align: top;\n",
       "    }\n",
       "\n",
       "    .dataframe thead th {\n",
       "        text-align: right;\n",
       "    }\n",
       "</style>\n",
       "<table border=\"1\" class=\"dataframe\">\n",
       "  <thead>\n",
       "    <tr style=\"text-align: right;\">\n",
       "      <th></th>\n",
       "      <th>Actual</th>\n",
       "      <th>Predicted</th>\n",
       "    </tr>\n",
       "  </thead>\n",
       "  <tbody>\n",
       "    <tr>\n",
       "      <th>0</th>\n",
       "      <td>5548</td>\n",
       "      <td>5977</td>\n",
       "    </tr>\n",
       "    <tr>\n",
       "      <th>1</th>\n",
       "      <td>1612</td>\n",
       "      <td>1183</td>\n",
       "    </tr>\n",
       "  </tbody>\n",
       "</table>\n",
       "</div>"
      ],
      "text/plain": [
       "   Actual  Predicted\n",
       "0    5548       5977\n",
       "1    1612       1183"
      ]
     },
     "execution_count": 98,
     "metadata": {},
     "output_type": "execute_result"
    }
   ],
   "source": [
    "compare_df['Predicted'] = list1\n",
    "compare_df.columns = ['Actual', 'Predicted']\n",
    "compare_df"
   ]
  },
  {
   "cell_type": "code",
   "execution_count": 99,
   "id": "36ed5922",
   "metadata": {},
   "outputs": [],
   "source": [
    "import warnings\n",
    "warnings.filterwarnings(\"ignore\")"
   ]
  },
  {
   "cell_type": "code",
   "execution_count": 100,
   "id": "34b5676e",
   "metadata": {},
   "outputs": [
    {
     "data": {
      "image/png": "[encoded data removed]",
      "text/plain": [
       "<Figure size 720x432 with 2 Axes>"
      ]
     },
     "metadata": {
      "needs_background": "light"
     },
     "output_type": "display_data"
    }
   ],
   "source": [
    "fig, axes = plt.subplots(1, 2, figsize=(10, 6), sharey = True)\n",
    "\n",
    "ax = sns.countplot(y_test, palette=\"husl\", ax=axes[0])\n",
    "ax.set_xticklabels(ax.get_xticklabels(),rotation=0)\n",
    "\n",
    "for i in ax.containers:\n",
    "    ax.bar_label(i,)\n",
    "\n",
    "ax = sns.countplot(y_test_pred, palette=\"mako\", ax=axes[1])\n",
    "ax.set_xticklabels(ax.get_xticklabels(),rotation=0)\n",
    "\n",
    "for i in ax.containers:\n",
    "    ax.bar_label(i,)"
   ]
  },
  {
   "cell_type": "markdown",
   "id": "e8adaddf",
   "metadata": {},
   "source": [
    "### 9.1. Evaluation Metrics for KNN Classification"
   ]
  },
  {
   "cell_type": "code",
   "execution_count": 101,
   "id": "90562b6c",
   "metadata": {},
   "outputs": [
    {
     "name": "stdout",
     "output_type": "stream",
     "text": [
      "Accuracy of the classifier is: 88.78%\n"
     ]
    }
   ],
   "source": [
    "from sklearn.metrics import accuracy_score\n",
    "\n",
    "# Calculating the accuracy of classifier\n",
    "print(f\"Accuracy of the classifier is: {round(accuracy_score(y_test, y_test_pred) * 100, 2)}%\")"
   ]
  },
  {
   "cell_type": "code",
   "execution_count": 102,
   "id": "cd0c1465",
   "metadata": {},
   "outputs": [],
   "source": [
    "accuracy_knn = round(accuracy_score(y_test, y_test_pred) * 100, 2)"
   ]
  },
  {
   "cell_type": "markdown",
   "id": "387a52de",
   "metadata": {},
   "source": [
    "### 8.2. Logistic Regression"
   ]
  },
  {
   "cell_type": "code",
   "execution_count": 103,
   "id": "46d72b0e",
   "metadata": {},
   "outputs": [
    {
     "name": "stdout",
     "output_type": "stream",
     "text": [
      "Time taken: 0.40577299999999994s\n"
     ]
    }
   ],
   "source": [
    "import time\n",
    "start = time.process_time()\n",
    "\n",
    "from sklearn.linear_model import LogisticRegression\n",
    "classifier = LogisticRegression()\n",
    "classifier.fit(X_train_transformed, y_train)\n",
    "\n",
    "time_taken_logistic = time.process_time() - start\n",
    "\n",
    "print(f'Time taken: {time_taken_logistic}s') # to measure time"
   ]
  },
  {
   "cell_type": "code",
   "execution_count": 104,
   "id": "8bb8e7ab",
   "metadata": {},
   "outputs": [],
   "source": [
    "y_test_pred = classifier.predict(X_test_transformed)"
   ]
  },
  {
   "cell_type": "code",
   "execution_count": 105,
   "id": "f2bc1450",
   "metadata": {},
   "outputs": [
    {
     "data": {
      "text/html": [
       "<div>\n",
       "<style scoped>\n",
       "    .dataframe tbody tr th:only-of-type {\n",
       "        vertical-align: middle;\n",
       "    }\n",
       "\n",
       "    .dataframe tbody tr th {\n",
       "        vertical-align: top;\n",
       "    }\n",
       "\n",
       "    .dataframe thead th {\n",
       "        text-align: right;\n",
       "    }\n",
       "</style>\n",
       "<table border=\"1\" class=\"dataframe\">\n",
       "  <thead>\n",
       "    <tr style=\"text-align: right;\">\n",
       "      <th></th>\n",
       "      <th>Actual</th>\n",
       "      <th>Predicted</th>\n",
       "    </tr>\n",
       "  </thead>\n",
       "  <tbody>\n",
       "    <tr>\n",
       "      <th>2041</th>\n",
       "      <td>1</td>\n",
       "      <td>0</td>\n",
       "    </tr>\n",
       "    <tr>\n",
       "      <th>24032</th>\n",
       "      <td>0</td>\n",
       "      <td>0</td>\n",
       "    </tr>\n",
       "    <tr>\n",
       "      <th>22695</th>\n",
       "      <td>0</td>\n",
       "      <td>0</td>\n",
       "    </tr>\n",
       "    <tr>\n",
       "      <th>21454</th>\n",
       "      <td>0</td>\n",
       "      <td>0</td>\n",
       "    </tr>\n",
       "    <tr>\n",
       "      <th>10180</th>\n",
       "      <td>1</td>\n",
       "      <td>1</td>\n",
       "    </tr>\n",
       "  </tbody>\n",
       "</table>\n",
       "</div>"
      ],
      "text/plain": [
       "       Actual  Predicted\n",
       "2041        1          0\n",
       "24032       0          0\n",
       "22695       0          0\n",
       "21454       0          0\n",
       "10180       1          1"
      ]
     },
     "execution_count": 105,
     "metadata": {},
     "output_type": "execute_result"
    }
   ],
   "source": [
    "pd.DataFrame({'Actual': y_test,\n",
    "              'Predicted': y_test_pred}).head()"
   ]
  },
  {
   "cell_type": "code",
   "execution_count": 106,
   "id": "911aebba",
   "metadata": {},
   "outputs": [
    {
     "data": {
      "text/plain": [
       "[6099, 1061]"
      ]
     },
     "execution_count": 106,
     "metadata": {},
     "output_type": "execute_result"
    }
   ],
   "source": [
    "list1 = [list(y_test_pred).count(0),list(y_test_pred).count(1)]\n",
    "list1"
   ]
  },
  {
   "cell_type": "code",
   "execution_count": 107,
   "id": "dcf6c7d2",
   "metadata": {},
   "outputs": [
    {
     "data": {
      "text/html": [
       "<div>\n",
       "<style scoped>\n",
       "    .dataframe tbody tr th:only-of-type {\n",
       "        vertical-align: middle;\n",
       "    }\n",
       "\n",
       "    .dataframe tbody tr th {\n",
       "        vertical-align: top;\n",
       "    }\n",
       "\n",
       "    .dataframe thead th {\n",
       "        text-align: right;\n",
       "    }\n",
       "</style>\n",
       "<table border=\"1\" class=\"dataframe\">\n",
       "  <thead>\n",
       "    <tr style=\"text-align: right;\">\n",
       "      <th></th>\n",
       "      <th>Actual</th>\n",
       "      <th>Predicted</th>\n",
       "    </tr>\n",
       "  </thead>\n",
       "  <tbody>\n",
       "    <tr>\n",
       "      <th>0</th>\n",
       "      <td>5548</td>\n",
       "      <td>6099</td>\n",
       "    </tr>\n",
       "    <tr>\n",
       "      <th>1</th>\n",
       "      <td>1612</td>\n",
       "      <td>1061</td>\n",
       "    </tr>\n",
       "  </tbody>\n",
       "</table>\n",
       "</div>"
      ],
      "text/plain": [
       "   Actual  Predicted\n",
       "0    5548       6099\n",
       "1    1612       1061"
      ]
     },
     "execution_count": 107,
     "metadata": {},
     "output_type": "execute_result"
    }
   ],
   "source": [
    "compare_df['Predicted'] = list1\n",
    "compare_df.columns = ['Actual', 'Predicted']\n",
    "compare_df"
   ]
  },
  {
   "cell_type": "code",
   "execution_count": 108,
   "id": "df133b12",
   "metadata": {},
   "outputs": [
    {
     "data": {
      "image/png": "[encoded data removed]",
      "text/plain": [
       "<Figure size 720x432 with 2 Axes>"
      ]
     },
     "metadata": {
      "needs_background": "light"
     },
     "output_type": "display_data"
    }
   ],
   "source": [
    "fig, axes = plt.subplots(1, 2, figsize=(10, 6), sharey = True)\n",
    "\n",
    "ax = sns.countplot(y_test, palette=\"husl\", ax=axes[0])\n",
    "ax.set_xticklabels(ax.get_xticklabels(),rotation=0)\n",
    "\n",
    "for i in ax.containers:\n",
    "    ax.bar_label(i,)\n",
    "\n",
    "ax = sns.countplot(y_test_pred, palette=\"mako\", ax=axes[1])\n",
    "ax.set_xticklabels(ax.get_xticklabels(),rotation=0)\n",
    "\n",
    "for i in ax.containers:\n",
    "    ax.bar_label(i,)"
   ]
  },
  {
   "cell_type": "markdown",
   "id": "6ef2a808",
   "metadata": {},
   "source": [
    "### 9.2. Evaluation Metrics for Logistic Regression"
   ]
  },
  {
   "cell_type": "code",
   "execution_count": 109,
   "id": "28d033ae",
   "metadata": {},
   "outputs": [
    {
     "name": "stdout",
     "output_type": "stream",
     "text": [
      "Accuracy of the classifier is: 84.93%\n"
     ]
    }
   ],
   "source": [
    "from sklearn.metrics import accuracy_score\n",
    "\n",
    "# Calculating the accuracy of classifier\n",
    "print(f\"Accuracy of the classifier is: {round(accuracy_score(y_test, y_test_pred) * 100, 2)}%\")"
   ]
  },
  {
   "cell_type": "code",
   "execution_count": 110,
   "id": "6efc1de3",
   "metadata": {},
   "outputs": [],
   "source": [
    "accuracy_logistic = round(accuracy_score(y_test, y_test_pred) * 100, 2)"
   ]
  },
  {
   "cell_type": "markdown",
   "id": "ad025bb7",
   "metadata": {},
   "source": [
    "### 8.3. Decision Tree"
   ]
  },
  {
   "cell_type": "code",
   "execution_count": 111,
   "id": "759945e5",
   "metadata": {},
   "outputs": [
    {
     "name": "stdout",
     "output_type": "stream",
     "text": [
      "Time taken: 0.1723870000000005s\n"
     ]
    }
   ],
   "source": [
    "import time\n",
    "start = time.process_time()\n",
    "\n",
    "from sklearn.tree import DecisionTreeClassifier\n",
    "classifier = DecisionTreeClassifier()\n",
    "classifier.fit(X_train_transformed, y_train)\n",
    "\n",
    "time_taken_dt = time.process_time() - start\n",
    "\n",
    "print(f'Time taken: {time_taken_dt}s') # to measure time"
   ]
  },
  {
   "cell_type": "code",
   "execution_count": 112,
   "id": "ac6c64e3",
   "metadata": {},
   "outputs": [],
   "source": [
    "y_test_pred = classifier.predict(X_test_transformed)"
   ]
  },
  {
   "cell_type": "code",
   "execution_count": 113,
   "id": "e15e0fe3",
   "metadata": {},
   "outputs": [
    {
     "data": {
      "text/html": [
       "<div>\n",
       "<style scoped>\n",
       "    .dataframe tbody tr th:only-of-type {\n",
       "        vertical-align: middle;\n",
       "    }\n",
       "\n",
       "    .dataframe tbody tr th {\n",
       "        vertical-align: top;\n",
       "    }\n",
       "\n",
       "    .dataframe thead th {\n",
       "        text-align: right;\n",
       "    }\n",
       "</style>\n",
       "<table border=\"1\" class=\"dataframe\">\n",
       "  <thead>\n",
       "    <tr style=\"text-align: right;\">\n",
       "      <th></th>\n",
       "      <th>Actual</th>\n",
       "      <th>Predicted</th>\n",
       "    </tr>\n",
       "  </thead>\n",
       "  <tbody>\n",
       "    <tr>\n",
       "      <th>2041</th>\n",
       "      <td>1</td>\n",
       "      <td>0</td>\n",
       "    </tr>\n",
       "    <tr>\n",
       "      <th>24032</th>\n",
       "      <td>0</td>\n",
       "      <td>0</td>\n",
       "    </tr>\n",
       "    <tr>\n",
       "      <th>22695</th>\n",
       "      <td>0</td>\n",
       "      <td>1</td>\n",
       "    </tr>\n",
       "    <tr>\n",
       "      <th>21454</th>\n",
       "      <td>0</td>\n",
       "      <td>0</td>\n",
       "    </tr>\n",
       "    <tr>\n",
       "      <th>10180</th>\n",
       "      <td>1</td>\n",
       "      <td>1</td>\n",
       "    </tr>\n",
       "  </tbody>\n",
       "</table>\n",
       "</div>"
      ],
      "text/plain": [
       "       Actual  Predicted\n",
       "2041        1          0\n",
       "24032       0          0\n",
       "22695       0          1\n",
       "21454       0          0\n",
       "10180       1          1"
      ]
     },
     "execution_count": 113,
     "metadata": {},
     "output_type": "execute_result"
    }
   ],
   "source": [
    "pd.DataFrame({'Actual': y_test,\n",
    "              'Predicted': y_test_pred}).head()"
   ]
  },
  {
   "cell_type": "code",
   "execution_count": 114,
   "id": "82f3de99",
   "metadata": {},
   "outputs": [
    {
     "data": {
      "text/plain": [
       "[5502, 1658]"
      ]
     },
     "execution_count": 114,
     "metadata": {},
     "output_type": "execute_result"
    }
   ],
   "source": [
    "list1 = [list(y_test_pred).count(0),list(y_test_pred).count(1)]\n",
    "list1"
   ]
  },
  {
   "cell_type": "code",
   "execution_count": 115,
   "id": "4c05ef87",
   "metadata": {},
   "outputs": [
    {
     "data": {
      "text/html": [
       "<div>\n",
       "<style scoped>\n",
       "    .dataframe tbody tr th:only-of-type {\n",
       "        vertical-align: middle;\n",
       "    }\n",
       "\n",
       "    .dataframe tbody tr th {\n",
       "        vertical-align: top;\n",
       "    }\n",
       "\n",
       "    .dataframe thead th {\n",
       "        text-align: right;\n",
       "    }\n",
       "</style>\n",
       "<table border=\"1\" class=\"dataframe\">\n",
       "  <thead>\n",
       "    <tr style=\"text-align: right;\">\n",
       "      <th></th>\n",
       "      <th>Actual</th>\n",
       "      <th>Predicted</th>\n",
       "    </tr>\n",
       "  </thead>\n",
       "  <tbody>\n",
       "    <tr>\n",
       "      <th>0</th>\n",
       "      <td>5548</td>\n",
       "      <td>5502</td>\n",
       "    </tr>\n",
       "    <tr>\n",
       "      <th>1</th>\n",
       "      <td>1612</td>\n",
       "      <td>1658</td>\n",
       "    </tr>\n",
       "  </tbody>\n",
       "</table>\n",
       "</div>"
      ],
      "text/plain": [
       "   Actual  Predicted\n",
       "0    5548       5502\n",
       "1    1612       1658"
      ]
     },
     "execution_count": 115,
     "metadata": {},
     "output_type": "execute_result"
    }
   ],
   "source": [
    "compare_df['Predicted'] = list1\n",
    "compare_df.columns = ['Actual', 'Predicted']\n",
    "compare_df"
   ]
  },
  {
   "cell_type": "code",
   "execution_count": 116,
   "id": "bc941b8d",
   "metadata": {},
   "outputs": [
    {
     "data": {
      "image/png": "[encoded data removed]",
      "text/plain": [
       "<Figure size 720x432 with 2 Axes>"
      ]
     },
     "metadata": {
      "needs_background": "light"
     },
     "output_type": "display_data"
    }
   ],
   "source": [
    "fig, axes = plt.subplots(1, 2, figsize=(10, 6), sharey = True)\n",
    "\n",
    "ax = sns.countplot(y_test, palette=\"husl\", ax=axes[0])\n",
    "ax.set_xticklabels(ax.get_xticklabels(),rotation=0)\n",
    "\n",
    "for i in ax.containers:\n",
    "    ax.bar_label(i,)\n",
    "\n",
    "ax = sns.countplot(y_test_pred, palette=\"mako\", ax=axes[1])\n",
    "ax.set_xticklabels(ax.get_xticklabels(),rotation=0)\n",
    "\n",
    "for i in ax.containers:\n",
    "    ax.bar_label(i,)"
   ]
  },
  {
   "cell_type": "markdown",
   "id": "a28e19b8",
   "metadata": {},
   "source": [
    "### 9.3. Evaluation Metrics for Decision Tree"
   ]
  },
  {
   "cell_type": "code",
   "execution_count": 117,
   "id": "b00028f1",
   "metadata": {},
   "outputs": [
    {
     "name": "stdout",
     "output_type": "stream",
     "text": [
      "Accuracy of the classifier is: 88.49%\n"
     ]
    }
   ],
   "source": [
    "from sklearn.metrics import accuracy_score\n",
    "\n",
    "# Calculating the accuracy of classifier\n",
    "print(f\"Accuracy of the classifier is: {round(accuracy_score(y_test, y_test_pred) * 100, 2)}%\")"
   ]
  },
  {
   "cell_type": "code",
   "execution_count": 118,
   "id": "b8898e15",
   "metadata": {},
   "outputs": [],
   "source": [
    "accuracy_dt = round(accuracy_score(y_test, y_test_pred) * 100, 2)"
   ]
  },
  {
   "cell_type": "markdown",
   "id": "2aa29de8",
   "metadata": {},
   "source": [
    "### 8.4. Random Forest"
   ]
  },
  {
   "cell_type": "code",
   "execution_count": 119,
   "id": "7b1049ac",
   "metadata": {},
   "outputs": [
    {
     "name": "stdout",
     "output_type": "stream",
     "text": [
      "Time taken: 1.6141109999999994s\n"
     ]
    }
   ],
   "source": [
    "import time\n",
    "start = time.process_time()\n",
    "\n",
    "from sklearn.ensemble import RandomForestClassifier\n",
    "classifier = RandomForestClassifier()\n",
    "classifier.fit(X_train_transformed, y_train)\n",
    "\n",
    "time_taken_rf = time.process_time() - start\n",
    "\n",
    "print(f'Time taken: {time_taken_rf}s') # to measure time"
   ]
  },
  {
   "cell_type": "code",
   "execution_count": 120,
   "id": "91e4f4d9",
   "metadata": {},
   "outputs": [],
   "source": [
    "y_test_pred = classifier.predict(X_test_transformed)"
   ]
  },
  {
   "cell_type": "code",
   "execution_count": 121,
   "id": "cfd8550f",
   "metadata": {},
   "outputs": [
    {
     "data": {
      "text/html": [
       "<div>\n",
       "<style scoped>\n",
       "    .dataframe tbody tr th:only-of-type {\n",
       "        vertical-align: middle;\n",
       "    }\n",
       "\n",
       "    .dataframe tbody tr th {\n",
       "        vertical-align: top;\n",
       "    }\n",
       "\n",
       "    .dataframe thead th {\n",
       "        text-align: right;\n",
       "    }\n",
       "</style>\n",
       "<table border=\"1\" class=\"dataframe\">\n",
       "  <thead>\n",
       "    <tr style=\"text-align: right;\">\n",
       "      <th></th>\n",
       "      <th>Actual</th>\n",
       "      <th>Predicted</th>\n",
       "    </tr>\n",
       "  </thead>\n",
       "  <tbody>\n",
       "    <tr>\n",
       "      <th>2041</th>\n",
       "      <td>1</td>\n",
       "      <td>0</td>\n",
       "    </tr>\n",
       "    <tr>\n",
       "      <th>24032</th>\n",
       "      <td>0</td>\n",
       "      <td>0</td>\n",
       "    </tr>\n",
       "    <tr>\n",
       "      <th>22695</th>\n",
       "      <td>0</td>\n",
       "      <td>0</td>\n",
       "    </tr>\n",
       "    <tr>\n",
       "      <th>21454</th>\n",
       "      <td>0</td>\n",
       "      <td>0</td>\n",
       "    </tr>\n",
       "    <tr>\n",
       "      <th>10180</th>\n",
       "      <td>1</td>\n",
       "      <td>1</td>\n",
       "    </tr>\n",
       "  </tbody>\n",
       "</table>\n",
       "</div>"
      ],
      "text/plain": [
       "       Actual  Predicted\n",
       "2041        1          0\n",
       "24032       0          0\n",
       "22695       0          0\n",
       "21454       0          0\n",
       "10180       1          1"
      ]
     },
     "execution_count": 121,
     "metadata": {},
     "output_type": "execute_result"
    }
   ],
   "source": [
    "pd.DataFrame({'Actual': y_test,\n",
    "              'Predicted': y_test_pred}).head()"
   ]
  },
  {
   "cell_type": "code",
   "execution_count": 122,
   "id": "28f0455e",
   "metadata": {},
   "outputs": [
    {
     "data": {
      "text/plain": [
       "[5961, 1199]"
      ]
     },
     "execution_count": 122,
     "metadata": {},
     "output_type": "execute_result"
    }
   ],
   "source": [
    "list1 = [list(y_test_pred).count(0),list(y_test_pred).count(1)]\n",
    "list1"
   ]
  },
  {
   "cell_type": "code",
   "execution_count": 123,
   "id": "114199b5",
   "metadata": {},
   "outputs": [
    {
     "data": {
      "text/html": [
       "<div>\n",
       "<style scoped>\n",
       "    .dataframe tbody tr th:only-of-type {\n",
       "        vertical-align: middle;\n",
       "    }\n",
       "\n",
       "    .dataframe tbody tr th {\n",
       "        vertical-align: top;\n",
       "    }\n",
       "\n",
       "    .dataframe thead th {\n",
       "        text-align: right;\n",
       "    }\n",
       "</style>\n",
       "<table border=\"1\" class=\"dataframe\">\n",
       "  <thead>\n",
       "    <tr style=\"text-align: right;\">\n",
       "      <th></th>\n",
       "      <th>Actual</th>\n",
       "      <th>Predicted</th>\n",
       "    </tr>\n",
       "  </thead>\n",
       "  <tbody>\n",
       "    <tr>\n",
       "      <th>0</th>\n",
       "      <td>5548</td>\n",
       "      <td>5961</td>\n",
       "    </tr>\n",
       "    <tr>\n",
       "      <th>1</th>\n",
       "      <td>1612</td>\n",
       "      <td>1199</td>\n",
       "    </tr>\n",
       "  </tbody>\n",
       "</table>\n",
       "</div>"
      ],
      "text/plain": [
       "   Actual  Predicted\n",
       "0    5548       5961\n",
       "1    1612       1199"
      ]
     },
     "execution_count": 123,
     "metadata": {},
     "output_type": "execute_result"
    }
   ],
   "source": [
    "compare_df['Predicted'] = list1\n",
    "compare_df.columns = ['Actual', 'Predicted']\n",
    "compare_df"
   ]
  },
  {
   "cell_type": "code",
   "execution_count": 124,
   "id": "d53568b3",
   "metadata": {},
   "outputs": [
    {
     "data": {
      "image/png": "[encoded data removed]",
      "text/plain": [
       "<Figure size 720x432 with 2 Axes>"
      ]
     },
     "metadata": {
      "needs_background": "light"
     },
     "output_type": "display_data"
    }
   ],
   "source": [
    "fig, axes = plt.subplots(1, 2, figsize=(10, 6), sharey = True)\n",
    "\n",
    "ax = sns.countplot(y_test, palette=\"husl\", ax=axes[0])\n",
    "ax.set_xticklabels(ax.get_xticklabels(),rotation=0)\n",
    "\n",
    "for i in ax.containers:\n",
    "    ax.bar_label(i,)\n",
    "\n",
    "ax = sns.countplot(y_test_pred, palette=\"mako\", ax=axes[1])\n",
    "ax.set_xticklabels(ax.get_xticklabels(),rotation=0)\n",
    "\n",
    "for i in ax.containers:\n",
    "    ax.bar_label(i,)"
   ]
  },
  {
   "cell_type": "markdown",
   "id": "fa9e046a",
   "metadata": {},
   "source": [
    "### 9.4. Evaluation Metrics for Random Forest"
   ]
  },
  {
   "cell_type": "code",
   "execution_count": 125,
   "id": "2458a7c3",
   "metadata": {},
   "outputs": [
    {
     "name": "stdout",
     "output_type": "stream",
     "text": [
      "Accuracy of the classifier is: 92.97%\n"
     ]
    }
   ],
   "source": [
    "from sklearn.metrics import accuracy_score\n",
    "\n",
    "# Calculating the accuracy of classifier\n",
    "print(f\"Accuracy of the classifier is: {round(accuracy_score(y_test, y_test_pred) * 100, 2)}%\")"
   ]
  },
  {
   "cell_type": "code",
   "execution_count": 126,
   "id": "6fc75661",
   "metadata": {},
   "outputs": [],
   "source": [
    "accuracy_rf = round(accuracy_score(y_test, y_test_pred) * 100, 2)"
   ]
  },
  {
   "cell_type": "code",
   "execution_count": 127,
   "id": "e66596e5",
   "metadata": {},
   "outputs": [],
   "source": [
    "algorithms = ['KNN Classification', 'Logistic Regression', 'Decision Tree Classification', 'Random Forest Classification']"
   ]
  },
  {
   "cell_type": "code",
   "execution_count": 128,
   "id": "801528ff",
   "metadata": {},
   "outputs": [],
   "source": [
    "accuracies = [accuracy_knn, accuracy_logistic, accuracy_dt, accuracy_rf]"
   ]
  },
  {
   "cell_type": "code",
   "execution_count": 129,
   "id": "b56db864",
   "metadata": {},
   "outputs": [],
   "source": [
    "time_taken = [time_taken_knn, time_taken_logistic, time_taken_dt, time_taken_rf]"
   ]
  },
  {
   "cell_type": "code",
   "execution_count": 130,
   "id": "5924b006",
   "metadata": {},
   "outputs": [
    {
     "data": {
      "text/html": [
       "<div>\n",
       "<style scoped>\n",
       "    .dataframe tbody tr th:only-of-type {\n",
       "        vertical-align: middle;\n",
       "    }\n",
       "\n",
       "    .dataframe tbody tr th {\n",
       "        vertical-align: top;\n",
       "    }\n",
       "\n",
       "    .dataframe thead th {\n",
       "        text-align: right;\n",
       "    }\n",
       "</style>\n",
       "<table border=\"1\" class=\"dataframe\">\n",
       "  <thead>\n",
       "    <tr style=\"text-align: right;\">\n",
       "      <th></th>\n",
       "      <th>Accuracy</th>\n",
       "      <th>Time Taken</th>\n",
       "    </tr>\n",
       "  </thead>\n",
       "  <tbody>\n",
       "    <tr>\n",
       "      <th>KNN Classification</th>\n",
       "      <td>88.78</td>\n",
       "      <td>0.070414</td>\n",
       "    </tr>\n",
       "    <tr>\n",
       "      <th>Logistic Regression</th>\n",
       "      <td>84.93</td>\n",
       "      <td>0.405773</td>\n",
       "    </tr>\n",
       "    <tr>\n",
       "      <th>Decision Tree Classification</th>\n",
       "      <td>88.49</td>\n",
       "      <td>0.172387</td>\n",
       "    </tr>\n",
       "    <tr>\n",
       "      <th>Random Forest Classification</th>\n",
       "      <td>92.97</td>\n",
       "      <td>1.614111</td>\n",
       "    </tr>\n",
       "  </tbody>\n",
       "</table>\n",
       "</div>"
      ],
      "text/plain": [
       "                              Accuracy  Time Taken\n",
       "KNN Classification               88.78    0.070414\n",
       "Logistic Regression              84.93    0.405773\n",
       "Decision Tree Classification     88.49    0.172387\n",
       "Random Forest Classification     92.97    1.614111"
      ]
     },
     "execution_count": 130,
     "metadata": {},
     "output_type": "execute_result"
    }
   ],
   "source": [
    "eval_table = pd.DataFrame({'Accuracy': accuracies,\n",
    "                          'Time Taken': time_taken},\n",
    "                         index=algorithms)\n",
    "eval_table"
   ]
  },
  {
   "cell_type": "markdown",
   "id": "44aa5b26",
   "metadata": {},
   "source": [
    "_Even after handling the outliers, the accuracies of the algorithms are similar to the accuracies before handling outliers_"
   ]
  }
 ],
 "metadata": {
  "kernelspec": {
   "display_name": "Python 3 (ipykernel)",
   "language": "python",
   "name": "python3"
  },
  "language_info": {
   "codemirror_mode": {
    "name": "ipython",
    "version": 3
   },
   "file_extension": ".py",
   "mimetype": "text/x-python",
   "name": "python",
   "nbconvert_exporter": "python",
   "pygments_lexer": "ipython3",
   "version": "3.11.5"
  }
 },
 "nbformat": 4,
 "nbformat_minor": 5
}
